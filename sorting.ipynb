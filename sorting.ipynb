{
 "cells": [
  {
   "cell_type": "code",
   "execution_count": null,
   "source": [
    "#2751\r\n",
    "n = int(input())\r\n",
    "lst = []\r\n",
    "for i in range(n) :\r\n",
    "    \r\n",
    "    # t = int(input())\r\n",
    "    # lst.append(t)\r\n",
    "    \r\n",
    "\r\n",
    "for i in sorted(lst) :\r\n",
    "    print(i)\r\n",
    "    \r\n",
    "#시간 초과\r\n",
    "#반복문으로 여러줄 입력받는 상황에서는 반드시 sys.stdin.readline()을 사용해야 시간초과가 발생하지 않습니다.\r\n",
    "\r\n",
    "import sys\r\n",
    "\r\n",
    "n = int(input())\r\n",
    "lst = []\r\n",
    "for i in range(n) :    \r\n",
    "    lst.append(int(sys.stdin.readline()))\r\n",
    "               \r\n",
    "# print(lst)\r\n",
    "for i in sorted(lst) :\r\n",
    "    print(i)"
   ],
   "outputs": [],
   "metadata": {}
  },
  {
   "cell_type": "code",
   "execution_count": null,
   "source": [
    "#11650\r\n",
    "import sys\r\n",
    "n = int(input())\r\n",
    "lst = []\r\n",
    "\r\n",
    "for i in range(n):\r\n",
    "    [a,b] = map(str, sys.stdin.readline().split())\r\n",
    "    lst.append([int(a),i,b])\r\n",
    "\r\n",
    "for i in sorted(lst) :\r\n",
    "    print(i[0],i[1])\r\n",
    "    "
   ],
   "outputs": [],
   "metadata": {}
  },
  {
   "cell_type": "code",
   "execution_count": 7,
   "source": [
    "lst = [[1,2],[1,-1],[1,3],[2,2],[3,2]]\r\n",
    "sorted(lst)\r\n"
   ],
   "outputs": [
    {
     "output_type": "execute_result",
     "data": {
      "text/plain": [
       "[[1, -1], [1, 2], [1, 3], [2, 2], [3, 2]]"
      ]
     },
     "metadata": {},
     "execution_count": 7
    }
   ],
   "metadata": {}
  },
  {
   "cell_type": "code",
   "execution_count": null,
   "source": [
    "#11651\r\n",
    "import sys\r\n",
    "n = int(input())\r\n",
    "lst = []\r\n",
    "\r\n",
    "for i in range(n):\r\n",
    "    [a,b] = map(int, sys.stdin.readline().split())\r\n",
    "    lst.append([b,a])\r\n",
    "\r\n",
    "for i in sorted(lst) :\r\n",
    "    print(i[1],i[0])"
   ],
   "outputs": [],
   "metadata": {}
  },
  {
   "cell_type": "code",
   "execution_count": null,
   "source": [
    "#10814\r\n",
    "import sys\r\n",
    "n = int(input())\r\n",
    "lst = []\r\n",
    "\r\n",
    "for i in range(n):\r\n",
    "    [a,b] = map(str, sys.stdin.readline().split())\r\n",
    "    lst.append([int(a),i,b])\r\n",
    "\r\n",
    "for j in sorted(lst) :\r\n",
    "    print(j[0],j[2])"
   ],
   "outputs": [],
   "metadata": {}
  },
  {
   "cell_type": "code",
   "execution_count": null,
   "source": [
    "#10825\r\n",
    "import sys\r\n",
    "n = int(input())\r\n",
    "lst = []\r\n",
    "\r\n",
    "for i in range(n):\r\n",
    "    [name, a,b,c] = map(str, sys.stdin.readline().split())\r\n",
    "    \r\n",
    "    lst.append([name, -int(a),int(b),-int(c)])\r\n",
    "\r\n",
    "for j in sorted(lst) :\r\n",
    "    print(j[0])"
   ],
   "outputs": [],
   "metadata": {}
  },
  {
   "cell_type": "code",
   "execution_count": null,
   "source": [
    "#10989\r\n",
    "import sys\r\n",
    "\r\n",
    "n = int(input())\r\n",
    "lst = [0 for _ in range(10001)]\r\n",
    "for i in range(n) :    \r\n",
    "    lst[i] = int(sys.stdin.readline())\r\n",
    "               \r\n",
    "for i in range(10001):\r\n",
    "    if lst[i] > 0 :\r\n",
    "        for j in range(list[i]) :\r\n",
    "            print(i)\r\n",
    "                \r\n",
    "# 메모리 초과\r\n",
    "# for문 속에서 append를 사용하게 되면 메모리 재할당이 이루어져서 메모리를 효율적으로 사용못한다\r\n",
    "# map() 함수를 사용하면 파이썬 내부적으로 연산과 메모리를 관리하기 때문에 효율적으로 모든 요소에 함수를 적용할 수 있다\r\n",
    "\r\n",
    "import sys\r\n",
    "\r\n",
    "n = int(input())\r\n",
    "lst = [0] * 10001\r\n",
    "for i in range(n) :    \r\n",
    "    lst[int(sys.stdin.readline())] += 1\r\n",
    "               \r\n",
    "for i in range(10001):\r\n",
    "    if lst[i] > 0 :\r\n",
    "        for j in range(list[i]) :\r\n",
    "            print(i)"
   ],
   "outputs": [],
   "metadata": {}
  },
  {
   "cell_type": "code",
   "execution_count": 21,
   "source": [
    "#11652\r\n",
    "n = int(input())\r\n",
    "dic = {}\r\n",
    "\r\n",
    "for i in range(n) :\r\n",
    "    t = int(input())\r\n",
    "    if t in dic :\r\n",
    "        dic[t] += 1\r\n",
    "    else :\r\n",
    "        dic[t] = 1\r\n",
    "dic = sorted(dic.items(), key=lambda x: (-x[1],x[0])) # -x[1] 카운트가 가장 많은 것을 먼저 정렬, x[0] 그 이후 작은 값을 정렬\r\n",
    "print(dic[0][0])"
   ],
   "outputs": [
    {
     "output_type": "execute_result",
     "data": {
      "text/plain": [
       "10001"
      ]
     },
     "metadata": {},
     "execution_count": 21
    }
   ],
   "metadata": {}
  },
  {
   "cell_type": "code",
   "execution_count": null,
   "source": [
    "# 11004\r\n",
    "a,b = map(int,input().split())\r\n",
    "c = list(map(int, input().split()))\r\n",
    "print(sorted(c)[b-1])\r\n"
   ],
   "outputs": [],
   "metadata": {}
  }
 ],
 "metadata": {
  "orig_nbformat": 4,
  "language_info": {
   "name": "python",
   "version": "3.7.10",
   "mimetype": "text/x-python",
   "codemirror_mode": {
    "name": "ipython",
    "version": 3
   },
   "pygments_lexer": "ipython3",
   "nbconvert_exporter": "python",
   "file_extension": ".py"
  },
  "kernelspec": {
   "name": "python3",
   "display_name": "Python 3.7.10 64-bit ('exam_cv2': conda)"
  },
  "interpreter": {
   "hash": "19a2027c367e4a8fbf50703f7b521df71edff403eb9eba2200ef5f1febf03a5b"
  }
 },
 "nbformat": 4,
 "nbformat_minor": 2
}