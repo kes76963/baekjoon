{
 "cells": [
  {
   "cell_type": "code",
   "execution_count": null,
   "metadata": {},
   "outputs": [],
   "source": [
    "# 4796 캠핑\n",
    "n = int(input())\n",
    "\n",
    "for _ in range(n) :\n",
    "    l,p,v = map(int,input().split())\n",
    "    \n",
    "    if l+p+v == 0 :\n",
    "        break\n",
    "    a,b = divmod(v,p)\n",
    "    \n",
    "    print(a*l+b)"
   ]
  },
  {
   "cell_type": "code",
   "execution_count": null,
   "metadata": {},
   "outputs": [],
   "source": [
    "def convert(num, base) :\n",
    "    q, r = divmod(num, base)\n",
    "    if q:\n",
    "        return convert(q,base) + str(r)\n",
    "    else :\n",
    "        return str(r)\n",
    "    \n",
    "convert(49,8)"
   ]
  },
  {
   "cell_type": "code",
   "execution_count": null,
   "metadata": {},
   "outputs": [],
   "source": []
  }
 ],
 "metadata": {
  "interpreter": {
   "hash": "19a2027c367e4a8fbf50703f7b521df71edff403eb9eba2200ef5f1febf03a5b"
  },
  "kernelspec": {
   "display_name": "Python 3.7.11 ('exam_cv2')",
   "language": "python",
   "name": "python3"
  },
  "language_info": {
   "name": "python",
   "version": "3.7.11"
  },
  "orig_nbformat": 4
 },
 "nbformat": 4,
 "nbformat_minor": 2
}
