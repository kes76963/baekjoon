{
 "cells": [
  {
   "cell_type": "code",
   "execution_count": null,
   "metadata": {},
   "outputs": [],
   "source": [
    "# 4796 캠핑\n",
    "n = int(input())\n",
    "\n",
    "for _ in range(n) :\n",
    "    l,p,v = map(int,input().split())\n",
    "    \n",
    "    if l+p+v == 0 :\n",
    "        break\n",
    "    a,b = divmod(v,p)\n",
    "    \n",
    "    print(a*l+b)"
   ]
  },
  {
   "cell_type": "code",
   "execution_count": 1,
   "metadata": {},
   "outputs": [
    {
     "data": {
      "text/plain": [
       "'61'"
      ]
     },
     "execution_count": 1,
     "metadata": {},
     "output_type": "execute_result"
    }
   ],
   "source": [
    "import math\n",
    "\n",
    "# 소수 \n",
    "def check(num):\n",
    "    if num == 2 :\n",
    "        return True\n",
    "    if num == 1 or num % 2 == 0 :\n",
    "        return False\n",
    "    \n",
    "    for i in range(3, int(math.sqrt(num))+1, 2) :\n",
    "        if num % i == 0 :\n",
    "            return False\n",
    "        \n",
    "    return True\n",
    "    \n",
    "# 배수\n",
    "def convert(num, base) :\n",
    "    q, r = divmod(num, base)\n",
    "    if q:\n",
    "        return convert(q,base) + str(r)\n",
    "    else :\n",
    "        return str(r)\n",
    "    \n",
    "convert(49,8)\n",
    "\n",
    "def solution(n, k) :\n",
    "    numstr = str(n) if k ==10 else convert(n,k)\n",
    "    nums = numstr.split('0')\n",
    "    \n",
    "    answer = 0\n",
    "    for value in nums :\n",
    "        if len(value) and check(int(value)) :\n",
    "            answer +=1\n"
   ]
  },
  {
   "cell_type": "code",
   "execution_count": null,
   "metadata": {},
   "outputs": [],
   "source": [
    "#bfs"
   ]
  }
 ],
 "metadata": {
  "interpreter": {
   "hash": "9b89dbf827e7738bf2816a99ffce0fb967864b4bd8d6d1dba680060c73ea2b47"
  },
  "kernelspec": {
   "display_name": "Python 3.7.10 ('basic')",
   "language": "python",
   "name": "python3"
  },
  "language_info": {
   "codemirror_mode": {
    "name": "ipython",
    "version": 3
   },
   "file_extension": ".py",
   "mimetype": "text/x-python",
   "name": "python",
   "nbconvert_exporter": "python",
   "pygments_lexer": "ipython3",
   "version": "3.7.10"
  },
  "orig_nbformat": 4
 },
 "nbformat": 4,
 "nbformat_minor": 2
}
