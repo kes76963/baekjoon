{
 "cells": [
  {
   "cell_type": "code",
   "execution_count": null,
   "metadata": {},
   "outputs": [],
   "source": [
    "# 다시 생각..\n",
    "\n",
    "# 1406\n",
    "# 시간 초과 때문에 잘 생각해야 함\n",
    "import sys\n",
    "lstack = list(input())\n",
    "rstack = []\n",
    "num = int(input())\n",
    "    \n",
    "for _ in range(num) :\n",
    "    a = sys.stdin.readline().split()\n",
    "    \n",
    "    if a[0] == 'L':\n",
    "        if lstack :\n",
    "            rstack.append(lstack.pop())\n",
    "    if a[0] == 'D' :\n",
    "        if rstack :\n",
    "            lstack.append(rstack.pop())\n",
    "    if a[0] == 'B' :\n",
    "        if lstack:\n",
    "            lstack.pop()\n",
    "    else :\n",
    "        lstack.append(a[1])\n",
    "print(''.join(lstack+rstack[::-1]))\n",
    "        "
   ]
  },
  {
   "cell_type": "code",
   "execution_count": 14,
   "metadata": {},
   "outputs": [
    {
     "name": "stdout",
     "output_type": "stream",
     "text": [
      "<3, 6, 2, 7, 5, 1, 4>\n"
     ]
    }
   ],
   "source": [
    "# 1158\n",
    "import sys\n",
    "n, k = map(int, sys.stdin.readline().split())\n",
    "# n, k = 7,3\n",
    "j = [i for i in range(1,n+1)]\n",
    "result = []\n",
    "idx =0\n",
    "for _ in range(n):\n",
    "    idx += k -1\n",
    "    if idx >= len(j) :\n",
    "        idx = idx % len(j)\n",
    "    result.append(str(j.pop(idx)))\n",
    "\n",
    "result = ', '.join(result)\n",
    "print(f'<{result}>')     \n",
    "           \n"
   ]
  }
 ],
 "metadata": {
  "interpreter": {
   "hash": "19a2027c367e4a8fbf50703f7b521df71edff403eb9eba2200ef5f1febf03a5b"
  },
  "kernelspec": {
   "display_name": "Python 3.7.11 64-bit ('exam_cv2': conda)",
   "name": "python3"
  },
  "language_info": {
   "codemirror_mode": {
    "name": "ipython",
    "version": 3
   },
   "file_extension": ".py",
   "mimetype": "text/x-python",
   "name": "python",
   "nbconvert_exporter": "python",
   "pygments_lexer": "ipython3",
   "version": "3.7.11"
  },
  "orig_nbformat": 4
 },
 "nbformat": 4,
 "nbformat_minor": 2
}
