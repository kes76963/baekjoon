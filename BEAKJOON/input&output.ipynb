{
 "cells": [
  {
   "cell_type": "code",
   "execution_count": null,
   "metadata": {},
   "outputs": [
    {
     "name": "stdout",
     "output_type": "stream",
     "text": [
      "dfsdf23rg8\n",
      "-8adsad568\n",
      "568gasd\n"
     ]
    }
   ],
   "source": [
    "n = 'dfsdf23rg8-8adsad568568gasd'\n",
    "a = len(n)//10\n",
    "\n",
    "for i in range(0,a) :\n",
    "    print(n[10*i:10*(i+1)])\n",
    "print(n[10*a:])"
   ]
  },
  {
   "cell_type": "code",
   "execution_count": 30,
   "metadata": {},
   "outputs": [
    {
     "name": "stdout",
     "output_type": "stream",
     "text": [
      "*****\n",
      " ****\n",
      "  ***\n",
      "   **\n",
      "    *\n"
     ]
    }
   ],
   "source": [
    "n=5\n",
    "for i in range(n,0,-1):\n",
    "    print(' '*(n-i)+'*'*i)"
   ]
  },
  {
   "cell_type": "code",
   "execution_count": 49,
   "metadata": {},
   "outputs": [
    {
     "name": "stdout",
     "output_type": "stream",
     "text": [
      "*********\n",
      " *******\n",
      "  *****\n",
      "   ***\n",
      "    *\n",
      "   ***\n",
      "  *****\n",
      " *******\n",
      "*********\n"
     ]
    }
   ],
   "source": [
    "n=5\n",
    "for i in range(n,1,-1):\n",
    "    a = 2*i-1\n",
    "    print(' '*(n-i)+'*'*a)\n",
    "for i in range(1,n+1):\n",
    "    a = 2*i-1\n",
    "    print(' '*(n-i)+'*'*a)"
   ]
  },
  {
   "cell_type": "code",
   "execution_count": 45,
   "metadata": {},
   "outputs": [
    {
     "name": "stdout",
     "output_type": "stream",
     "text": [
      "*        *\n",
      "**      **\n",
      "***    ***\n",
      "****  ****\n",
      "**********\n",
      "****  ****\n",
      "***    ***\n",
      "**      **\n",
      "*        *\n"
     ]
    }
   ],
   "source": [
    "for i in range(1,5):\n",
    "    a= '*'*i + ' '*(5-i)\n",
    "    print(a +a[::-1] )\n",
    "for i in range(5,0,-1):\n",
    "    b = '*'*i + ' '*(5-i)\n",
    "    print(b + b[::-1])\n",
    "    "
   ]
  },
  {
   "cell_type": "code",
   "execution_count": 50,
   "metadata": {},
   "outputs": [
    {
     "name": "stdout",
     "output_type": "stream",
     "text": [
      "  *\n",
      " **\n",
      "***\n",
      " **\n",
      "  *\n"
     ]
    }
   ],
   "source": [
    "n=3\n",
    "for i in range(1,3):\n",
    "    print(' '*(n-i)+'*'*i)\n",
    "for i in range(3,0,-1):\n",
    "    print(' '*(n-i)+'*'*i)"
   ]
  },
  {
   "cell_type": "code",
   "execution_count": 70,
   "metadata": {},
   "outputs": [
    {
     "name": "stdout",
     "output_type": "stream",
     "text": [
      "*\n",
      "0\n",
      "*\n"
     ]
    }
   ],
   "source": [
    "print('*')\n",
    "n= \n",
    "# n = int(input())\n",
    "for i in range(1,n+1) :\n",
    "    print(n-i)\n",
    "    print(' '*(n-i) +'*'*1 + (' *')*(i-1))"
   ]
  },
  {
   "cell_type": "code",
   "execution_count": 20,
   "metadata": {},
   "outputs": [
    {
     "name": "stdout",
     "output_type": "stream",
     "text": [
      "    *\n",
      "   * *\n",
      "  *   *\n",
      " *     *\n",
      "*********\n"
     ]
    }
   ],
   "source": [
    "n = int(input())\n",
    "for i in range(1,n) :\n",
    "    if i == 1 :\n",
    "        print(' '*(n-i)+'*')\n",
    "    else :\n",
    "        print(' '*(n-i)+'*'+' '*(2*(i-1) -1)+'*')\n",
    "print('*'*(2*n -1))"
   ]
  }
 ],
 "metadata": {
  "interpreter": {
   "hash": "19a2027c367e4a8fbf50703f7b521df71edff403eb9eba2200ef5f1febf03a5b"
  },
  "kernelspec": {
   "display_name": "Python 3.7.11 64-bit ('exam_cv2': conda)",
   "name": "python3"
  },
  "language_info": {
   "codemirror_mode": {
    "name": "ipython",
    "version": 3
   },
   "file_extension": ".py",
   "mimetype": "text/x-python",
   "name": "python",
   "nbconvert_exporter": "python",
   "pygments_lexer": "ipython3",
   "version": "3.7.11"
  },
  "orig_nbformat": 4
 },
 "nbformat": 4,
 "nbformat_minor": 2
}
