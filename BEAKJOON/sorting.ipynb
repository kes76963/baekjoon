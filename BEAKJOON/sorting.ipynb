{
 "cells": [
  {
   "cell_type": "code",
   "execution_count": null,
   "metadata": {},
   "outputs": [],
   "source": [
    "#2751\n",
    "n = int(input())\n",
    "lst = []\n",
    "for i in range(n) :\n",
    "    \n",
    "    # t = int(input())\n",
    "    # lst.append(t)\n",
    "    \n",
    "\n",
    "for i in sorted(lst) :\n",
    "    print(i)\n",
    "    \n",
    "#시간 초과\n",
    "#반복문으로 여러줄 입력받는 상황에서는 반드시 sys.stdin.readline()을 사용해야 시간초과가 발생하지 않습니다.\n",
    "\n",
    "import sys\n",
    "\n",
    "n = int(input())\n",
    "lst = []\n",
    "for i in range(n) :    \n",
    "    lst.append(int(sys.stdin.readline()))\n",
    "               \n",
    "# print(lst)\n",
    "for i in sorted(lst) :\n",
    "    print(i)"
   ]
  },
  {
   "cell_type": "code",
   "execution_count": null,
   "metadata": {},
   "outputs": [],
   "source": [
    "#11650\n",
    "import sys\n",
    "n = int(input())\n",
    "lst = []\n",
    "\n",
    "for i in range(n):\n",
    "    [a,b] = map(str, sys.stdin.readline().split())\n",
    "    lst.append([int(a),i,b])\n",
    "\n",
    "for i in sorted(lst) :\n",
    "    print(i[0],i[1])\n",
    "    "
   ]
  },
  {
   "cell_type": "code",
   "execution_count": 7,
   "metadata": {},
   "outputs": [
    {
     "data": {
      "text/plain": [
       "[[1, -1], [1, 2], [1, 3], [2, 2], [3, 2]]"
      ]
     },
     "execution_count": 7,
     "metadata": {},
     "output_type": "execute_result"
    }
   ],
   "source": [
    "lst = [[1,2],[1,-1],[1,3],[2,2],[3,2]]\n",
    "sorted(lst)\n"
   ]
  },
  {
   "cell_type": "code",
   "execution_count": null,
   "metadata": {},
   "outputs": [],
   "source": [
    "#11651\n",
    "import sys\n",
    "n = int(input())\n",
    "lst = []\n",
    "\n",
    "for i in range(n):\n",
    "    [a,b] = map(int, sys.stdin.readline().split())\n",
    "    lst.append([b,a])\n",
    "\n",
    "for i in sorted(lst) :\n",
    "    print(i[1],i[0])"
   ]
  },
  {
   "cell_type": "code",
   "execution_count": null,
   "metadata": {},
   "outputs": [],
   "source": [
    "#10814\n",
    "import sys\n",
    "n = int(input())\n",
    "lst = []\n",
    "\n",
    "for i in range(n):\n",
    "    [a,b] = map(str, sys.stdin.readline().split())\n",
    "    lst.append([int(a),i,b])\n",
    "\n",
    "for j in sorted(lst) :\n",
    "    print(j[0],j[2])"
   ]
  },
  {
   "cell_type": "code",
   "execution_count": null,
   "metadata": {},
   "outputs": [],
   "source": [
    "#10825\n",
    "import sys\n",
    "n = int(input())\n",
    "lst = []\n",
    "\n",
    "for i in range(n):\n",
    "    [name, a,b,c] = map(str, sys.stdin.readline().split())\n",
    "    \n",
    "    lst.append([name, -int(a),int(b),-int(c)])\n",
    "\n",
    "for j in sorted(lst) :\n",
    "    print(j[0])"
   ]
  },
  {
   "cell_type": "code",
   "execution_count": null,
   "metadata": {},
   "outputs": [],
   "source": [
    "#10989\n",
    "import sys\n",
    "\n",
    "n = int(input())\n",
    "lst = [0 for _ in range(10001)]\n",
    "for i in range(n) :    \n",
    "    lst[i] = int(sys.stdin.readline())\n",
    "               \n",
    "for i in range(10001):\n",
    "    if lst[i] > 0 :\n",
    "        for j in range(list[i]) :\n",
    "            print(i)\n",
    "                \n",
    "# 메모리 초과\n",
    "# for문 속에서 append를 사용하게 되면 메모리 재할당이 이루어져서 메모리를 효율적으로 사용못한다\n",
    "# map() 함수를 사용하면 파이썬 내부적으로 연산과 메모리를 관리하기 때문에 효율적으로 모든 요소에 함수를 적용할 수 있다\n",
    "\n",
    "import sys\n",
    "\n",
    "n = int(input())\n",
    "lst = [0] * 10001\n",
    "for i in range(n) :    \n",
    "    lst[int(sys.stdin.readline())] += 1\n",
    "               \n",
    "for i in range(10001):\n",
    "    if lst[i] > 0 :\n",
    "        for j in range(list[i]) :\n",
    "            print(i)"
   ]
  },
  {
   "cell_type": "code",
   "execution_count": 21,
   "metadata": {},
   "outputs": [
    {
     "data": {
      "text/plain": [
       "10001"
      ]
     },
     "execution_count": 21,
     "metadata": {},
     "output_type": "execute_result"
    }
   ],
   "source": [
    "#11652\n",
    "n = int(input())\n",
    "dic = {}\n",
    "\n",
    "for i in range(n) :\n",
    "    t = int(input())\n",
    "    if t in dic :\n",
    "        dic[t] += 1\n",
    "    else :\n",
    "        dic[t] = 1\n",
    "dic = sorted(dic.items(), key=lambda x: (-x[1],x[0])) # -x[1] 카운트가 가장 많은 것을 먼저 정렬, x[0] 그 이후 작은 값을 정렬\n",
    "print(dic[0][0])"
   ]
  },
  {
   "cell_type": "code",
   "execution_count": null,
   "metadata": {},
   "outputs": [],
   "source": [
    "# 11004\n",
    "a,b = map(int,input().split())\n",
    "c = list(map(int, input().split()))\n",
    "print(sorted(c)[b-1])\n"
   ]
  }
 ],
 "metadata": {
  "interpreter": {
   "hash": "19a2027c367e4a8fbf50703f7b521df71edff403eb9eba2200ef5f1febf03a5b"
  },
  "kernelspec": {
   "display_name": "Python 3.7.11 64-bit ('exam_cv2': conda)",
   "name": "python3"
  },
  "language_info": {
   "codemirror_mode": {
    "name": "ipython",
    "version": 3
   },
   "file_extension": ".py",
   "mimetype": "text/x-python",
   "name": "python",
   "nbconvert_exporter": "python",
   "pygments_lexer": "ipython3",
   "version": "3.7.11"
  },
  "orig_nbformat": 4
 },
 "nbformat": 4,
 "nbformat_minor": 2
}
