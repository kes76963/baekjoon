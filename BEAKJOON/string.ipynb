{
 "cells": [
  {
   "cell_type": "code",
   "execution_count": 3,
   "metadata": {},
   "outputs": [],
   "source": [
    "from string import ascii_lowercase\n",
    "\n",
    "abc = list(ascii_lowercase)"
   ]
  },
  {
   "cell_type": "code",
   "execution_count": 6,
   "metadata": {},
   "outputs": [
    {
     "name": "stdout",
     "output_type": "stream",
     "text": [
      "{'A': 0, 'B': 0, 'C': 0}\n"
     ]
    }
   ],
   "source": [
    "string_list = ['A','B','C']\n",
    "dictionary = {string : 0 for string in string_list}\n",
    "# dictionary = dict.fromkeys(string_list,0)\n",
    "print(dictionary)\n"
   ]
  },
  {
   "cell_type": "code",
   "execution_count": 8,
   "metadata": {},
   "outputs": [
    {
     "name": "stdout",
     "output_type": "stream",
     "text": [
      "{'A': 1, 'B': 2, 'C': 3}\n"
     ]
    }
   ],
   "source": [
    "string_list = ['A','B','C']\n",
    "int_list = [1, 2, 3]\n",
    "dictionary = dict(zip(string_list, int_list))\n",
    "print(dictionary)"
   ]
  },
  {
   "cell_type": "code",
   "execution_count": 16,
   "metadata": {},
   "outputs": [
    {
     "name": "stdout",
     "output_type": "stream",
     "text": [
      "1 0 1 1 2 0 0 0 0 1 0 0 0 0 0 0 0 0 2 0 0 0 3 0 0 0 "
     ]
    }
   ],
   "source": [
    "#10808\n",
    "\n",
    "from string import ascii_lowercase\n",
    "\n",
    "az = list(ascii_lowercase)\n",
    "dic = {a:0 for a in az}\n",
    "S = input()\n",
    "\n",
    "for i in S :\n",
    "    dic[i] += 1\n",
    "\n",
    "for d in dic.values() :\n",
    "    print(d, end=' ')"
   ]
  },
  {
   "cell_type": "code",
   "execution_count": 3,
   "metadata": {},
   "outputs": [
    {
     "name": "stdout",
     "output_type": "stream",
     "text": [
      "1 0 -1 -1 2 -1 -1 -1 -1 4 3 -1 -1 7 5 -1 -1 -1 -1 -1 -1 -1 -1 -1 -1 -1 "
     ]
    }
   ],
   "source": [
    "#10809\n",
    "from string import ascii_lowercase\n",
    "\n",
    "az = list(ascii_lowercase)\n",
    "dic = {a:-1 for a in az}\n",
    "# S = input()\n",
    "S= 'baekjoon'\n",
    "\n",
    "for i in range(len(S)) :\n",
    "    eng = S[i]\n",
    "    if dic[eng] == -1 :\n",
    "        dic[eng] = i\n",
    "\n",
    "for d in dic.values():\n",
    "    print(d, end=' ')\n",
    "    \n",
    "    "
   ]
  },
  {
   "cell_type": "code",
   "execution_count": null,
   "metadata": {},
   "outputs": [],
   "source": [
    "#10820\n",
    "import re\n",
    "import sys\n",
    "while True :\n",
    "    s = sys.stdin.readline().rstrip('\\n')\n",
    "    if not s :\n",
    "        break\n",
    "    \n",
    "    space, low, up, num = 0,0,0,0\n",
    "\n",
    "    space = len(s) - len(s.replace(' ',''))\n",
    "    num = len(s) - len(re.sub('[0-9]','',s))\n",
    "    low = len(s) - len(re.sub('[a-z]','',s))\n",
    "    up = len(s) - len(re.sub('[A-Z]','',s))\n",
    "    \n",
    "    print(low, up, num, space)\n",
    "    \n",
    "\"\"\"\n",
    "# 다른 사람\n",
    "islower()\n",
    "isupper()\n",
    "isdigit()\n",
    "issapce\n",
    "\n",
    "예전에 했던 야매 안 써도 되는구나.. isalpha\n",
    "\"\"\""
   ]
  },
  {
   "cell_type": "code",
   "execution_count": null,
   "metadata": {},
   "outputs": [],
   "source": [
    "#2743\n",
    "S = input()\n",
    "print(len(S))"
   ]
  },
  {
   "cell_type": "code",
   "execution_count": 28,
   "metadata": {},
   "outputs": [
    {
     "name": "stdout",
     "output_type": "stream",
     "text": [
      "Bar vf 1\n"
     ]
    }
   ],
   "source": [
    "#11655\n",
    "s = 'One is 1'\n",
    "\n",
    "import string \n",
    "s = input()\n",
    "abc = (string.ascii_lowercase) *2\n",
    "\n",
    "result = ''\n",
    "for i in s:\n",
    "    if i.islower():\n",
    "        result += abc[abc.index(i)+13]\n",
    "        \n",
    "    elif i.isupper():\n",
    "        result += abc[abc.index(i.lower())+13].upper()\n",
    "\n",
    "    else :\n",
    "        result += i\n",
    "\n",
    "print(result)\n",
    "#136ms\n",
    "\n",
    "\"\"\"\n",
    "s = input()\n",
    "abc = 'abcdefghijklmnopqrstuvwxyz' *2\n",
    "\n",
    "result = ''\n",
    "for i in s:\n",
    "    if i.islower():\n",
    "        result += abc[abc.index(i)+13]\n",
    "        \n",
    "    elif i.isupper():\n",
    "        result += abc[abc.index(i.lower())+13].upper()\n",
    "\n",
    "    else :\n",
    "        result += i\n",
    "\n",
    "print(result)\n",
    "#68ms\n",
    "\n",
    "\n",
    "s = input()\n",
    "abc = 'abcdefghijklmnopqrstuvwxyzabcdefghijklmnopqrstuvwxyz'\n",
    "\n",
    "result = ''\n",
    "for i in s:\n",
    "    if i.islower():\n",
    "        result += abc[abc.index(i)+13]\n",
    "        \n",
    "    elif i.isupper():\n",
    "        result += abc[abc.index(i.lower())+13].upper()\n",
    "\n",
    "    else :\n",
    "        result += i\n",
    "\n",
    "print(result)\n",
    "#72ms\n",
    "\n",
    "\n",
    "s = input()\n",
    "abc = 'abcdefghijklmnopqrstuvwxyz'\n",
    "result = ''\n",
    "\n",
    "for i in s:\n",
    "    if i.islower():\n",
    "        result += abc[(abc.index(i)+13)%26]\n",
    "        \n",
    "    elif i.isupper():\n",
    "        result += abc[(abc.index(i.lower())+13)%26].upper()\n",
    "\n",
    "    else :\n",
    "        result += i\n",
    "\n",
    "print(result)\n",
    "#68ms\n",
    "\n",
    "\n",
    "import sys\n",
    "s = sys.stdin.readline()\n",
    "abc = 'abcdefghijklmnopqrstuvwxyz' *2\n",
    "\n",
    "result = ''\n",
    "for i in s:\n",
    "    if i.islower():\n",
    "        result += abc[abc.index(i)+13]\n",
    "        \n",
    "    elif i.isupper():\n",
    "        result += abc[abc.index(i.lower())+13].upper()\n",
    "\n",
    "    else :\n",
    "        result += i\n",
    "\n",
    "print(result)\n",
    "\n",
    "\"\"\"\n"
   ]
  },
  {
   "cell_type": "code",
   "execution_count": null,
   "metadata": {},
   "outputs": [],
   "source": [
    "#10824\n",
    "import sys\n",
    "a = sys.stdin.readline.split()\n",
    "print(int(a[0]+a[1])+int(a[2]+a[3]))"
   ]
  },
  {
   "cell_type": "code",
   "execution_count": 32,
   "metadata": {},
   "outputs": [
    {
     "name": "stdout",
     "output_type": "stream",
     "text": [
      "aekjoon\n",
      "baekjoon\n",
      "ekjoon\n",
      "joon\n",
      "kjoon\n",
      "n\n",
      "on\n",
      "oon\n"
     ]
    }
   ],
   "source": [
    "# 11656\n",
    "s = 'baekjoon'\n",
    "s = input()\n",
    "lst = []\n",
    "for i in range(len(s)) :\n",
    "    lst.append(s[i:])\n",
    "\n",
    "for j in sorted(lst):\n",
    "    print(j)\n",
    "    "
   ]
  },
  {
   "cell_type": "code",
   "execution_count": null,
   "metadata": {},
   "outputs": [],
   "source": []
  }
 ],
 "metadata": {
  "interpreter": {
   "hash": "19a2027c367e4a8fbf50703f7b521df71edff403eb9eba2200ef5f1febf03a5b"
  },
  "kernelspec": {
   "display_name": "Python 3.7.11 64-bit ('exam_cv2': conda)",
   "name": "python3"
  },
  "language_info": {
   "codemirror_mode": {
    "name": "ipython",
    "version": 3
   },
   "file_extension": ".py",
   "mimetype": "text/x-python",
   "name": "python",
   "nbconvert_exporter": "python",
   "pygments_lexer": "ipython3",
   "version": "3.7.11"
  },
  "orig_nbformat": 4
 },
 "nbformat": 4,
 "nbformat_minor": 2
}
