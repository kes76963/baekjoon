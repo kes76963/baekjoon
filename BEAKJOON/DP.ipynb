{
 "cells": [
  {
   "cell_type": "code",
   "execution_count": null,
   "metadata": {},
   "outputs": [],
   "source": [
    "정수 X에 사용할 수 있는 연산은 다음과 같이 세 가지 이다.\n",
    "\n",
    "X가 3으로 나누어 떨어지면, 3으로 나눈다.\n",
    "X가 2로 나누어 떨어지면, 2로 나눈다.\n",
    "1을 뺀다.\n",
    "정수 N이 주어졌을 때, 위와 같은 연산 세 개를 적절히 사용해서 1을 만들려고 한다. 연산을 사용하는 횟수의 최솟값을 출력하시오."
   ]
  },
  {
   "cell_type": "code",
   "execution_count": 12,
   "metadata": {},
   "outputs": [
    {
     "name": "stdout",
     "output_type": "stream",
     "text": [
      "5.0\n",
      "4.0\n",
      "2.0\n",
      "1.0\n",
      "4\n"
     ]
    }
   ],
   "source": [
    "# x = int(input())\n",
    "x= 10\n",
    "count =0\n",
    "while x != 1 :\n",
    "    if x % 3 == 0:\n",
    "        x = x/3\n",
    "    elif x % 2 == 0 :\n",
    "        x = x/2\n",
    "    elif x >= 2 :\n",
    "        x -= 1\n",
    "    count += 1\n",
    "    print(x)\n",
    "\n",
    "print(count)"
   ]
  },
  {
   "cell_type": "code",
   "execution_count": 17,
   "metadata": {},
   "outputs": [
    {
     "name": "stdout",
     "output_type": "stream",
     "text": [
      "3\n"
     ]
    }
   ],
   "source": [
    "case = 10\n",
    "# case = int(input())\n",
    "\n",
    "dp = [0,0,1,1]\n",
    "\n",
    "# dp[n] = min(dp[n-1] , dp[n//2], dp[n//3]) + 1\n",
    "for i in range(4, case+1):\n",
    "    dp.append(dp[i-1]+1)\n",
    "    if i%2 == 0:\n",
    "        dp[i] = min(dp[i//2]+1, dp[i])\n",
    "    if i%3 == 0:\n",
    "        dp[i] = min(dp[i//3]+1, dp[i])\n",
    "\n",
    "print(dp[case])"
   ]
  },
  {
   "cell_type": "code",
   "execution_count": 107,
   "metadata": {},
   "outputs": [
    {
     "name": "stdout",
     "output_type": "stream",
     "text": [
      "4 1\n",
      "55.0\n"
     ]
    }
   ],
   "source": [
    "def ncr(n,r) :\n",
    "    nc, cr = 1, 1\n",
    "    for i in range(n,n-r,-1):\n",
    "        nc = nc*i\n",
    "    for i in range(1,r+1) :\n",
    "        cr = cr*i\n",
    "    count = nc / cr\n",
    "    # print(count)\n",
    "    return count\n",
    "\n",
    "m = 9\n",
    "a,b = divmod(m,2)\n",
    "print(a,b)\n",
    "\n",
    "if a == 1 :\n",
    "    sum = 1\n",
    "elif b == 1 :\n",
    "    sum = 1\n",
    "    while a > 0 :\n",
    "        n = m - a\n",
    "        r = a\n",
    "        sum += ncr(n,r) \n",
    "        a -= 1\n",
    "        \n",
    "elif b == 0 : \n",
    "    sum = 1\n",
    "    while a > 0 :\n",
    "        \n",
    "        for i in range(1,a+1) :\n",
    "            n = m -i\n",
    "        \n",
    "        r = a\n",
    "        sum += ncr(n,r) \n",
    "        a -= 1\n",
    "     \n",
    "        \n",
    "print(sum % 10007)\n"
   ]
  },
  {
   "cell_type": "code",
   "execution_count": 108,
   "metadata": {},
   "outputs": [
    {
     "name": "stdout",
     "output_type": "stream",
     "text": [
      "5\n"
     ]
    }
   ],
   "source": [
    "n = 4\n",
    "dp = [0,1,2]\n",
    "\n",
    "for i in range(3,n+1):\n",
    "    dp.append(dp[i-1] + dp[i-2])\n",
    "\n",
    "print(dp[n] % 10007)"
   ]
  },
  {
   "cell_type": "code",
   "execution_count": null,
   "metadata": {},
   "outputs": [],
   "source": [
    "\n",
    "1 + n + 2n +\n",
    "1 / 5 / 4 / \n",
    "1+1+1+1+1 \n",
    "1+1+1+2\n",
    "1+1+2+1\n",
    "1+2+1+1\n",
    "2+1+1+1\n",
    "1+2+2\n",
    "2+1+2\n",
    "2+2+1\n",
    "1+1+3\n",
    "1+3+1\n",
    "3+1+1\n",
    "13+2\n",
    "21+3\n",
    "231\n",
    "\n",
    "1+1+1+1+1\n",
    "1+1+1+2\n",
    "1+1+2+1\n",
    "1+2+1+1\n",
    "2+1+1+1\n",
    "1+2+2\n",
    "2+1+2\n",
    "2+2+1\n",
    "1+1+3\n",
    "1+3+1\n",
    "3+1+1\n",
    "3+2\n",
    "2+3\n",
    "\n",
    "1+1+1+1\n",
    "1+1+2\n",
    "1+2+1\n",
    "2+1+1\n",
    "2+2\n",
    "1+3\n",
    "3+1\n",
    "\n",
    "    1+1+1\n",
    "    1+2\n",
    "    2+1\n",
    "    30\n",
    "\n",
    "      1+1\n",
    "  \n",
    "  \n",
    "  \n",
    "1 2 3 4 5 6 7 \n",
    "1 2 4 7 13  44"
   ]
  },
  {
   "cell_type": "code",
   "execution_count": 16,
   "metadata": {},
   "outputs": [
    {
     "name": "stdout",
     "output_type": "stream",
     "text": [
      "274\n"
     ]
    }
   ],
   "source": [
    "n = 10\n",
    "lst = [1,2,4]\n",
    "for i in range(3,10) :\n",
    "    lst.append(lst[i-3]+lst[i-2]+lst[i-1])\n",
    "        \n",
    "for i in range(10) :\n",
    "    t = 4\n",
    "    # print(lst[t-1])\n",
    "\n",
    "print(lst[9])\n"
   ]
  },
  {
   "cell_type": "code",
   "execution_count": null,
   "metadata": {},
   "outputs": [],
   "source": [
    "12/3/4/5/6/7/8/9"
   ]
  }
 ],
 "metadata": {
  "interpreter": {
   "hash": "19a2027c367e4a8fbf50703f7b521df71edff403eb9eba2200ef5f1febf03a5b"
  },
  "kernelspec": {
   "display_name": "Python 3.7.11 64-bit ('exam_cv2': conda)",
   "name": "python3"
  },
  "language_info": {
   "codemirror_mode": {
    "name": "ipython",
    "version": 3
   },
   "file_extension": ".py",
   "mimetype": "text/x-python",
   "name": "python",
   "nbconvert_exporter": "python",
   "pygments_lexer": "ipython3",
   "version": "3.7.11"
  },
  "orig_nbformat": 4
 },
 "nbformat": 4,
 "nbformat_minor": 2
}
