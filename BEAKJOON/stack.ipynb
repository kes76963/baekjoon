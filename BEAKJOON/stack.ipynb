{
 "cells": [
  {
   "cell_type": "code",
   "execution_count": null,
   "metadata": {},
   "outputs": [],
   "source": [
    "#10828\n",
    "import sys\n",
    "n = int(sys.stdin.readline())\n",
    "\n",
    "stack = []\n",
    "\n",
    "for _ in range(n) :\n",
    "    orders = sys.stdin.readline().split()\n",
    "    order = orders[0]\n",
    "    \n",
    "    if order == 'push':\n",
    "       value = orders[1] \n",
    "       stack.append(value)\n",
    "    \n",
    "    elif order == 'pop':\n",
    "        if len(stack) == 0:\n",
    "            print(-1)\n",
    "        else :\n",
    "            print(stack.pop())\n",
    "    \n",
    "    elif order == 'size' :\n",
    "        if len(stack) > 0 :\n",
    "            print(len(stack))\n",
    "            \n",
    "    elif order == 'empty' :\n",
    "        if len(stack) == 0 :\n",
    "            print(1)\n",
    "        else :\n",
    "            print(0)\n",
    "    \n",
    "    elif order == 'top' : \n",
    "        if len(stack) == 0:\n",
    "            print(-1)\n",
    "        else :\n",
    "            print(stack[-1])"
   ]
  },
  {
   "cell_type": "code",
   "execution_count": null,
   "metadata": {},
   "outputs": [],
   "source": [
    "import sys\n",
    "n = int(sys.stdin.readline())\n",
    "\n",
    "for _ in range(n):\n",
    "    s = sys.stdin.readline()\n",
    "    for _ in range(len(s)/2):\n",
    "        if '()' in s:\n",
    "            s = s.replace('()','')\n",
    "        elif '()' not in s :\n",
    "            break \n",
    "    if len(s) == 0:\n",
    "        print('YES')\n",
    "    else :\n",
    "        print('NO')\n",
    "        "
   ]
  },
  {
   "cell_type": "code",
   "execution_count": 15,
   "metadata": {},
   "outputs": [
    {
     "name": "stdout",
     "output_type": "stream",
     "text": [
      "()(())\n",
      "()\n",
      "\n",
      "0\n",
      "True\n"
     ]
    }
   ],
   "source": [
    "s = '(()())((()))'\n",
    "if '()' in s:\n",
    "    s = s.replace('()','')\n",
    "    print(s)\n",
    "    s = s.replace('()','')\n",
    "    print(s)\n",
    "    s = s.replace('()','')\n",
    "    print(s)\n",
    "\n",
    "print(len(s))\n",
    "if len(s) == 0 :\n",
    "    print(True) \n",
    "\n",
    "text = '123,456,789,999'\n",
    "\n",
    "replaceAll= text.replace(\",\",\"\")\n",
    "replace_t1 = text.replace(\",\", \"\",1)\n",
    "replace_t2 = text.replace(\",\", \"\",2)\n",
    "replace_t3 = text.replace(\",\", \"\",3)\n",
    "print(\"결과 :\")\n",
    "print(replaceAll)\n",
    "print(replace_t1)\n",
    "print(replace_t2)\n",
    "print(replace_t3)\n",
    "\n",
    "'''\n",
    "결과 : \n",
    "123456789999\n",
    "123456,789,999\n",
    "123456789,999\n",
    "123456789999\n",
    "'''"
   ]
  },
  {
   "cell_type": "code",
   "execution_count": null,
   "metadata": {},
   "outputs": [],
   "source": [
    "#9012\n",
    "import sys\n",
    "n = int(sys.stdin.readline())\n",
    "\n",
    "for _ in range(n):\n",
    "    s = sys.stdin.readline().strip()\n",
    "    for _ in range(len(s)//2):\n",
    "        if '()' in s:\n",
    "            s = s.replace('()','')\n",
    "        elif '()' not in s :\n",
    "            break \n",
    "    if len(s) == 0:\n",
    "        print('YES')\n",
    "    else :\n",
    "        print('NO')\n",
    "\n",
    "# sys.stdin.readline()은 입력의 마지막에 줄바꿈(/n)을 포함하기 때문에 이를 제거해야 한다\n"
   ]
  },
  {
   "cell_type": "code",
   "execution_count": null,
   "metadata": {},
   "outputs": [],
   "source": [
    "val = input()\n",
    "sum=0\n",
    "left=0\n",
    "for i in range(len(val)):\n",
    "    if val[i]=='(':\n",
    "        left+=1\n",
    "    elif val[i]==')':\n",
    "        left-=1\n",
    "        if val[i-1]=='(':\n",
    "            sum+=left\n",
    "        else:\n",
    "            sum+=1\n",
    "print(sum)\n",
    "\n",
    "(((( 4 3 ) (3 )2  )(())()))(())\n",
    "3 3 1 \n"
   ]
  },
  {
   "cell_type": "code",
   "execution_count": null,
   "metadata": {},
   "outputs": [],
   "source": [
    "# 10799\n",
    "a = list(input())\n",
    "b = []\n",
    "n = 0\n",
    "\n",
    "for i in range(len(a)):\n",
    "    if a[i] == '(':\n",
    "        b.append('(')\n",
    "    else :\n",
    "        if a[i-1] == '(':\n",
    "            b.pop()\n",
    "            n += len(b)\n",
    "            \n",
    "        else :\n",
    "            b.pop()\n",
    "            n+=1\n",
    "print(n)"
   ]
  }
 ],
 "metadata": {
  "interpreter": {
   "hash": "19a2027c367e4a8fbf50703f7b521df71edff403eb9eba2200ef5f1febf03a5b"
  },
  "kernelspec": {
   "display_name": "Python 3.7.11 64-bit ('exam_cv2': conda)",
   "name": "python3"
  },
  "language_info": {
   "codemirror_mode": {
    "name": "ipython",
    "version": 3
   },
   "file_extension": ".py",
   "mimetype": "text/x-python",
   "name": "python",
   "nbconvert_exporter": "python",
   "pygments_lexer": "ipython3",
   "version": "3.7.11"
  },
  "orig_nbformat": 4
 },
 "nbformat": 4,
 "nbformat_minor": 2
}
