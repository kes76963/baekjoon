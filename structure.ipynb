{
 "cells": [
  {
   "cell_type": "code",
   "execution_count": null,
   "source": [
    "# 다시 생각..\r\n",
    "\r\n",
    "# 1406\r\n",
    "# 시간 초과 때문에 잘 생각해야 함\r\n",
    "import sys\r\n",
    "lstack = list(input())\r\n",
    "rstack = []\r\n",
    "num = int(input())\r\n",
    "    \r\n",
    "for _ in range(num) :\r\n",
    "    a = sys.stdin.readline().split()\r\n",
    "    \r\n",
    "    if a[0] == 'L':\r\n",
    "        if lstack :\r\n",
    "            rstack.append(lstack.pop())\r\n",
    "    if a[0] == 'D' :\r\n",
    "        if rstack :\r\n",
    "            lstack.append(rstack.pop())\r\n",
    "    if a[0] == 'B' :\r\n",
    "        if lstack:\r\n",
    "            lstack.pop()\r\n",
    "    else :\r\n",
    "        lstack.append(a[1])\r\n",
    "print(''.join(lstack+rstack[::-1]))\r\n",
    "        "
   ],
   "outputs": [],
   "metadata": {}
  },
  {
   "cell_type": "code",
   "execution_count": 14,
   "source": [
    "# 1158\r\n",
    "import sys\r\n",
    "n, k = map(int, sys.stdin.readline().split())\r\n",
    "# n, k = 7,3\r\n",
    "j = [i for i in range(1,n+1)]\r\n",
    "result = []\r\n",
    "idx =0\r\n",
    "for _ in range(n):\r\n",
    "    idx += k -1\r\n",
    "    if idx >= len(j) :\r\n",
    "        idx = idx % len(j)\r\n",
    "    result.append(str(j.pop(idx)))\r\n",
    "\r\n",
    "result = ', '.join(result)\r\n",
    "print(f'<{result}>')     \r\n",
    "           \r\n"
   ],
   "outputs": [
    {
     "output_type": "stream",
     "name": "stdout",
     "text": [
      "<3, 6, 2, 7, 5, 1, 4>\n"
     ]
    }
   ],
   "metadata": {}
  }
 ],
 "metadata": {
  "orig_nbformat": 4,
  "language_info": {
   "name": "python",
   "version": "3.7.11",
   "mimetype": "text/x-python",
   "codemirror_mode": {
    "name": "ipython",
    "version": 3
   },
   "pygments_lexer": "ipython3",
   "nbconvert_exporter": "python",
   "file_extension": ".py"
  },
  "kernelspec": {
   "name": "python3",
   "display_name": "Python 3.7.11 64-bit ('exam_cv2': conda)"
  },
  "interpreter": {
   "hash": "19a2027c367e4a8fbf50703f7b521df71edff403eb9eba2200ef5f1febf03a5b"
  }
 },
 "nbformat": 4,
 "nbformat_minor": 2
}