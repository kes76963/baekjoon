{
 "cells": [
  {
   "cell_type": "code",
   "execution_count": 1,
   "metadata": {},
   "outputs": [],
   "source": [
    "import pandas as pd\n",
    "import numpy as np\n",
    "\n",
    "df = pd.read_csv('titanic.csv')"
   ]
  },
  {
   "cell_type": "code",
   "execution_count": null,
   "metadata": {},
   "outputs": [],
   "source": [
    "#eda\n",
    "print(df.shape)\n",
    "print(df.isnull().sum())\n",
    "# df.head"
   ]
  },
  {
   "cell_type": "code",
   "execution_count": 3,
   "metadata": {},
   "outputs": [
    {
     "data": {
      "text/plain": [
       "(-26.724, 65.6344)"
      ]
     },
     "execution_count": 3,
     "metadata": {},
     "output_type": "execute_result"
    }
   ],
   "source": [
    "#이상치 IQR을 활용해 FARE 칼럼의 이상치를 찾고, 이상치 데이터의 여성수를 구하라\n",
    "#iqr 구하기\n",
    "q1 = np.percentile(df.fare,25)\n",
    "q3 = np.percentile(df.fare,75)\n",
    "iqr = q3 - q1\n",
    "q1 - 1.5* iqr, q3 + 1.5*iqr"
   ]
  },
  {
   "cell_type": "code",
   "execution_count": 4,
   "metadata": {},
   "outputs": [
    {
     "data": {
      "text/plain": [
       "(0, 116)"
      ]
     },
     "execution_count": 4,
     "metadata": {},
     "output_type": "execute_result"
    }
   ],
   "source": [
    "#이상치 데이터 구하기\n",
    "out1 = df[df.fare < (q1 - 1.5* iqr)]\n",
    "out2 = df[df.fare > (q3 + 1.5* iqr)]\n",
    "len(out1),len(out2)"
   ]
  },
  {
   "cell_type": "code",
   "execution_count": 5,
   "metadata": {},
   "outputs": [
    {
     "name": "stdout",
     "output_type": "stream",
     "text": [
      "70\n"
     ]
    }
   ],
   "source": [
    "#이상치 데이터에서 여성 수 구하기, \n",
    "print(sum(out2.sex == 'female'))"
   ]
  },
  {
   "cell_type": "markdown",
   "metadata": {},
   "source": [
    "\n",
    "올림 np.ceil()\n",
    "내림 np.floor()\n",
    "버림 np.trunc() / 음수에서 -5.5 버림을 하면 -5, 내림을 하면 -6"
   ]
  },
  {
   "cell_type": "code",
   "execution_count": 10,
   "metadata": {},
   "outputs": [
    {
     "data": {
      "text/html": [
       "<div>\n",
       "<style scoped>\n",
       "    .dataframe tbody tr th:only-of-type {\n",
       "        vertical-align: middle;\n",
       "    }\n",
       "\n",
       "    .dataframe tbody tr th {\n",
       "        vertical-align: top;\n",
       "    }\n",
       "\n",
       "    .dataframe thead th {\n",
       "        text-align: right;\n",
       "    }\n",
       "</style>\n",
       "<table border=\"1\" class=\"dataframe\">\n",
       "  <thead>\n",
       "    <tr style=\"text-align: right;\">\n",
       "      <th></th>\n",
       "      <th>id</th>\n",
       "      <th>age</th>\n",
       "      <th>city</th>\n",
       "      <th>f1</th>\n",
       "      <th>f2</th>\n",
       "      <th>f3</th>\n",
       "      <th>f4</th>\n",
       "      <th>f5</th>\n",
       "    </tr>\n",
       "  </thead>\n",
       "  <tbody>\n",
       "    <tr>\n",
       "      <th>0</th>\n",
       "      <td>id01</td>\n",
       "      <td>2.0</td>\n",
       "      <td>서울</td>\n",
       "      <td>NaN</td>\n",
       "      <td>0</td>\n",
       "      <td>NaN</td>\n",
       "      <td>ENFJ</td>\n",
       "      <td>91.297791</td>\n",
       "    </tr>\n",
       "    <tr>\n",
       "      <th>1</th>\n",
       "      <td>id02</td>\n",
       "      <td>9.0</td>\n",
       "      <td>서울</td>\n",
       "      <td>70.0</td>\n",
       "      <td>1</td>\n",
       "      <td>NaN</td>\n",
       "      <td>ENFJ</td>\n",
       "      <td>60.339826</td>\n",
       "    </tr>\n",
       "    <tr>\n",
       "      <th>2</th>\n",
       "      <td>id03</td>\n",
       "      <td>27.0</td>\n",
       "      <td>서울</td>\n",
       "      <td>61.0</td>\n",
       "      <td>1</td>\n",
       "      <td>NaN</td>\n",
       "      <td>ISTJ</td>\n",
       "      <td>17.252986</td>\n",
       "    </tr>\n",
       "    <tr>\n",
       "      <th>3</th>\n",
       "      <td>id04</td>\n",
       "      <td>75.0</td>\n",
       "      <td>서울</td>\n",
       "      <td>NaN</td>\n",
       "      <td>2</td>\n",
       "      <td>NaN</td>\n",
       "      <td>INFP</td>\n",
       "      <td>52.667078</td>\n",
       "    </tr>\n",
       "    <tr>\n",
       "      <th>4</th>\n",
       "      <td>id05</td>\n",
       "      <td>24.0</td>\n",
       "      <td>서울</td>\n",
       "      <td>85.0</td>\n",
       "      <td>2</td>\n",
       "      <td>NaN</td>\n",
       "      <td>ISFJ</td>\n",
       "      <td>29.269869</td>\n",
       "    </tr>\n",
       "  </tbody>\n",
       "</table>\n",
       "</div>"
      ],
      "text/plain": [
       "     id   age city    f1  f2   f3    f4         f5\n",
       "0  id01   2.0   서울   NaN   0  NaN  ENFJ  91.297791\n",
       "1  id02   9.0   서울  70.0   1  NaN  ENFJ  60.339826\n",
       "2  id03  27.0   서울  61.0   1  NaN  ISTJ  17.252986\n",
       "3  id04  75.0   서울   NaN   2  NaN  INFP  52.667078\n",
       "4  id05  24.0   서울  85.0   2  NaN  ISFJ  29.269869"
      ]
     },
     "execution_count": 10,
     "metadata": {},
     "output_type": "execute_result"
    }
   ],
   "source": [
    "#이상치(소수점 나이)를 찾고 올림, 내림, 버림했을 때 3가지 모두 이상치 AGE 평균을 구한 다음 모두 더하여 출력\n",
    "import pandas as pd\n",
    "import numpy as np\n",
    "\n",
    "df = pd.read_csv('basic1.csv')\n",
    "df.head()"
   ]
  },
  {
   "cell_type": "code",
   "execution_count": 11,
   "metadata": {},
   "outputs": [
    {
     "data": {
      "text/html": [
       "<div>\n",
       "<style scoped>\n",
       "    .dataframe tbody tr th:only-of-type {\n",
       "        vertical-align: middle;\n",
       "    }\n",
       "\n",
       "    .dataframe tbody tr th {\n",
       "        vertical-align: top;\n",
       "    }\n",
       "\n",
       "    .dataframe thead th {\n",
       "        text-align: right;\n",
       "    }\n",
       "</style>\n",
       "<table border=\"1\" class=\"dataframe\">\n",
       "  <thead>\n",
       "    <tr style=\"text-align: right;\">\n",
       "      <th></th>\n",
       "      <th>id</th>\n",
       "      <th>age</th>\n",
       "      <th>city</th>\n",
       "      <th>f1</th>\n",
       "      <th>f2</th>\n",
       "      <th>f3</th>\n",
       "      <th>f4</th>\n",
       "      <th>f5</th>\n",
       "    </tr>\n",
       "  </thead>\n",
       "  <tbody>\n",
       "    <tr>\n",
       "      <th>6</th>\n",
       "      <td>id07</td>\n",
       "      <td>36.3</td>\n",
       "      <td>서울</td>\n",
       "      <td>60.0</td>\n",
       "      <td>1</td>\n",
       "      <td>NaN</td>\n",
       "      <td>ISFJ</td>\n",
       "      <td>9.796378</td>\n",
       "    </tr>\n",
       "    <tr>\n",
       "      <th>8</th>\n",
       "      <td>id09</td>\n",
       "      <td>3.3</td>\n",
       "      <td>서울</td>\n",
       "      <td>35.0</td>\n",
       "      <td>2</td>\n",
       "      <td>NaN</td>\n",
       "      <td>ESFJ</td>\n",
       "      <td>17.252986</td>\n",
       "    </tr>\n",
       "    <tr>\n",
       "      <th>21</th>\n",
       "      <td>id22</td>\n",
       "      <td>-6.3</td>\n",
       "      <td>부산</td>\n",
       "      <td>72.0</td>\n",
       "      <td>1</td>\n",
       "      <td>NaN</td>\n",
       "      <td>ENFP</td>\n",
       "      <td>52.667078</td>\n",
       "    </tr>\n",
       "    <tr>\n",
       "      <th>28</th>\n",
       "      <td>id29</td>\n",
       "      <td>-13.5</td>\n",
       "      <td>부산</td>\n",
       "      <td>47.0</td>\n",
       "      <td>2</td>\n",
       "      <td>NaN</td>\n",
       "      <td>ENTP</td>\n",
       "      <td>67.886373</td>\n",
       "    </tr>\n",
       "    <tr>\n",
       "      <th>46</th>\n",
       "      <td>id47</td>\n",
       "      <td>34.6</td>\n",
       "      <td>대구</td>\n",
       "      <td>75.0</td>\n",
       "      <td>1</td>\n",
       "      <td>NaN</td>\n",
       "      <td>ESTJ</td>\n",
       "      <td>90.496999</td>\n",
       "    </tr>\n",
       "    <tr>\n",
       "      <th>64</th>\n",
       "      <td>id65</td>\n",
       "      <td>26.5</td>\n",
       "      <td>경기</td>\n",
       "      <td>NaN</td>\n",
       "      <td>0</td>\n",
       "      <td>NaN</td>\n",
       "      <td>ISFP</td>\n",
       "      <td>91.297791</td>\n",
       "    </tr>\n",
       "    <tr>\n",
       "      <th>84</th>\n",
       "      <td>id85</td>\n",
       "      <td>83.6</td>\n",
       "      <td>경기</td>\n",
       "      <td>55.0</td>\n",
       "      <td>0</td>\n",
       "      <td>NaN</td>\n",
       "      <td>INFJ</td>\n",
       "      <td>80.138280</td>\n",
       "    </tr>\n",
       "    <tr>\n",
       "      <th>92</th>\n",
       "      <td>id93</td>\n",
       "      <td>21.8</td>\n",
       "      <td>경기</td>\n",
       "      <td>57.0</td>\n",
       "      <td>0</td>\n",
       "      <td>NaN</td>\n",
       "      <td>ISFP</td>\n",
       "      <td>73.586397</td>\n",
       "    </tr>\n",
       "  </tbody>\n",
       "</table>\n",
       "</div>"
      ],
      "text/plain": [
       "      id   age city    f1  f2   f3    f4         f5\n",
       "6   id07  36.3   서울  60.0   1  NaN  ISFJ   9.796378\n",
       "8   id09   3.3   서울  35.0   2  NaN  ESFJ  17.252986\n",
       "21  id22  -6.3   부산  72.0   1  NaN  ENFP  52.667078\n",
       "28  id29 -13.5   부산  47.0   2  NaN  ENTP  67.886373\n",
       "46  id47  34.6   대구  75.0   1  NaN  ESTJ  90.496999\n",
       "64  id65  26.5   경기   NaN   0  NaN  ISFP  91.297791\n",
       "84  id85  83.6   경기  55.0   0  NaN  INFJ  80.138280\n",
       "92  id93  21.8   경기  57.0   0  NaN  ISFP  73.586397"
      ]
     },
     "execution_count": 11,
     "metadata": {},
     "output_type": "execute_result"
    }
   ],
   "source": [
    "#소수점 데이터 찾기\n",
    "df = df[(df.age - np.floor(df.age))!=0]\n",
    "df"
   ]
  },
  {
   "cell_type": "code",
   "execution_count": 13,
   "metadata": {},
   "outputs": [
    {
     "data": {
      "text/plain": [
       "(23.75, 22.75, 23.0)"
      ]
     },
     "execution_count": 13,
     "metadata": {},
     "output_type": "execute_result"
    }
   ],
   "source": [
    "#올림, 내림, 버림 평균값\n",
    "ceil = np.ceil(df.age).mean()\n",
    "floor = np.floor(df.age).mean()\n",
    "trunc = np.trunc(df.age).mean()\n",
    "ceil, floor, trunc"
   ]
  },
  {
   "cell_type": "markdown",
   "metadata": {},
   "source": [
    "mmmmmmmmmmmmmmmmmmmmmmmmmmmmmmmmmmmmmmmmmmm"
   ]
  },
  {
   "cell_type": "code",
   "execution_count": 11,
   "metadata": {},
   "outputs": [
    {
     "data": {
      "text/plain": [
       "(100, 8)"
      ]
     },
     "execution_count": 11,
     "metadata": {},
     "output_type": "execute_result"
    }
   ],
   "source": [
    "# 결측치가 80%이상 되는 컬럼은(변수는) 삭제하고, 80% 미만인 결측치가 있는 컬럼은 'city'별 중앙값으로 값을 대체하고 \n",
    "# 'f1'컬럼의 평균값을 출력하세요!\n",
    "\n",
    "import pandas as pd\n",
    "import numpy as np\n",
    "\n",
    "df = pd.read_csv('basic1.csv')\n",
    "df.shape"
   ]
  },
  {
   "cell_type": "code",
   "execution_count": 2,
   "metadata": {},
   "outputs": [
    {
     "data": {
      "text/plain": [
       "id       0\n",
       "age      0\n",
       "city     0\n",
       "f1      31\n",
       "f2       0\n",
       "f3      95\n",
       "f4       0\n",
       "f5       0\n",
       "dtype: int64"
      ]
     },
     "execution_count": 2,
     "metadata": {},
     "output_type": "execute_result"
    }
   ],
   "source": [
    "#결측치 확인\n",
    "df.isnull().sum()"
   ]
  },
  {
   "cell_type": "code",
   "execution_count": 4,
   "metadata": {},
   "outputs": [
    {
     "name": "stdout",
     "output_type": "stream",
     "text": [
      "삭제 전: (100, 8)\n",
      "삭제 후: (100, 7)\n"
     ]
    }
   ],
   "source": [
    "#결측치 80% 이상 삭제\n",
    "\n",
    "print(\"삭제 전:\", df.shape)\n",
    "df = df.drop(['f3'], axis=1)\n",
    "print(\"삭제 후:\", df.shape)\n",
    "\n",
    "# 결측치가 있는 컬럼을 제거하는 2가지 방법\n",
    "# df.drop(['B', 'C'], axis=1)\n",
    "# df.drop(columns=['B', 'C'])"
   ]
  },
  {
   "cell_type": "code",
   "execution_count": 7,
   "metadata": {},
   "outputs": [
    {
     "name": "stdout",
     "output_type": "stream",
     "text": [
      "['서울' '부산' '대구' '경기']\n"
     ]
    },
    {
     "data": {
      "text/plain": [
       "(68.0, 58.0, 62.0, 75.0)"
      ]
     },
     "execution_count": 7,
     "metadata": {},
     "output_type": "execute_result"
    }
   ],
   "source": [
    "# 도시별 중앙값 계산\n",
    "print(df.city.unique())\n",
    "s=df[df['city']=='서울']['f1'].median()\n",
    "k=df[df['city']=='경기']['f1'].median()\n",
    "b=df[df['city']=='부산']['f1'].median()\n",
    "d=df[df['city']=='대구']['f1'].median()\n",
    "s, k, b, d"
   ]
  },
  {
   "cell_type": "code",
   "execution_count": 8,
   "metadata": {},
   "outputs": [
    {
     "data": {
      "text/html": [
       "<div>\n",
       "<style scoped>\n",
       "    .dataframe tbody tr th:only-of-type {\n",
       "        vertical-align: middle;\n",
       "    }\n",
       "\n",
       "    .dataframe tbody tr th {\n",
       "        vertical-align: top;\n",
       "    }\n",
       "\n",
       "    .dataframe thead th {\n",
       "        text-align: right;\n",
       "    }\n",
       "</style>\n",
       "<table border=\"1\" class=\"dataframe\">\n",
       "  <thead>\n",
       "    <tr style=\"text-align: right;\">\n",
       "      <th></th>\n",
       "      <th>id</th>\n",
       "      <th>age</th>\n",
       "      <th>city</th>\n",
       "      <th>f1</th>\n",
       "      <th>f2</th>\n",
       "      <th>f4</th>\n",
       "      <th>f5</th>\n",
       "    </tr>\n",
       "  </thead>\n",
       "  <tbody>\n",
       "    <tr>\n",
       "      <th>0</th>\n",
       "      <td>id01</td>\n",
       "      <td>2.0</td>\n",
       "      <td>서울</td>\n",
       "      <td>NaN</td>\n",
       "      <td>0</td>\n",
       "      <td>ENFJ</td>\n",
       "      <td>91.297791</td>\n",
       "    </tr>\n",
       "    <tr>\n",
       "      <th>1</th>\n",
       "      <td>id02</td>\n",
       "      <td>9.0</td>\n",
       "      <td>서울</td>\n",
       "      <td>70.0</td>\n",
       "      <td>1</td>\n",
       "      <td>ENFJ</td>\n",
       "      <td>60.339826</td>\n",
       "    </tr>\n",
       "    <tr>\n",
       "      <th>2</th>\n",
       "      <td>id03</td>\n",
       "      <td>27.0</td>\n",
       "      <td>서울</td>\n",
       "      <td>61.0</td>\n",
       "      <td>1</td>\n",
       "      <td>ISTJ</td>\n",
       "      <td>17.252986</td>\n",
       "    </tr>\n",
       "    <tr>\n",
       "      <th>3</th>\n",
       "      <td>id04</td>\n",
       "      <td>75.0</td>\n",
       "      <td>서울</td>\n",
       "      <td>NaN</td>\n",
       "      <td>2</td>\n",
       "      <td>INFP</td>\n",
       "      <td>52.667078</td>\n",
       "    </tr>\n",
       "    <tr>\n",
       "      <th>4</th>\n",
       "      <td>id05</td>\n",
       "      <td>24.0</td>\n",
       "      <td>서울</td>\n",
       "      <td>85.0</td>\n",
       "      <td>2</td>\n",
       "      <td>ISFJ</td>\n",
       "      <td>29.269869</td>\n",
       "    </tr>\n",
       "  </tbody>\n",
       "</table>\n",
       "</div>"
      ],
      "text/plain": [
       "     id   age city    f1  f2    f4         f5\n",
       "0  id01   2.0   서울   NaN   0  ENFJ  91.297791\n",
       "1  id02   9.0   서울  70.0   1  ENFJ  60.339826\n",
       "2  id03  27.0   서울  61.0   1  ISTJ  17.252986\n",
       "3  id04  75.0   서울   NaN   2  INFP  52.667078\n",
       "4  id05  24.0   서울  85.0   2  ISFJ  29.269869"
      ]
     },
     "execution_count": 8,
     "metadata": {},
     "output_type": "execute_result"
    }
   ],
   "source": [
    "df.head()"
   ]
  },
  {
   "cell_type": "code",
   "execution_count": 9,
   "metadata": {},
   "outputs": [
    {
     "name": "stdout",
     "output_type": "stream",
     "text": [
      "65.52\n"
     ]
    }
   ],
   "source": [
    "# f1결측치 city별 중앙값으로 대체 - fillna\n",
    "df['f1'] = df['f1'].fillna(df['city'].map({'서울':s,'경기':k,'부산':b,'대구':d}))\n",
    "\n",
    "# 만약 그냥 f1 중앙값으로 대체 한다면 \n",
    "# df['f1'] = df['f1'].fillna(df['f1'].median())\n",
    "\n",
    "print(df['f1'].mean())"
   ]
  },
  {
   "cell_type": "code",
   "execution_count": 4,
   "metadata": {},
   "outputs": [
    {
     "data": {
      "text/html": [
       "<div>\n",
       "<style scoped>\n",
       "    .dataframe tbody tr th:only-of-type {\n",
       "        vertical-align: middle;\n",
       "    }\n",
       "\n",
       "    .dataframe tbody tr th {\n",
       "        vertical-align: top;\n",
       "    }\n",
       "\n",
       "    .dataframe thead th {\n",
       "        text-align: right;\n",
       "    }\n",
       "</style>\n",
       "<table border=\"1\" class=\"dataframe\">\n",
       "  <thead>\n",
       "    <tr style=\"text-align: right;\">\n",
       "      <th></th>\n",
       "      <th>id</th>\n",
       "      <th>age</th>\n",
       "      <th>city</th>\n",
       "      <th>f1</th>\n",
       "      <th>f2</th>\n",
       "      <th>f3</th>\n",
       "      <th>f4</th>\n",
       "      <th>f5</th>\n",
       "    </tr>\n",
       "  </thead>\n",
       "  <tbody>\n",
       "    <tr>\n",
       "      <th>8</th>\n",
       "      <td>id09</td>\n",
       "      <td>3.3</td>\n",
       "      <td>서울</td>\n",
       "      <td>35.0</td>\n",
       "      <td>2</td>\n",
       "      <td>NaN</td>\n",
       "      <td>ESFJ</td>\n",
       "      <td>17.252986</td>\n",
       "    </tr>\n",
       "    <tr>\n",
       "      <th>12</th>\n",
       "      <td>id13</td>\n",
       "      <td>15.0</td>\n",
       "      <td>서울</td>\n",
       "      <td>68.0</td>\n",
       "      <td>0</td>\n",
       "      <td>NaN</td>\n",
       "      <td>ESFJ</td>\n",
       "      <td>83.685380</td>\n",
       "    </tr>\n",
       "    <tr>\n",
       "      <th>30</th>\n",
       "      <td>id31</td>\n",
       "      <td>86.0</td>\n",
       "      <td>부산</td>\n",
       "      <td>77.0</td>\n",
       "      <td>0</td>\n",
       "      <td>NaN</td>\n",
       "      <td>ESFJ</td>\n",
       "      <td>73.586397</td>\n",
       "    </tr>\n",
       "    <tr>\n",
       "      <th>58</th>\n",
       "      <td>id59</td>\n",
       "      <td>64.0</td>\n",
       "      <td>대구</td>\n",
       "      <td>NaN</td>\n",
       "      <td>1</td>\n",
       "      <td>NaN</td>\n",
       "      <td>ESFJ</td>\n",
       "      <td>20.129444</td>\n",
       "    </tr>\n",
       "    <tr>\n",
       "      <th>98</th>\n",
       "      <td>id99</td>\n",
       "      <td>1.0</td>\n",
       "      <td>경기</td>\n",
       "      <td>47.0</td>\n",
       "      <td>0</td>\n",
       "      <td>NaN</td>\n",
       "      <td>ESFJ</td>\n",
       "      <td>97.381034</td>\n",
       "    </tr>\n",
       "  </tbody>\n",
       "</table>\n",
       "</div>"
      ],
      "text/plain": [
       "      id   age city    f1  f2   f3    f4         f5\n",
       "8   id09   3.3   서울  35.0   2  NaN  ESFJ  17.252986\n",
       "12  id13  15.0   서울  68.0   0  NaN  ESFJ  83.685380\n",
       "30  id31  86.0   부산  77.0   0  NaN  ESFJ  73.586397\n",
       "58  id59  64.0   대구   NaN   1  NaN  ESFJ  20.129444\n",
       "98  id99   1.0   경기  47.0   0  NaN  ESFJ  97.381034"
      ]
     },
     "execution_count": 4,
     "metadata": {},
     "output_type": "execute_result"
    }
   ],
   "source": [
    "df[df.f4 =='ESFJ']"
   ]
  },
  {
   "cell_type": "code",
   "execution_count": 5,
   "metadata": {},
   "outputs": [
    {
     "data": {
      "text/html": [
       "<div>\n",
       "<style scoped>\n",
       "    .dataframe tbody tr th:only-of-type {\n",
       "        vertical-align: middle;\n",
       "    }\n",
       "\n",
       "    .dataframe tbody tr th {\n",
       "        vertical-align: top;\n",
       "    }\n",
       "\n",
       "    .dataframe thead th {\n",
       "        text-align: right;\n",
       "    }\n",
       "</style>\n",
       "<table border=\"1\" class=\"dataframe\">\n",
       "  <thead>\n",
       "    <tr style=\"text-align: right;\">\n",
       "      <th></th>\n",
       "      <th>id</th>\n",
       "      <th>age</th>\n",
       "      <th>city</th>\n",
       "      <th>f1</th>\n",
       "      <th>f2</th>\n",
       "      <th>f3</th>\n",
       "      <th>f4</th>\n",
       "      <th>f5</th>\n",
       "    </tr>\n",
       "  </thead>\n",
       "  <tbody>\n",
       "  </tbody>\n",
       "</table>\n",
       "</div>"
      ],
      "text/plain": [
       "Empty DataFrame\n",
       "Columns: [id, age, city, f1, f2, f3, f4, f5]\n",
       "Index: []"
      ]
     },
     "execution_count": 5,
     "metadata": {},
     "output_type": "execute_result"
    }
   ],
   "source": [
    "df.f4 = df.f4.replace('ESFJ', 'ISFJ')\n",
    "df[df.f4 =='ESFJ']"
   ]
  },
  {
   "cell_type": "code",
   "execution_count": 8,
   "metadata": {},
   "outputs": [
    {
     "data": {
      "text/html": [
       "<div>\n",
       "<style scoped>\n",
       "    .dataframe tbody tr th:only-of-type {\n",
       "        vertical-align: middle;\n",
       "    }\n",
       "\n",
       "    .dataframe tbody tr th {\n",
       "        vertical-align: top;\n",
       "    }\n",
       "\n",
       "    .dataframe thead th {\n",
       "        text-align: right;\n",
       "    }\n",
       "</style>\n",
       "<table border=\"1\" class=\"dataframe\">\n",
       "  <thead>\n",
       "    <tr style=\"text-align: right;\">\n",
       "      <th></th>\n",
       "      <th>id</th>\n",
       "      <th>age</th>\n",
       "      <th>city</th>\n",
       "      <th>f1</th>\n",
       "      <th>f2</th>\n",
       "      <th>f3</th>\n",
       "      <th>f4</th>\n",
       "      <th>f5</th>\n",
       "    </tr>\n",
       "  </thead>\n",
       "  <tbody>\n",
       "    <tr>\n",
       "      <th>62</th>\n",
       "      <td>id63</td>\n",
       "      <td>88.0</td>\n",
       "      <td>경기</td>\n",
       "      <td>86.0</td>\n",
       "      <td>1</td>\n",
       "      <td>NaN</td>\n",
       "      <td>ISFJ</td>\n",
       "      <td>73.586397</td>\n",
       "    </tr>\n",
       "    <tr>\n",
       "      <th>66</th>\n",
       "      <td>id67</td>\n",
       "      <td>66.0</td>\n",
       "      <td>경기</td>\n",
       "      <td>52.0</td>\n",
       "      <td>1</td>\n",
       "      <td>NaN</td>\n",
       "      <td>ISFJ</td>\n",
       "      <td>73.586397</td>\n",
       "    </tr>\n",
       "    <tr>\n",
       "      <th>72</th>\n",
       "      <td>id73</td>\n",
       "      <td>90.0</td>\n",
       "      <td>경기</td>\n",
       "      <td>NaN</td>\n",
       "      <td>1</td>\n",
       "      <td>NaN</td>\n",
       "      <td>ISFJ</td>\n",
       "      <td>73.586397</td>\n",
       "    </tr>\n",
       "    <tr>\n",
       "      <th>80</th>\n",
       "      <td>id81</td>\n",
       "      <td>86.0</td>\n",
       "      <td>경기</td>\n",
       "      <td>50.0</td>\n",
       "      <td>1</td>\n",
       "      <td>NaN</td>\n",
       "      <td>ISFJ</td>\n",
       "      <td>37.113739</td>\n",
       "    </tr>\n",
       "    <tr>\n",
       "      <th>98</th>\n",
       "      <td>id99</td>\n",
       "      <td>1.0</td>\n",
       "      <td>경기</td>\n",
       "      <td>47.0</td>\n",
       "      <td>0</td>\n",
       "      <td>NaN</td>\n",
       "      <td>ISFJ</td>\n",
       "      <td>97.381034</td>\n",
       "    </tr>\n",
       "  </tbody>\n",
       "</table>\n",
       "</div>"
      ],
      "text/plain": [
       "      id   age city    f1  f2   f3    f4         f5\n",
       "62  id63  88.0   경기  86.0   1  NaN  ISFJ  73.586397\n",
       "66  id67  66.0   경기  52.0   1  NaN  ISFJ  73.586397\n",
       "72  id73  90.0   경기   NaN   1  NaN  ISFJ  73.586397\n",
       "80  id81  86.0   경기  50.0   1  NaN  ISFJ  37.113739\n",
       "98  id99   1.0   경기  47.0   0  NaN  ISFJ  97.381034"
      ]
     },
     "execution_count": 8,
     "metadata": {},
     "output_type": "execute_result"
    }
   ],
   "source": [
    "df[(df.f4=='ISFJ')&(df.city=='경기')]"
   ]
  },
  {
   "cell_type": "code",
   "execution_count": 9,
   "metadata": {},
   "outputs": [
    {
     "data": {
      "text/plain": [
       "90.0"
      ]
     },
     "execution_count": 9,
     "metadata": {},
     "output_type": "execute_result"
    }
   ],
   "source": [
    "df[(df.f4=='ISFJ')&(df.city=='경기')]['age'].max()"
   ]
  },
  {
   "cell_type": "markdown",
   "metadata": {},
   "source": [
    "******************************************************\n"
   ]
  },
  {
   "cell_type": "code",
   "execution_count": 21,
   "metadata": {},
   "outputs": [
    {
     "name": "stdout",
     "output_type": "stream",
     "text": [
      "62.49774712521738\n"
     ]
    },
    {
     "name": "stderr",
     "output_type": "stream",
     "text": [
      "C:\\Users\\kim\\.conda\\envs\\exam_cv2\\lib\\site-packages\\ipykernel_launcher.py:8: SettingWithCopyWarning: \n",
      "A value is trying to be set on a copy of a slice from a DataFrame\n",
      "\n",
      "See the caveats in the documentation: https://pandas.pydata.org/pandas-docs/stable/user_guide/indexing.html#returning-a-view-versus-a-copy\n",
      "  \n"
     ]
    }
   ],
   "source": [
    "\"\"\"\n",
    "데이터셋(basic1.csv)의 'f5' 컬럼을 기준으로 상위 10개의 데이터를 구하고,\n",
    "'f5'컬럼 10개 중 최소값으로 데이터를 대체한 후,\n",
    "'age'컬럼에서 80 이상인 데이터의'f5 컬럼 평균값 구하기\n",
    "\"\"\"\n",
    "\n",
    "import pandas as pd\n",
    "import numpy as np\n",
    "\n",
    "df = pd.read_csv('basic1.csv')\n",
    "df = df.sort_values('f5',ascending=False) #정렬\n",
    "\n",
    "f_min = df.f5[:10].min() #최소값\n",
    "df.f5[:10] = f_min\n",
    "\n",
    "print(df[df.age >= 80].f5.mean())\n"
   ]
  },
  {
   "cell_type": "code",
   "execution_count": 28,
   "metadata": {},
   "outputs": [
    {
     "name": "stdout",
     "output_type": "stream",
     "text": [
      "3.2094305565060814\n"
     ]
    }
   ],
   "source": [
    "\"\"\"\n",
    "데이터셋(basic1.csv)의 앞에서 순서대로 70% 데이터만 활용해서,\n",
    "'f1'컬럼 결측치를 중앙값으로 채우기 전후의 표준편차를 구하고\n",
    "두 표준편차 차이 계산하기\n",
    "\"\"\"\n",
    "\n",
    "import pandas as pd\n",
    "import numpy as np\n",
    "\n",
    "df = pd.read_csv('basic1.csv') #df.shape() 100,8\n",
    "df = df[:70]\n",
    "df.isnull().sum() #결측치 확인\n",
    "std1 = np.std(df.f1)\n",
    "\n",
    "med = df.f1.median()\n",
    "df.f1 = df.f1.fillna(med) #결측치 채우기\n",
    "df.isnull().sum()\n",
    "std2 = np.std(df.f1)\n",
    "\n",
    "print(std1-std2)"
   ]
  },
  {
   "cell_type": "code",
   "execution_count": 33,
   "metadata": {},
   "outputs": [
    {
     "data": {
      "text/plain": [
       "473.5"
      ]
     },
     "execution_count": 33,
     "metadata": {},
     "output_type": "execute_result"
    }
   ],
   "source": [
    "\"\"\"\n",
    "데이터셋(basic1.csv)의 'age'컬럼의 이상치를 더하시오!\n",
    "단, 평균으로부터 '표준편차*1.5'를 벗어나는 영역을 이상치라고 판단함\n",
    "\"\"\"\n",
    "\n",
    "import pandas as pd\n",
    "import numpy as np\n",
    "\n",
    "df = pd.read_csv('basic1.csv') \n",
    "\n",
    "mean = df.age.mean()\n",
    "std = np.std(df.age)*1.5\n",
    "out1 = mean + std\n",
    "out2 = mean - std\n",
    "\n",
    "df[(df.age>out1)|(df.age<out2)]['age'].sum()"
   ]
  },
  {
   "cell_type": "code",
   "execution_count": 49,
   "metadata": {},
   "outputs": [
    {
     "name": "stdout",
     "output_type": "stream",
     "text": [
      "3.90635864969501\n"
     ]
    }
   ],
   "source": [
    "\"\"\"\n",
    "주어진 데이터 중 basic1.csv에서 'f4'컬럼 값이 'ENFJ'와 'INFP'인 'f1'의 표준편차 차이를 절대값으로 구하시오\n",
    "\"\"\"\n",
    "import pandas as pd\n",
    "import numpy as np\n",
    "\n",
    "df = pd.read_csv('basic1.csv') \n",
    "enfj = np.std(df[df.f4=='ENFJ']['f1'])\n",
    "infp = np.std(df[df.f4=='INFP']['f1'])\n",
    "\n",
    "print(np.abs(enfj-infp))\n",
    "\n"
   ]
  },
  {
   "cell_type": "code",
   "execution_count": 67,
   "metadata": {},
   "outputs": [
    {
     "data": {
      "text/html": [
       "<div>\n",
       "<style scoped>\n",
       "    .dataframe tbody tr th:only-of-type {\n",
       "        vertical-align: middle;\n",
       "    }\n",
       "\n",
       "    .dataframe tbody tr th {\n",
       "        vertical-align: top;\n",
       "    }\n",
       "\n",
       "    .dataframe thead th {\n",
       "        text-align: right;\n",
       "    }\n",
       "</style>\n",
       "<table border=\"1\" class=\"dataframe\">\n",
       "  <thead>\n",
       "    <tr style=\"text-align: right;\">\n",
       "      <th></th>\n",
       "      <th></th>\n",
       "      <th>age</th>\n",
       "      <th>f1</th>\n",
       "      <th>f5</th>\n",
       "    </tr>\n",
       "    <tr>\n",
       "      <th>city</th>\n",
       "      <th>f2</th>\n",
       "      <th></th>\n",
       "      <th></th>\n",
       "      <th></th>\n",
       "    </tr>\n",
       "  </thead>\n",
       "  <tbody>\n",
       "    <tr>\n",
       "      <th rowspan=\"3\" valign=\"top\">경기</th>\n",
       "      <th>0</th>\n",
       "      <td>720.4</td>\n",
       "      <td>833.0</td>\n",
       "      <td>943.944823</td>\n",
       "    </tr>\n",
       "    <tr>\n",
       "      <th>1</th>\n",
       "      <td>696.0</td>\n",
       "      <td>670.0</td>\n",
       "      <td>657.241212</td>\n",
       "    </tr>\n",
       "    <tr>\n",
       "      <th>2</th>\n",
       "      <td>239.0</td>\n",
       "      <td>311.0</td>\n",
       "      <td>362.300060</td>\n",
       "    </tr>\n",
       "    <tr>\n",
       "      <th rowspan=\"3\" valign=\"top\">대구</th>\n",
       "      <th>0</th>\n",
       "      <td>387.0</td>\n",
       "      <td>527.0</td>\n",
       "      <td>183.199568</td>\n",
       "    </tr>\n",
       "    <tr>\n",
       "      <th>1</th>\n",
       "      <td>217.6</td>\n",
       "      <td>235.0</td>\n",
       "      <td>241.333824</td>\n",
       "    </tr>\n",
       "    <tr>\n",
       "      <th>2</th>\n",
       "      <td>140.0</td>\n",
       "      <td>211.0</td>\n",
       "      <td>79.667919</td>\n",
       "    </tr>\n",
       "    <tr>\n",
       "      <th rowspan=\"3\" valign=\"top\">부산</th>\n",
       "      <th>0</th>\n",
       "      <td>331.0</td>\n",
       "      <td>389.0</td>\n",
       "      <td>284.371097</td>\n",
       "    </tr>\n",
       "    <tr>\n",
       "      <th>1</th>\n",
       "      <td>188.7</td>\n",
       "      <td>315.0</td>\n",
       "      <td>299.270973</td>\n",
       "    </tr>\n",
       "    <tr>\n",
       "      <th>2</th>\n",
       "      <td>-13.5</td>\n",
       "      <td>47.0</td>\n",
       "      <td>67.886373</td>\n",
       "    </tr>\n",
       "    <tr>\n",
       "      <th rowspan=\"3\" valign=\"top\">서울</th>\n",
       "      <th>0</th>\n",
       "      <td>145.0</td>\n",
       "      <td>278.0</td>\n",
       "      <td>218.528577</td>\n",
       "    </tr>\n",
       "    <tr>\n",
       "      <th>1</th>\n",
       "      <td>315.3</td>\n",
       "      <td>534.0</td>\n",
       "      <td>438.485010</td>\n",
       "    </tr>\n",
       "    <tr>\n",
       "      <th>2</th>\n",
       "      <td>68.3</td>\n",
       "      <td>207.0</td>\n",
       "      <td>126.661135</td>\n",
       "    </tr>\n",
       "  </tbody>\n",
       "</table>\n",
       "</div>"
      ],
      "text/plain": [
       "           age     f1          f5\n",
       "city f2                          \n",
       "경기   0   720.4  833.0  943.944823\n",
       "     1   696.0  670.0  657.241212\n",
       "     2   239.0  311.0  362.300060\n",
       "대구   0   387.0  527.0  183.199568\n",
       "     1   217.6  235.0  241.333824\n",
       "     2   140.0  211.0   79.667919\n",
       "부산   0   331.0  389.0  284.371097\n",
       "     1   188.7  315.0  299.270973\n",
       "     2   -13.5   47.0   67.886373\n",
       "서울   0   145.0  278.0  218.528577\n",
       "     1   315.3  534.0  438.485010\n",
       "     2    68.3  207.0  126.661135"
      ]
     },
     "execution_count": 67,
     "metadata": {},
     "output_type": "execute_result"
    }
   ],
   "source": [
    "\"\"\"\n",
    " 'f1'컬럼 결측 데이터를 제거하고, 'city'와 'f2'을 기준으로 묶어 합계를 구하고, \n",
    " 'city가 경기이면서 f2가 0'인 조건에 만족하는 f1 값을 구하시오\n",
    "\"\"\"\n",
    "import pandas as pd\n",
    "import numpy as np\n",
    "\n",
    "df = pd.read_csv('basic1.csv') \n",
    "df = df.dropna(subset=['f1'])\n",
    "df2 = df.groupby(['city','f2']).sum()\n",
    "df2"
   ]
  },
  {
   "cell_type": "code",
   "execution_count": 72,
   "metadata": {},
   "outputs": [
    {
     "name": "stdout",
     "output_type": "stream",
     "text": [
      "833.0\n",
      "527.0\n"
     ]
    }
   ],
   "source": [
    "print(df2.iloc[0]['f1'])\n",
    "print(df2.iloc[3]['f1'])"
   ]
  },
  {
   "cell_type": "code",
   "execution_count": null,
   "metadata": {},
   "outputs": [],
   "source": []
  }
 ],
 "metadata": {
  "interpreter": {
   "hash": "19a2027c367e4a8fbf50703f7b521df71edff403eb9eba2200ef5f1febf03a5b"
  },
  "kernelspec": {
   "display_name": "Python 3.7.11 64-bit ('exam_cv2': conda)",
   "name": "python3"
  },
  "language_info": {
   "codemirror_mode": {
    "name": "ipython",
    "version": 3
   },
   "file_extension": ".py",
   "mimetype": "text/x-python",
   "name": "python",
   "nbconvert_exporter": "python",
   "pygments_lexer": "ipython3",
   "version": "3.7.11"
  },
  "orig_nbformat": 4
 },
 "nbformat": 4,
 "nbformat_minor": 2
}
