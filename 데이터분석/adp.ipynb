{
 "cells": [
  {
   "cell_type": "code",
   "execution_count": 8,
   "metadata": {},
   "outputs": [
    {
     "name": "stdout",
     "output_type": "stream",
     "text": [
      "9\n"
     ]
    },
    {
     "data": {
      "text/plain": [
       "'\\nimport pandas as pd\\n \\nmtcars = pd.read_csv(\"data/mtcars.csv\")\\nqsec = mtcars[\\'qsec\\']\\n \\nqsec_scale = (qsec - qsec.min()) / (qsec.max()-qsec.min())\\noutput = (qsec_scale > 0.5).sum()\\n\\n'"
      ]
     },
     "execution_count": 8,
     "metadata": {},
     "output_type": "execute_result"
    }
   ],
   "source": [
    "\n",
    "#작업형 1. mtcars 데이터셋(mtcars.csv)의 qsec 컬럼을 최소최대 척도(Min-Max Scale)로 변환한 후 0.5보다 큰 값을 가지는 레코드 수를 구하시오.\n",
    "\n",
    "import pandas as pd\n",
    "from sklearn.preprocessing import MinMaxScaler\n",
    "from sklearn.preprocessing import minmax_scale\n",
    "mtcars = pd.read_csv(\"mtcars.csv\")\n",
    "qsec = mtcars['qsec']\n",
    " \n",
    "scaler = MinMaxScaler()\n",
    "minmax =scaler.fit_transform(mtcars.loc[:,['qsec']])\n",
    "(minmax>0.5).sum()\n",
    "\n",
    "\n",
    "df = pd.read_csv('mtcars.csv')\n",
    "df.qsec = minmax_scale(df.qsec)\n",
    "print((df.qsec>0.5).sum())\n",
    "\n",
    "\n",
    "\n",
    "\"\"\"\n",
    "import pandas as pd\n",
    " \n",
    "mtcars = pd.read_csv(\"data/mtcars.csv\")\n",
    "qsec = mtcars['qsec']\n",
    " \n",
    "qsec_scale = (qsec - qsec.min()) / (qsec.max()-qsec.min())\n",
    "output = (qsec_scale > 0.5).sum()\n",
    "\n",
    "\"\"\""
   ]
  },
  {
   "cell_type": "code",
   "execution_count": null,
   "metadata": {},
   "outputs": [],
   "source": [
    "# 고객 3500명에 대한 학습용 데이터(y_train.csv, X_train.csv)를 이용하여 성별예측 모형을 만든 후,\n",
    "# 이를 평가용 데이터(X_test.csv)에 적용하여 얻은 2482명 고객의 성별 예측값(남자일 확률)을 \n",
    "# 다음과 같은 형식(custid, gender)의 CSV 파일로 생성하시오\n",
    "\n",
    "import pandas as pd\n",
    "from sklearn.preprocessing import LabelEncoder\n",
    "from sklearn.impute import SimpleImputer\n",
    " \n",
    "# 파일 불러오기\n",
    "x_train = pd.read_csv('data/X_train.csv')\n",
    "y_train = pd.read_csv('data/y_train.csv')\n",
    "x_test = pd.read_csv('data/X_test.csv')\n",
    " \n",
    "# 결과를 위해 'cust_id' 저장\n",
    "x_test_id = x_test.loc[:,'cust_id']\n",
    " \n",
    "# 데이터 \n",
    "x_train = x_train.iloc[:, 1:]\n",
    "y_train = y_train.iloc[:, -1]\n",
    "x_test = x_test.iloc[:, 1:]\n",
    " \n",
    "x_train['환불금액'].fillna(0, inplace=True)\n",
    "x_test['환불금액'].fillna(0, inplace=True)\n",
    " \n",
    "x_train.loc[:,['주구매상품', '주구매지점']] = x_train.loc[:,['주구매상품', '주구매지점']].apply(LabelEncoder().fit_transform)\n",
    "x_test.loc[:,['주구매상품', '주구매지점']] = x_test.loc[:,['주구매상품', '주구매지점']].apply(LabelEncoder().fit_transform)\n"
   ]
  },
  {
   "cell_type": "code",
   "execution_count": null,
   "metadata": {},
   "outputs": [],
   "source": [
    "## Logistic\n",
    "from sklearn.linear_model import LogisticRegression\n",
    " \n",
    "model = LogisticRegression()\n",
    "model.fit(x_train, y_train)\n",
    "print('Logistic socre: ',model.score(x_train, y_train))"
   ]
  },
  {
   "cell_type": "code",
   "execution_count": null,
   "metadata": {},
   "outputs": [],
   "source": [
    "## KNN\n",
    "from sklearn.neighbors import KNeighborsClassifier\n",
    " \n",
    "model = KNeighborsClassifier(n_neighbors=4, metric='euclidean')\n",
    "model.fit(x_train, y_train)\n",
    "print('KNN socre: ', model.score(x_train, y_train))"
   ]
  },
  {
   "cell_type": "code",
   "execution_count": null,
   "metadata": {},
   "outputs": [],
   "source": [
    "## Decision Tree\n",
    "from sklearn.tree import DecisionTreeClassifier\n",
    " \n",
    "model = DecisionTreeClassifier(random_state=1, max_depth=10)\n",
    "model.fit(x_train, y_train)\n",
    "print('DTree score: ', model.score(x_train,y_train))"
   ]
  },
  {
   "cell_type": "code",
   "execution_count": null,
   "metadata": {},
   "outputs": [],
   "source": [
    "## SVM\n",
    "from sklearn.svm import SVC\n",
    " \n",
    "model = SVC(C=10, gamma=1, random_state=1, probability=True)\n",
    "model.fit(x_train, y_train)\n",
    "print('SVM socre: ', model.score(x_train,y_train))"
   ]
  },
  {
   "cell_type": "code",
   "execution_count": null,
   "metadata": {},
   "outputs": [],
   "source": [
    "## NN\n",
    "from sklearn.neural_network import MLPClassifier\n",
    " \n",
    "model = MLPClassifier(random_state=0, alpha=0.01, hidden_layer_sizes=[50])\n",
    "model.fit(x_train, y_train)\n",
    "print('NN score: ', model.score(x_train,y_train))"
   ]
  },
  {
   "cell_type": "code",
   "execution_count": null,
   "metadata": {},
   "outputs": [],
   "source": [
    "## RF\n",
    "from sklearn.ensemble import RandomForestClassifier\n",
    " \n",
    "model = RandomForestClassifier(max_depth=10, n_estimators=100)\n",
    "model.fit(x_train, y_train)\n",
    "print('RF score: ', model.score(x_train,y_train))"
   ]
  },
  {
   "cell_type": "code",
   "execution_count": null,
   "metadata": {},
   "outputs": [],
   "source": [
    "predict = model.predict_proba(x_test)\n",
    "output = pd.DataFrame({'cust_id':x_test_id, 'gender':predict[:,0]})\n",
    "output.to_csv('1234.csv', index=False)\n",
    "\n",
    "#https://hobby-weighted.tistory.com/156"
   ]
  }
 ],
 "metadata": {
  "interpreter": {
   "hash": "19a2027c367e4a8fbf50703f7b521df71edff403eb9eba2200ef5f1febf03a5b"
  },
  "kernelspec": {
   "display_name": "Python 3.7.11 64-bit ('exam_cv2': conda)",
   "name": "python3"
  },
  "language_info": {
   "codemirror_mode": {
    "name": "ipython",
    "version": 3
   },
   "file_extension": ".py",
   "mimetype": "text/x-python",
   "name": "python",
   "nbconvert_exporter": "python",
   "pygments_lexer": "ipython3",
   "version": "3.7.11"
  },
  "orig_nbformat": 4
 },
 "nbformat": 4,
 "nbformat_minor": 2
}
