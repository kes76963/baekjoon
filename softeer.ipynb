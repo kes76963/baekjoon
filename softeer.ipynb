{
 "cells": [
  {
   "cell_type": "code",
   "execution_count": 2,
   "metadata": {},
   "outputs": [
    {
     "data": {
      "text/plain": [
       "[[0, 0, 0, 0, 0, 0, 0, 0, 0],\n",
       " [0, 0, 0, 0, 0, 0, 0, 0, 0],\n",
       " [0, 0, 0, 0, 0, 0, 0, 0, 0]]"
      ]
     },
     "execution_count": 2,
     "metadata": {},
     "output_type": "execute_result"
    }
   ],
   "source": [
    "import sys \n",
    "N,M = map(int, sys.stdin.readline().split())\n",
    "\n",
    "lst1 = {}\n",
    "for i in range(N) :\n",
    "    name = sys.stdin.readline()\n",
    "    lst1[name] = i\n",
    "    \n",
    "lst2 = [[0] * 9] *N\n",
    "\n",
    "for i in range(M) :\n",
    "    a, b, c = map(int, sys.stdin.readline().split())\n",
    "    num = lst1[a]\n",
    "    time1 = b-9\n",
    "    time2 = b=a\n",
    "    \n",
    "# 9 10 11 12 13 14 15 16 17\n"
   ]
  },
  {
   "cell_type": "code",
   "execution_count": null,
   "metadata": {},
   "outputs": [],
   "source": [
    "# 회의실 예약\n",
    "n,m = map(int,input().split())\n",
    "\n",
    "room = {}\n",
    "for i in range(n) :\n",
    "    name = input()\n",
    "    room[name] = [0]*18+[1]\n",
    "    \n",
    "for i in range(m):\n",
    "    name, start, end = input().split()\n",
    "    start = int(start)\n",
    "    end = int(end)\n",
    "    for j in range(start,end):\n",
    "        room[name][j]=1\n",
    "        \n",
    "romm = sorted(room.items())\n",
    "\n",
    "for i in range(n):\n",
    "    current = 1\n",
    "    temp = []\n",
    "    for j in range(9,19):\n",
    "        if current == 1 and room[i][1][j] == 0 :\n",
    "            sTime = j\n",
    "            current = 0\n",
    "        elif current == 0 and room[i][1] == 1 :\n",
    "            fTime = j\n",
    "            current =1\n",
    "            temp.append([sTime,fTime])\n",
    "        \n",
    "        print(f'Room {room[i][0]}:')\n",
    "        if len(temp) == 0:\n",
    "            print('Not available')\n",
    "        else :\n",
    "            print(len(temp), 'available:')\n",
    "            for j in range(len(temp)) :\n",
    "                print(f'{temp[j][0]:02d}-{temp[j][1]}')\n",
    "        if i != n-1 :\n",
    "            print('-----')\n",
    "        \n",
    "            "
   ]
  },
  {
   "cell_type": "code",
   "execution_count": null,
   "metadata": {},
   "outputs": [],
   "source": [
    "#전광판\n",
    "light = {'0':'1110111',\n",
    "         '1':'0010010',\n",
    "         '2':'1011101',\n",
    "         '3':'1011011',\n",
    "         '4':'0111010',\n",
    "         '5':'1101011',\n",
    "         '6':'1101111',\n",
    "         '7':'1110010',\n",
    "         '8':'1111111',\n",
    "         '9':'1111011',\n",
    "         ' ':'0000000'        \n",
    "    \n",
    "}\n",
    "\n",
    "t = int(input())\n",
    "for k in range(t):\n",
    "    a,b = input().split()\n",
    "    a= (5-len(a))*' '+a\n",
    "    b= (5-len(b))*' '+b\n",
    "    \n",
    "    total = 0\n",
    "    for i in range(5):\n",
    "        for j in range(7):\n",
    "            total += (light[a[i]][j] != light[b[i]][j])\n",
    "    \n",
    "    print(total)"
   ]
  },
  {
   "cell_type": "code",
   "execution_count": null,
   "metadata": {},
   "outputs": [],
   "source": [
    "#비밀메뉴\n",
    "m, n ,k = map(int, input().split())\n",
    "M = input().split()\n",
    "N = input().split()\n",
    "\n",
    "secret = False\n",
    "for i in range(n-m+1) :\n",
    "    if M == N[i:i+m] :\n",
    "        secret  =True\n",
    "        break\n",
    "    \n",
    "if secret == True :\n",
    "    print('secret')\n",
    "else :\n",
    "    print('normal')"
   ]
  },
  {
   "cell_type": "code",
   "execution_count": null,
   "metadata": {},
   "outputs": [],
   "source": [
    "# GBC\n",
    "n,m = map(int,input().split())\n",
    "\n",
    "lst1 = [list(map(int,input().split())) for _ in range(n)]\n",
    "lst2 = [list(map(int,input().split())) for _ in range(m)]\n",
    "total = 0\n",
    "differ = 0\n",
    "\n",
    "while True :\n",
    "    if lst1 == [] or lst2 ==[]:\n",
    "        break\n",
    "    \n",
    "    length = lst2[0][0] - lst1[0][0]\n",
    "    temp = lst2[0][1] - lst1[0][1]\n",
    "    if length > 0:\n",
    "        differ = max(differ, temp)\n",
    "        lst1.pop(0)\n",
    "        lst2[0][0] = length\n",
    "    \n",
    "    elif length < 0 :\n",
    "        differ = max(differ, temp)\n",
    "        lst2.pop(0)\n",
    "        lst1[0][0] = length        \n",
    "\n",
    "    else :\n",
    "        differ = max(differ, temp)\n",
    "        lst2.pop(0)\n",
    "        lst1.pop(0)\n",
    "\n",
    "print(differ)"
   ]
  },
  {
   "cell_type": "code",
   "execution_count": 5,
   "metadata": {},
   "outputs": [
    {
     "data": {
      "text/plain": [
       "[[30, 4], [70, 2], [90, 1], [100, 1]]"
      ]
     },
     "execution_count": 5,
     "metadata": {},
     "output_type": "execute_result"
    }
   ],
   "source": [
    "# 금고털이 / 그리디 알고리즘 / O (NlogN)\n",
    "\n",
    "\n",
    "w, n = map(int, input().split())\n",
    "\n",
    "lst = [list(map(int,input().split())) for _ in range(n)]\n",
    "lst = sorted(lst, key=lambda x:x[1],reverse=True)\n",
    "\n",
    "ans = 0\n",
    "\n",
    "for weight, price in lst :\n",
    "    if w > weight :\n",
    "        ans += weight*price\n",
    "        w -= weight\n",
    "    else : \n",
    "        ans += w*price\n",
    "        break\n",
    "\n",
    "print(ans)"
   ]
  },
  {
   "cell_type": "code",
   "execution_count": null,
   "metadata": {},
   "outputs": [],
   "source": [
    "# 금고털이 / 그리디 알고리즘 / O (NlogN)\n",
    "\n",
    "import sys\n",
    "\n",
    "w, n = map(int, sys.stdin.readline().split())\n",
    "\n",
    "lst = [list(map(int,sys.stdin.readline().split())) for _ in range(n)]\n",
    "lst = sorted(lst, key=lambda x:x[1],reverse=True)\n",
    "\n",
    "ans = 0\n",
    "\n",
    "for weight, price in lst :\n",
    "    if w > weight :\n",
    "        ans += weight*price\n",
    "        w -= weight\n",
    "    else : \n",
    "        ans += w*price\n",
    "        break\n",
    "\n",
    "print(ans)"
   ]
  },
  {
   "cell_type": "code",
   "execution_count": null,
   "metadata": {},
   "outputs": [],
   "source": [
    "# 바이러스\n",
    "\n",
    "import sys\n",
    "\n",
    "k,p,n = map(int, input().split())\n",
    "\n",
    "virus = k * (p ** n)\n",
    "\n",
    "a,b = divmod(virus, 1000000007)\n",
    "print(b)\n",
    "\n",
    "######################################\n",
    "import sys\n",
    "\n",
    "k,p,n = map(int, input().split())\n",
    "\n",
    "virus = k \n",
    "div = 1000000007\n",
    "\n",
    "for _ in range(n) :\n",
    "    _, b = divmod(virus * p, div)\n",
    "    virus = b\n",
    "\n",
    "print(virus)"
   ]
  },
  {
   "cell_type": "code",
   "execution_count": 8,
   "metadata": {},
   "outputs": [
    {
     "data": {
      "text/plain": [
       "[8, 7, 6, 5, 4, 3, 2, 1]"
      ]
     },
     "execution_count": 8,
     "metadata": {},
     "output_type": "execute_result"
    }
   ],
   "source": [
    "# 8단 변속기\n",
    "import sys\n",
    "# input = sys.stdin.readline()\n",
    "gears = list(map(int, input().split()))\n",
    "\n",
    "# asc = [i for i in range(1,9)]\n",
    "# desc = [i for i in range(8,0,-1)]\n",
    "\n",
    "def solution(gears) :\n",
    "    mix = [i for i in range(2,8)]\n",
    "    if gears[0] in mix :\n",
    "        return 'mixed'\n",
    "\n",
    "    else :\n",
    "        if gears[0] == 1 :\n",
    "            for i in range(7):\n",
    "                if gears[i+1] - gears[i] == 1 :\n",
    "                    continue\n",
    "                else :\n",
    "                    return 'mixed'\n",
    "            return 'ascending'\n",
    "        else :\n",
    "            for i in range(7):\n",
    "                if gears[i] - gears[i+1] == 1 :\n",
    "                    continue\n",
    "                else :\n",
    "                    return 'mixed'\n",
    "            return 'descending'\n",
    "\n",
    "print(solution(gears))"
   ]
  },
  {
   "cell_type": "code",
   "execution_count": null,
   "metadata": {},
   "outputs": [],
   "source": []
  }
 ],
 "metadata": {
  "interpreter": {
   "hash": "9b89dbf827e7738bf2816a99ffce0fb967864b4bd8d6d1dba680060c73ea2b47"
  },
  "kernelspec": {
   "display_name": "Python 3.7.10 ('basic')",
   "language": "python",
   "name": "python3"
  },
  "language_info": {
   "codemirror_mode": {
    "name": "ipython",
    "version": 3
   },
   "file_extension": ".py",
   "mimetype": "text/x-python",
   "name": "python",
   "nbconvert_exporter": "python",
   "pygments_lexer": "ipython3",
   "version": "3.7.10"
  },
  "orig_nbformat": 4
 },
 "nbformat": 4,
 "nbformat_minor": 2
}
