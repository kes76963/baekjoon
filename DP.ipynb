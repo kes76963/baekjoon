{
 "cells": [
  {
   "cell_type": "code",
   "execution_count": null,
   "source": [
    "정수 X에 사용할 수 있는 연산은 다음과 같이 세 가지 이다.\r\n",
    "\r\n",
    "X가 3으로 나누어 떨어지면, 3으로 나눈다.\r\n",
    "X가 2로 나누어 떨어지면, 2로 나눈다.\r\n",
    "1을 뺀다.\r\n",
    "정수 N이 주어졌을 때, 위와 같은 연산 세 개를 적절히 사용해서 1을 만들려고 한다. 연산을 사용하는 횟수의 최솟값을 출력하시오."
   ],
   "outputs": [],
   "metadata": {}
  },
  {
   "cell_type": "code",
   "execution_count": 12,
   "source": [
    "# x = int(input())\r\n",
    "x= 10\r\n",
    "count =0\r\n",
    "while x != 1 :\r\n",
    "    if x % 3 == 0:\r\n",
    "        x = x/3\r\n",
    "    elif x % 2 == 0 :\r\n",
    "        x = x/2\r\n",
    "    elif x >= 2 :\r\n",
    "        x -= 1\r\n",
    "    count += 1\r\n",
    "    print(x)\r\n",
    "\r\n",
    "print(count)"
   ],
   "outputs": [
    {
     "output_type": "stream",
     "name": "stdout",
     "text": [
      "5.0\n",
      "4.0\n",
      "2.0\n",
      "1.0\n",
      "4\n"
     ]
    }
   ],
   "metadata": {}
  },
  {
   "cell_type": "code",
   "execution_count": 17,
   "source": [
    "case = 10\r\n",
    "# case = int(input())\r\n",
    "\r\n",
    "dp = [0,0,1,1]\r\n",
    "\r\n",
    "# dp[n] = min(dp[n-1] , dp[n//2], dp[n//3]) + 1\r\n",
    "for i in range(4, case+1):\r\n",
    "    dp.append(dp[i-1]+1)\r\n",
    "    if i%2 == 0:\r\n",
    "        dp[i] = min(dp[i//2]+1, dp[i])\r\n",
    "    if i%3 == 0:\r\n",
    "        dp[i] = min(dp[i//3]+1, dp[i])\r\n",
    "\r\n",
    "print(dp[case])"
   ],
   "outputs": [
    {
     "output_type": "stream",
     "name": "stdout",
     "text": [
      "3\n"
     ]
    }
   ],
   "metadata": {}
  },
  {
   "cell_type": "code",
   "execution_count": 107,
   "source": [
    "def ncr(n,r) :\r\n",
    "    nc, cr = 1, 1\r\n",
    "    for i in range(n,n-r,-1):\r\n",
    "        nc = nc*i\r\n",
    "    for i in range(1,r+1) :\r\n",
    "        cr = cr*i\r\n",
    "    count = nc / cr\r\n",
    "    # print(count)\r\n",
    "    return count\r\n",
    "\r\n",
    "m = 9\r\n",
    "a,b = divmod(m,2)\r\n",
    "print(a,b)\r\n",
    "\r\n",
    "if a == 1 :\r\n",
    "    sum = 1\r\n",
    "elif b == 1 :\r\n",
    "    sum = 1\r\n",
    "    while a > 0 :\r\n",
    "        n = m - a\r\n",
    "        r = a\r\n",
    "        sum += ncr(n,r) \r\n",
    "        a -= 1\r\n",
    "        \r\n",
    "elif b == 0 : \r\n",
    "    sum = 1\r\n",
    "    while a > 0 :\r\n",
    "        \r\n",
    "        for i in range(1,a+1) :\r\n",
    "            n = m -i\r\n",
    "        \r\n",
    "        r = a\r\n",
    "        sum += ncr(n,r) \r\n",
    "        a -= 1\r\n",
    "     \r\n",
    "        \r\n",
    "print(sum % 10007)\r\n"
   ],
   "outputs": [
    {
     "output_type": "stream",
     "name": "stdout",
     "text": [
      "4 1\n",
      "55.0\n"
     ]
    }
   ],
   "metadata": {}
  },
  {
   "cell_type": "code",
   "execution_count": 108,
   "source": [
    "n = 4\r\n",
    "dp = [0,1,2]\r\n",
    "\r\n",
    "for i in range(3,n+1):\r\n",
    "    dp.append(dp[i-1] + dp[i-2])\r\n",
    "\r\n",
    "print(dp[n] % 10007)"
   ],
   "outputs": [
    {
     "output_type": "stream",
     "name": "stdout",
     "text": [
      "5\n"
     ]
    }
   ],
   "metadata": {}
  },
  {
   "cell_type": "code",
   "execution_count": null,
   "source": [
    "\r\n",
    "1 + n + 2n +\r\n",
    "1 / 5 / 4 / \r\n",
    "1+1+1+1+1 \r\n",
    "1+1+1+2\r\n",
    "1+1+2+1\r\n",
    "1+2+1+1\r\n",
    "2+1+1+1\r\n",
    "1+2+2\r\n",
    "2+1+2\r\n",
    "2+2+1\r\n",
    "1+1+3\r\n",
    "1+3+1\r\n",
    "3+1+1\r\n",
    "13+2\r\n",
    "21+3\r\n",
    "231\r\n",
    "\r\n",
    "1+1+1+1+1\r\n",
    "1+1+1+2\r\n",
    "1+1+2+1\r\n",
    "1+2+1+1\r\n",
    "2+1+1+1\r\n",
    "1+2+2\r\n",
    "2+1+2\r\n",
    "2+2+1\r\n",
    "1+1+3\r\n",
    "1+3+1\r\n",
    "3+1+1\r\n",
    "3+2\r\n",
    "2+3\r\n",
    "\r\n",
    "1+1+1+1\r\n",
    "1+1+2\r\n",
    "1+2+1\r\n",
    "2+1+1\r\n",
    "2+2\r\n",
    "1+3\r\n",
    "3+1\r\n",
    "\r\n",
    "    1+1+1\r\n",
    "    1+2\r\n",
    "    2+1\r\n",
    "    30\r\n",
    "\r\n",
    "      1+1\r\n",
    "  \r\n",
    "  \r\n",
    "  \r\n",
    "1 2 3 4 5 6 7 \r\n",
    "1 2 4 7 13  44"
   ],
   "outputs": [],
   "metadata": {}
  },
  {
   "cell_type": "code",
   "execution_count": 16,
   "source": [
    "n = 10\r\n",
    "lst = [1,2,4]\r\n",
    "for i in range(3,10) :\r\n",
    "    lst.append(lst[i-3]+lst[i-2]+lst[i-1])\r\n",
    "        \r\n",
    "for i in range(10) :\r\n",
    "    t = 4\r\n",
    "    # print(lst[t-1])\r\n",
    "\r\n",
    "print(lst[9])\r\n"
   ],
   "outputs": [
    {
     "output_type": "stream",
     "name": "stdout",
     "text": [
      "274\n"
     ]
    }
   ],
   "metadata": {}
  },
  {
   "cell_type": "code",
   "execution_count": null,
   "source": [
    "12/3/4/5/6/7/8/9"
   ],
   "outputs": [],
   "metadata": {}
  }
 ],
 "metadata": {
  "orig_nbformat": 4,
  "language_info": {
   "name": "python",
   "version": "3.7.10",
   "mimetype": "text/x-python",
   "codemirror_mode": {
    "name": "ipython",
    "version": 3
   },
   "pygments_lexer": "ipython3",
   "nbconvert_exporter": "python",
   "file_extension": ".py"
  },
  "kernelspec": {
   "name": "python3",
   "display_name": "Python 3.7.10 64-bit ('exam_cv2': conda)"
  },
  "interpreter": {
   "hash": "19a2027c367e4a8fbf50703f7b521df71edff403eb9eba2200ef5f1febf03a5b"
  }
 },
 "nbformat": 4,
 "nbformat_minor": 2
}