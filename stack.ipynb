{
 "cells": [
  {
   "cell_type": "code",
   "execution_count": null,
   "source": [
    "#10828\r\n",
    "import sys\r\n",
    "n = int(sys.stdin.readline())\r\n",
    "\r\n",
    "stack = []\r\n",
    "\r\n",
    "for _ in range(n) :\r\n",
    "    orders = sys.stdin.readline().split()\r\n",
    "    order = orders[0]\r\n",
    "    \r\n",
    "    if order == 'push':\r\n",
    "       value = orders[1] \r\n",
    "       stack.append(value)\r\n",
    "    \r\n",
    "    elif order == 'pop':\r\n",
    "        if len(stack) == 0:\r\n",
    "            print(-1)\r\n",
    "        else :\r\n",
    "            print(stack.pop())\r\n",
    "    \r\n",
    "    elif order == 'size' :\r\n",
    "        if len(stack) > 0 :\r\n",
    "            print(len(stack))\r\n",
    "            \r\n",
    "    elif order == 'empty' :\r\n",
    "        if len(stack) == 0 :\r\n",
    "            print(1)\r\n",
    "        else :\r\n",
    "            print(0)\r\n",
    "    \r\n",
    "    elif order == 'top' : \r\n",
    "        if len(stack) == 0:\r\n",
    "            print(-1)\r\n",
    "        else :\r\n",
    "            print(stack[-1])"
   ],
   "outputs": [],
   "metadata": {}
  },
  {
   "cell_type": "code",
   "execution_count": null,
   "source": [
    "import sys\r\n",
    "n = int(sys.stdin.readline())\r\n",
    "\r\n",
    "for _ in range(n):\r\n",
    "    s = sys.stdin.readline()\r\n",
    "    for _ in range(len(s)/2):\r\n",
    "        if '()' in s:\r\n",
    "            s = s.replace('()','')\r\n",
    "        elif '()' not in s :\r\n",
    "            break \r\n",
    "    if len(s) == 0:\r\n",
    "        print('YES')\r\n",
    "    else :\r\n",
    "        print('NO')\r\n",
    "        "
   ],
   "outputs": [],
   "metadata": {}
  },
  {
   "cell_type": "code",
   "execution_count": 15,
   "source": [
    "s = '(()())((()))'\r\n",
    "if '()' in s:\r\n",
    "    s = s.replace('()','')\r\n",
    "    print(s)\r\n",
    "    s = s.replace('()','')\r\n",
    "    print(s)\r\n",
    "    s = s.replace('()','')\r\n",
    "    print(s)\r\n",
    "\r\n",
    "print(len(s))\r\n",
    "if len(s) == 0 :\r\n",
    "    print(True) \r\n",
    "\r\n",
    "text = '123,456,789,999'\r\n",
    "\r\n",
    "replaceAll= text.replace(\",\",\"\")\r\n",
    "replace_t1 = text.replace(\",\", \"\",1)\r\n",
    "replace_t2 = text.replace(\",\", \"\",2)\r\n",
    "replace_t3 = text.replace(\",\", \"\",3)\r\n",
    "print(\"결과 :\")\r\n",
    "print(replaceAll)\r\n",
    "print(replace_t1)\r\n",
    "print(replace_t2)\r\n",
    "print(replace_t3)\r\n",
    "\r\n",
    "'''\r\n",
    "결과 : \r\n",
    "123456789999\r\n",
    "123456,789,999\r\n",
    "123456789,999\r\n",
    "123456789999\r\n",
    "'''"
   ],
   "outputs": [
    {
     "output_type": "stream",
     "name": "stdout",
     "text": [
      "()(())\n",
      "()\n",
      "\n",
      "0\n",
      "True\n"
     ]
    }
   ],
   "metadata": {}
  },
  {
   "cell_type": "code",
   "execution_count": null,
   "source": [
    "#9012\r\n",
    "import sys\r\n",
    "n = int(sys.stdin.readline())\r\n",
    "\r\n",
    "for _ in range(n):\r\n",
    "    s = sys.stdin.readline().strip()\r\n",
    "    for _ in range(len(s)//2):\r\n",
    "        if '()' in s:\r\n",
    "            s = s.replace('()','')\r\n",
    "        elif '()' not in s :\r\n",
    "            break \r\n",
    "    if len(s) == 0:\r\n",
    "        print('YES')\r\n",
    "    else :\r\n",
    "        print('NO')\r\n",
    "\r\n",
    "# sys.stdin.readline()은 입력의 마지막에 줄바꿈(/n)을 포함하기 때문에 이를 제거해야 한다\r\n"
   ],
   "outputs": [],
   "metadata": {}
  },
  {
   "cell_type": "code",
   "execution_count": null,
   "source": [
    "val = input()\r\n",
    "sum=0\r\n",
    "left=0\r\n",
    "for i in range(len(val)):\r\n",
    "    if val[i]=='(':\r\n",
    "        left+=1\r\n",
    "    elif val[i]==')':\r\n",
    "        left-=1\r\n",
    "        if val[i-1]=='(':\r\n",
    "            sum+=left\r\n",
    "        else:\r\n",
    "            sum+=1\r\n",
    "print(sum)\r\n",
    "\r\n",
    "(((( 4 3 ) (3 )2  )(())()))(())\r\n",
    "3 3 1 \r\n"
   ],
   "outputs": [],
   "metadata": {}
  },
  {
   "cell_type": "code",
   "execution_count": null,
   "source": [
    "# 10799\r\n",
    "a = list(input())\r\n",
    "b = []\r\n",
    "n = 0\r\n",
    "\r\n",
    "for i in range(len(a)):\r\n",
    "    if a[i] == '(':\r\n",
    "        b.append('(')\r\n",
    "    else :\r\n",
    "        if a[i-1] == '(':\r\n",
    "            b.pop()\r\n",
    "            n += len(b)\r\n",
    "            \r\n",
    "        else :\r\n",
    "            b.pop()\r\n",
    "            n+=1\r\n",
    "print(n)"
   ],
   "outputs": [],
   "metadata": {}
  }
 ],
 "metadata": {
  "orig_nbformat": 4,
  "language_info": {
   "name": "python",
   "version": "3.7.10",
   "mimetype": "text/x-python",
   "codemirror_mode": {
    "name": "ipython",
    "version": 3
   },
   "pygments_lexer": "ipython3",
   "nbconvert_exporter": "python",
   "file_extension": ".py"
  },
  "kernelspec": {
   "name": "python3",
   "display_name": "Python 3.7.10 64-bit ('exam_cv2': conda)"
  },
  "interpreter": {
   "hash": "19a2027c367e4a8fbf50703f7b521df71edff403eb9eba2200ef5f1febf03a5b"
  }
 },
 "nbformat": 4,
 "nbformat_minor": 2
}