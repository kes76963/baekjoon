{
 "cells": [
  {
   "cell_type": "code",
   "execution_count": 9,
   "metadata": {},
   "outputs": [
    {
     "name": "stdout",
     "output_type": "stream",
     "text": [
      "6\n",
      "6\n",
      "5\n",
      "5\n"
     ]
    }
   ],
   "source": [
    "#10430\n",
    "a,b,c = map(int, input().split())\n",
    "\n",
    "print((a+b)%c)\n",
    "print(((a+c)+(b+c))%c)\n",
    "print((a*b)%c)\n",
    "print(((a%c)*(b%c))%c)"
   ]
  },
  {
   "cell_type": "code",
   "execution_count": 16,
   "metadata": {},
   "outputs": [
    {
     "name": "stdout",
     "output_type": "stream",
     "text": [
      "6\n",
      "72.0\n"
     ]
    },
    {
     "data": {
      "text/plain": [
       "'\\n최소공배수는 x와 y의 공통된 배수 가운데 최소값. \\n최소공배수는 주어진 수인 x,y의 곱에서 x,y의 최대공약수를 나누어 준 값\\n유클리드 호제법을 사용해 최대공약수를 구한 다음, \\nx와 y의 곱한 값을 나눠주면 최소공배수를 구함\\n'"
      ]
     },
     "execution_count": 16,
     "metadata": {},
     "output_type": "execute_result"
    }
   ],
   "source": [
    "#2609 ***\n",
    "import math\n",
    "a, b = map(int, input().split())\n",
    "gcd = math.gcd(a,b)\n",
    "lcm = (a*b)/ gcd\n",
    "print(gcd)  #최대공약수\n",
    "print(int(lcm)) #lcm은 3.9버전부터 있음\n",
    "\n",
    "#################\n",
    "\n",
    "a, b = map(int, input().split())\n",
    "\n",
    "def gcd(a, b):\n",
    "    while b > 0:\n",
    "        a, b = b, a % b\n",
    "    return a\n",
    "\n",
    "def lcm(a, b):\n",
    "    return a * b // gcd(a, b)\n",
    "\n",
    "print(gcd(a, b))\n",
    "print(lcm(a, b))\n",
    "\n",
    "\"\"\"\n",
    "최소공배수는 x와 y의 공통된 배수 가운데 최소값. \n",
    "최소공배수는 주어진 수인 x,y의 곱에서 x,y의 최대공약수를 나누어 준 값\n",
    "유클리드 호제법을 사용해 최대공약수를 구한 다음, \n",
    "x와 y의 곱한 값을 나눠주면 최소공배수를 구함\n",
    "\"\"\""
   ]
  },
  {
   "cell_type": "code",
   "execution_count": 15,
   "metadata": {},
   "outputs": [
    {
     "data": {
      "text/plain": [
       "4"
      ]
     },
     "execution_count": 15,
     "metadata": {},
     "output_type": "execute_result"
    }
   ],
   "source": [
    "# 1934\n",
    "import sys\n",
    "\n",
    "def gcd(a,b):\n",
    "    while b >0:\n",
    "        a,b = b, a%b\n",
    "    return a\n",
    "def lcm(a,b):\n",
    "    return (a*b) // gcd(a,b)\n",
    "\n",
    "n = int(input())\n",
    "\n",
    "for _ in range(n):\n",
    "    a,b = map(int, sys.stdin.readline().split())\n",
    "    print(lcm(a,b))\n",
    "    "
   ]
  },
  {
   "cell_type": "code",
   "execution_count": null,
   "metadata": {},
   "outputs": [],
   "source": [
    "def gcd(x,y):\n",
    "    mod = x % y\n",
    "    while mod >0:\n",
    "        x = y\n",
    "        y = mod\n",
    "        mod = x % y\n",
    "    return y\n",
    "    \n",
    "for A in range(1, 10):\n",
    "    for B in range(1, 10):\n",
    "        C = int('1' * A)\n",
    "        D = int('1' * B)\n",
    "        print(A, B, len(str(gcd(C, D))))"
   ]
  },
  {
   "cell_type": "code",
   "execution_count": null,
   "metadata": {},
   "outputs": [],
   "source": [
    "#1850\n",
    "import math\n",
    "\n",
    "a,b = map(int, input().split())\n",
    "print('1'*math.gcd(a,b))"
   ]
  },
  {
   "cell_type": "code",
   "execution_count": 4,
   "metadata": {},
   "outputs": [
    {
     "data": {
      "text/plain": [
       "10"
      ]
     },
     "execution_count": 4,
     "metadata": {},
     "output_type": "execute_result"
    }
   ],
   "source": [
    "import math\n",
    "\n",
    "math.gcd(20,30)\n",
    "10 20 30 40\n",
    "20 30 40\n",
    "30 40"
   ]
  },
  {
   "cell_type": "code",
   "execution_count": null,
   "metadata": {},
   "outputs": [],
   "source": [
    "#9613\n",
    "import math\n",
    "\n",
    "num = int(input())\n",
    "\n",
    "for _ in range(num):\n",
    "    n = list(map(int, input().split()))\n",
    "    print(len(n))\n",
    "    sum = 0\n",
    "    for i in range(1,len(n)):\n",
    "        for j in range(i+1,len(n)):\n",
    "            print(n[i],n[j])\n",
    "            sum += math.gcd(n[i],n[j])\n",
    "    print(sum)"
   ]
  },
  {
   "cell_type": "code",
   "execution_count": 2,
   "metadata": {},
   "outputs": [
    {
     "name": "stdout",
     "output_type": "stream",
     "text": [
      "70\n"
     ]
    }
   ],
   "source": [
    "#순열 조합\n",
    "import itertools\n",
    "import math\n",
    "\n",
    "t = int(input())\n",
    "for i in range(t):\n",
    "    num_list = list(map(int, input().split()))\n",
    "    num_list = num_list[1:]\n",
    "    ans = 0\n",
    "    for a, b in itertools.combinations(num_list, 2):\n",
    "        ans += math.gcd(a, b)\n",
    "    print(ans)\n",
    "    \n",
    "\"\"\"\n",
    "import itertools\n",
    "\n",
    "chars = ['A', 'B', 'C']\n",
    "\n",
    "p = itertools.permutations(chars, 2)  # 순열\n",
    "c = itertools.combinations(chars, 2)  # 조합\n",
    "\"\"\""
   ]
  },
  {
   "cell_type": "code",
   "execution_count": null,
   "metadata": {},
   "outputs": [],
   "source": [
    "# 11005\n",
    "# 10진수를 n진수로 (36진수)\n",
    "\n",
    "system = \"0123456789ABCDEFGHIJKLMNOPQRSTUVWXYZ\" \n",
    "N, B = map(int, input().split())\n",
    "answer = ''\n",
    "\n",
    "while N != 0:\n",
    "    answer += str(system[N % B]) \n",
    "    N //= B\n",
    "\n",
    "print(answer[::-1])\n",
    "\n",
    "\"\"\"\n",
    "362 = 36 10 / 2\n",
    "36 = 3 / 6\n",
    "\"\"\"\n"
   ]
  },
  {
   "cell_type": "code",
   "execution_count": null,
   "metadata": {},
   "outputs": [],
   "source": [
    "# 10진수를 n진수로 (2-9)\n",
    "d = 1000 #10진수 숫자\n",
    "n = 3 #진수\n",
    "tmp = ''\n",
    "while d:\n",
    "\ttmp += str(d % n)\n",
    "    d = d // n\n",
    "    \n",
    "print(int(tmp))"
   ]
  },
  {
   "cell_type": "code",
   "execution_count": null,
   "metadata": {},
   "outputs": [],
   "source": [
    "# 2745\n",
    "# n 진수를 10진수로\n",
    "system = \"0123456789ABCDEFGHIJKLMNOPQRSTUVWXYZ\" \n",
    "N, B = input().split()\n",
    "N = N[::-1] #거꾸로 스택을 쌓아가기 때문\n",
    "B = int(B)\n",
    "answer = 0\n",
    "\n",
    "for i in range(len(N)):\n",
    "    answer += system.index(N[i]) * (B ** i)\n",
    "\n",
    "print(answer)"
   ]
  },
  {
   "cell_type": "code",
   "execution_count": 4,
   "metadata": {},
   "outputs": [
    {
     "name": "stdout",
     "output_type": "stream",
     "text": [
      "60466175\n"
     ]
    }
   ],
   "source": [
    "# n진수를 10진수로 변환\n",
    "n, b = input().split()\n",
    "print(int(n, int(b))) #int('문자열', 진법수)\n"
   ]
  },
  {
   "cell_type": "code",
   "execution_count": 18,
   "metadata": {},
   "outputs": [
    {
     "name": "stdout",
     "output_type": "stream",
     "text": [
      "1011\n",
      "13\n",
      "b\n",
      "314\n"
     ]
    }
   ],
   "source": [
    "# 1373\n",
    "# 10진수를 2,8,16진수\n",
    "print(bin(11)[2:]) #2진수\n",
    "print(oct(11)[2:]) #8진수\n",
    "print(hex(11)[2:]) #3진수\n",
    "\n",
    "print(oct(int(input(),2))[2:])"
   ]
  },
  {
   "cell_type": "code",
   "execution_count": 22,
   "metadata": {},
   "outputs": [
    {
     "name": "stdout",
     "output_type": "stream",
     "text": [
      "11001100\n"
     ]
    }
   ],
   "source": [
    "#1212\n",
    "# 8진수 -> 10진수 -> 2진수\n",
    "print(bin(int(input(),8))[2:])"
   ]
  },
  {
   "cell_type": "code",
   "execution_count": 29,
   "metadata": {},
   "outputs": [
    {
     "name": "stdout",
     "output_type": "stream",
     "text": [
      "100100010\n"
     ]
    },
    {
     "data": {
      "text/plain": [
       "'\\n연산자는 몫을 소수점 내림한다. 그래서 -0.5를 내리면 -1 이 되는것이다.\\n% 연산자는 x % y에서 y의 부호를 따라간다. 즉 1 % -2 ==> -1 ,      1 % 2 == > 1이 되는것이다.\\n'"
      ]
     },
     "execution_count": 29,
     "metadata": {},
     "output_type": "execute_result"
    }
   ],
   "source": [
    "# 2089 ektl\n",
    "n = int(input())\n",
    "res = \"\"\n",
    "\n",
    "if n :\n",
    "    while n != 0 :\n",
    "        div = n // -2\n",
    "        if n % -2 < 0 :\n",
    "            div += 1 #소수점 내림해서 몫에 +1 해야 한다.\n",
    "        res += str(n - (div*-2))\n",
    "        n = div\n",
    "    print(res[::-1])\n",
    "else :\n",
    "    print(0)\n",
    "    \n",
    "\"\"\"\n",
    "연산자는 몫을 소수점 내림한다. 그래서 -0.5를 내리면 -1 이 되는것이다.\n",
    "% 연산자는 x % y에서 y의 부호를 따라간다. 즉 1 % -2 ==> -1 ,      1 % 2 == > 1이 되는것이다.\n",
    "\"\"\"\n"
   ]
  },
  {
   "cell_type": "code",
   "execution_count": 3,
   "metadata": {},
   "outputs": [
    {
     "name": "stdout",
     "output_type": "stream",
     "text": [
      "6 2\n"
     ]
    }
   ],
   "source": [
    "# 11576\n",
    "# a-> 10진법 -> b\n",
    "\n",
    "a,b = map(int, input().split())\n",
    "m = int(input())\n",
    "lst = list(map(int,input().split()))[::-1]\n",
    "numa=0\n",
    "\n",
    "for i in range(len(lst)):\n",
    "    numa += lst[i] * (a**i)\n",
    "\n",
    "numb = []\n",
    "while numa != 0 :\n",
    "    numb.append(numa % b)\n",
    "    numa //= b\n",
    "    \n",
    "print(' '.join(map(str, numb[::-1])))"
   ]
  },
  {
   "cell_type": "code",
   "execution_count": 18,
   "metadata": {},
   "outputs": [
    {
     "name": "stdout",
     "output_type": "stream",
     "text": [
      "4\n"
     ]
    }
   ],
   "source": [
    "\n",
    "# 1978 / 소수 구하기\n",
    "n = int(input())\n",
    "num = map(int,input().split())\n",
    "res = 0\n",
    "\n",
    "for i in num:\n",
    "    count = 0\n",
    "    \n",
    "    if i > 1 :\n",
    "        for j in range(2,i):\n",
    "            if i % j == 0:\n",
    "                count += 1\n",
    "        if count == 0:\n",
    "            res +=1 \n",
    "print(res)\n"
   ]
  },
  {
   "cell_type": "code",
   "execution_count": 19,
   "metadata": {},
   "outputs": [
    {
     "name": "stdout",
     "output_type": "stream",
     "text": [
      "3\n",
      "5\n",
      "7\n",
      "11\n",
      "13\n"
     ]
    }
   ],
   "source": [
    "# 1929 => 시간 초과\n",
    "a,b = map(int, input().split())\n",
    "\n",
    "for i in range(a,b+1):\n",
    "    count = 0\n",
    "    if i > 1 :\n",
    "        for j in range(2,i):\n",
    "            if i % j == 0:\n",
    "                count += 1\n",
    "        if count == 0:\n",
    "            print(i) "
   ]
  },
  {
   "cell_type": "code",
   "execution_count": 20,
   "metadata": {},
   "outputs": [
    {
     "name": "stdout",
     "output_type": "stream",
     "text": [
      "3\n",
      "5\n",
      "7\n",
      "11\n",
      "13\n"
     ]
    }
   ],
   "source": [
    "# 제곱근까지만 해도 됨.\n",
    "def isPrime(num):\n",
    "    if num == 1 :\n",
    "        return False\n",
    "    else :\n",
    "        for i in range(2, int(num**0.5)+1):\n",
    "            if num % i == 0:\n",
    "                return False\n",
    "        return True\n",
    "\n",
    "\n",
    "a,b = map(int, input().split())\n",
    "\n",
    "for i in range(a,b+1):\n",
    "    if isPrime(i):\n",
    "        print(i)\n",
    "        \n",
    "\"\"\"\n",
    "3~16까지만 해도 1초 차이가 나기 때문에 숫자가 커지면 커질수록 차이가 심해질 듯\n",
    "\"\"\""
   ]
  }
 ],
 "metadata": {
  "interpreter": {
   "hash": "19a2027c367e4a8fbf50703f7b521df71edff403eb9eba2200ef5f1febf03a5b"
  },
  "kernelspec": {
   "display_name": "Python 3.7.11 64-bit ('exam_cv2': conda)",
   "name": "python3"
  },
  "language_info": {
   "codemirror_mode": {
    "name": "ipython",
    "version": 3
   },
   "file_extension": ".py",
   "mimetype": "text/x-python",
   "name": "python",
   "nbconvert_exporter": "python",
   "pygments_lexer": "ipython3",
   "version": "3.7.11"
  },
  "orig_nbformat": 4
 },
 "nbformat": 4,
 "nbformat_minor": 2
}
