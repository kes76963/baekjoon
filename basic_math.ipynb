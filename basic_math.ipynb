{
 "cells": [
  {
   "cell_type": "code",
   "execution_count": 9,
   "source": [
    "#10430\r\n",
    "a,b,c = map(int, input().split())\r\n",
    "\r\n",
    "print((a+b)%c)\r\n",
    "print(((a+c)+(b+c))%c)\r\n",
    "print((a*b)%c)\r\n",
    "print(((a%c)*(b%c))%c)"
   ],
   "outputs": [
    {
     "output_type": "stream",
     "name": "stdout",
     "text": [
      "6\n",
      "6\n",
      "5\n",
      "5\n"
     ]
    }
   ],
   "metadata": {}
  },
  {
   "cell_type": "code",
   "execution_count": 16,
   "source": [
    "#2609 ***\r\n",
    "import math\r\n",
    "a, b = map(int, input().split())\r\n",
    "gcd = math.gcd(a,b)\r\n",
    "lcm = (a*b)/ gcd\r\n",
    "print(gcd)  #최대공약수\r\n",
    "print(int(lcm)) #lcm은 3.9버전부터 있음\r\n",
    "\r\n",
    "#################\r\n",
    "\r\n",
    "a, b = map(int, input().split())\r\n",
    "\r\n",
    "def gcd(a, b):\r\n",
    "    while b > 0:\r\n",
    "        a, b = b, a % b\r\n",
    "    return a\r\n",
    "\r\n",
    "def lcm(a, b):\r\n",
    "    return a * b // gcd(a, b)\r\n",
    "\r\n",
    "print(gcd(a, b))\r\n",
    "print(lcm(a, b))\r\n",
    "\r\n",
    "\"\"\"\r\n",
    "최소공배수는 x와 y의 공통된 배수 가운데 최소값. \r\n",
    "최소공배수는 주어진 수인 x,y의 곱에서 x,y의 최대공약수를 나누어 준 값\r\n",
    "유클리드 호제법을 사용해 최대공약수를 구한 다음, \r\n",
    "x와 y의 곱한 값을 나눠주면 최소공배수를 구함\r\n",
    "\"\"\""
   ],
   "outputs": [
    {
     "output_type": "stream",
     "name": "stdout",
     "text": [
      "6\n",
      "72.0\n"
     ]
    },
    {
     "output_type": "execute_result",
     "data": {
      "text/plain": [
       "'\\n최소공배수는 x와 y의 공통된 배수 가운데 최소값. \\n최소공배수는 주어진 수인 x,y의 곱에서 x,y의 최대공약수를 나누어 준 값\\n유클리드 호제법을 사용해 최대공약수를 구한 다음, \\nx와 y의 곱한 값을 나눠주면 최소공배수를 구함\\n'"
      ]
     },
     "metadata": {},
     "execution_count": 16
    }
   ],
   "metadata": {}
  },
  {
   "cell_type": "code",
   "execution_count": 15,
   "source": [
    "# 1934\r\n",
    "import sys\r\n",
    "\r\n",
    "def gcd(a,b):\r\n",
    "    while b >0:\r\n",
    "        a,b = b, a%b\r\n",
    "    return a\r\n",
    "def lcm(a,b):\r\n",
    "    return (a*b) // gcd(a,b)\r\n",
    "\r\n",
    "n = int(input())\r\n",
    "\r\n",
    "for _ in range(n):\r\n",
    "    a,b = map(int, sys.stdin.readline().split())\r\n",
    "    print(lcm(a,b))\r\n",
    "    "
   ],
   "outputs": [
    {
     "output_type": "execute_result",
     "data": {
      "text/plain": [
       "4"
      ]
     },
     "metadata": {},
     "execution_count": 15
    }
   ],
   "metadata": {}
  },
  {
   "cell_type": "code",
   "execution_count": null,
   "source": [
    "#1850\r\n"
   ],
   "outputs": [],
   "metadata": {}
  }
 ],
 "metadata": {
  "orig_nbformat": 4,
  "language_info": {
   "name": "python",
   "version": "3.7.11",
   "mimetype": "text/x-python",
   "codemirror_mode": {
    "name": "ipython",
    "version": 3
   },
   "pygments_lexer": "ipython3",
   "nbconvert_exporter": "python",
   "file_extension": ".py"
  },
  "kernelspec": {
   "name": "python3",
   "display_name": "Python 3.7.11 64-bit ('exam_cv2': conda)"
  },
  "interpreter": {
   "hash": "19a2027c367e4a8fbf50703f7b521df71edff403eb9eba2200ef5f1febf03a5b"
  }
 },
 "nbformat": 4,
 "nbformat_minor": 2
}