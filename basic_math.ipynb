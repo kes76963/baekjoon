{
 "cells": [
  {
   "cell_type": "code",
   "execution_count": 9,
   "source": [
    "#10430\r\n",
    "a,b,c = map(int, input().split())\r\n",
    "\r\n",
    "print((a+b)%c)\r\n",
    "print(((a+c)+(b+c))%c)\r\n",
    "print((a*b)%c)\r\n",
    "print(((a%c)*(b%c))%c)"
   ],
   "outputs": [
    {
     "output_type": "stream",
     "name": "stdout",
     "text": [
      "6\n",
      "6\n",
      "5\n",
      "5\n"
     ]
    }
   ],
   "metadata": {}
  },
  {
   "cell_type": "code",
   "execution_count": 16,
   "source": [
    "#2609 ***\r\n",
    "import math\r\n",
    "a, b = map(int, input().split())\r\n",
    "gcd = math.gcd(a,b)\r\n",
    "lcm = (a*b)/ gcd\r\n",
    "print(gcd)  #최대공약수\r\n",
    "print(int(lcm)) #lcm은 3.9버전부터 있음\r\n",
    "\r\n",
    "#################\r\n",
    "\r\n",
    "a, b = map(int, input().split())\r\n",
    "\r\n",
    "def gcd(a, b):\r\n",
    "    while b > 0:\r\n",
    "        a, b = b, a % b\r\n",
    "    return a\r\n",
    "\r\n",
    "def lcm(a, b):\r\n",
    "    return a * b // gcd(a, b)\r\n",
    "\r\n",
    "print(gcd(a, b))\r\n",
    "print(lcm(a, b))\r\n",
    "\r\n",
    "\"\"\"\r\n",
    "최소공배수는 x와 y의 공통된 배수 가운데 최소값. \r\n",
    "최소공배수는 주어진 수인 x,y의 곱에서 x,y의 최대공약수를 나누어 준 값\r\n",
    "유클리드 호제법을 사용해 최대공약수를 구한 다음, \r\n",
    "x와 y의 곱한 값을 나눠주면 최소공배수를 구함\r\n",
    "\"\"\""
   ],
   "outputs": [
    {
     "output_type": "stream",
     "name": "stdout",
     "text": [
      "6\n",
      "72.0\n"
     ]
    },
    {
     "output_type": "execute_result",
     "data": {
      "text/plain": [
       "'\\n최소공배수는 x와 y의 공통된 배수 가운데 최소값. \\n최소공배수는 주어진 수인 x,y의 곱에서 x,y의 최대공약수를 나누어 준 값\\n유클리드 호제법을 사용해 최대공약수를 구한 다음, \\nx와 y의 곱한 값을 나눠주면 최소공배수를 구함\\n'"
      ]
     },
     "metadata": {},
     "execution_count": 16
    }
   ],
   "metadata": {}
  },
  {
   "cell_type": "code",
   "execution_count": 15,
   "source": [
    "# 1934\r\n",
    "import sys\r\n",
    "\r\n",
    "def gcd(a,b):\r\n",
    "    while b >0:\r\n",
    "        a,b = b, a%b\r\n",
    "    return a\r\n",
    "def lcm(a,b):\r\n",
    "    return (a*b) // gcd(a,b)\r\n",
    "\r\n",
    "n = int(input())\r\n",
    "\r\n",
    "for _ in range(n):\r\n",
    "    a,b = map(int, sys.stdin.readline().split())\r\n",
    "    print(lcm(a,b))\r\n",
    "    "
   ],
   "outputs": [
    {
     "output_type": "execute_result",
     "data": {
      "text/plain": [
       "4"
      ]
     },
     "metadata": {},
     "execution_count": 15
    }
   ],
   "metadata": {}
  },
  {
   "cell_type": "code",
   "execution_count": null,
   "source": [
    "def gcd(x,y):\r\n",
    "    mod = x % y\r\n",
    "    while mod >0:\r\n",
    "        x = y\r\n",
    "        y = mod\r\n",
    "        mod = x % y\r\n",
    "    return y\r\n",
    "    \r\n",
    "for A in range(1, 10):\r\n",
    "    for B in range(1, 10):\r\n",
    "        C = int('1' * A)\r\n",
    "        D = int('1' * B)\r\n",
    "        print(A, B, len(str(gcd(C, D))))"
   ],
   "outputs": [],
   "metadata": {}
  },
  {
   "cell_type": "code",
   "execution_count": null,
   "source": [
    "#1850\r\n",
    "import math\r\n",
    "\r\n",
    "a,b = map(int, input().split())\r\n",
    "print('1'*math.gcd(a,b))"
   ],
   "outputs": [],
   "metadata": {}
  },
  {
   "cell_type": "code",
   "execution_count": 4,
   "source": [
    "import math\r\n",
    "\r\n",
    "math.gcd(20,30)\r\n",
    "10 20 30 40\r\n",
    "20 30 40\r\n",
    "30 40"
   ],
   "outputs": [
    {
     "output_type": "execute_result",
     "data": {
      "text/plain": [
       "10"
      ]
     },
     "metadata": {},
     "execution_count": 4
    }
   ],
   "metadata": {}
  },
  {
   "cell_type": "code",
   "execution_count": null,
   "source": [
    "#9613\r\n",
    "import math\r\n",
    "\r\n",
    "num = int(input())\r\n",
    "\r\n",
    "for _ in range(num):\r\n",
    "    n = list(map(int, input().split()))\r\n",
    "    print(len(n))\r\n",
    "    sum = 0\r\n",
    "    for i in range(1,len(n)):\r\n",
    "        for j in range(i+1,len(n)):\r\n",
    "            print(n[i],n[j])\r\n",
    "            sum += math.gcd(n[i],n[j])\r\n",
    "    print(sum)"
   ],
   "outputs": [],
   "metadata": {}
  },
  {
   "cell_type": "code",
   "execution_count": 2,
   "source": [
    "#순열 조합\r\n",
    "import itertools\r\n",
    "import math\r\n",
    "\r\n",
    "t = int(input())\r\n",
    "for i in range(t):\r\n",
    "    num_list = list(map(int, input().split()))\r\n",
    "    num_list = num_list[1:]\r\n",
    "    ans = 0\r\n",
    "    for a, b in itertools.combinations(num_list, 2):\r\n",
    "        ans += math.gcd(a, b)\r\n",
    "    print(ans)\r\n",
    "    \r\n",
    "\"\"\"\r\n",
    "import itertools\r\n",
    "\r\n",
    "chars = ['A', 'B', 'C']\r\n",
    "\r\n",
    "p = itertools.permutations(chars, 2)  # 순열\r\n",
    "c = itertools.combinations(chars, 2)  # 조합\r\n",
    "\"\"\""
   ],
   "outputs": [
    {
     "output_type": "stream",
     "name": "stdout",
     "text": [
      "70\n"
     ]
    }
   ],
   "metadata": {}
  },
  {
   "cell_type": "code",
   "execution_count": null,
   "source": [
    "# 11005\r\n",
    "# 10진수를 n진수로 (36진수)\r\n",
    "\r\n",
    "system = \"0123456789ABCDEFGHIJKLMNOPQRSTUVWXYZ\" \r\n",
    "N, B = map(int, input().split())\r\n",
    "answer = ''\r\n",
    "\r\n",
    "while N != 0:\r\n",
    "    answer += str(system[N % B]) \r\n",
    "    N //= B\r\n",
    "\r\n",
    "print(answer[::-1])\r\n",
    "\r\n",
    "\"\"\"\r\n",
    "362 = 36 10 / 2\r\n",
    "36 = 3 / 6\r\n",
    "\"\"\"\r\n"
   ],
   "outputs": [],
   "metadata": {}
  },
  {
   "cell_type": "code",
   "execution_count": null,
   "source": [
    "# 10진수를 n진수로 (2-9)\r\n",
    "d = 1000 #10진수 숫자\r\n",
    "n = 3 #진수\r\n",
    "tmp = ''\r\n",
    "while d:\r\n",
    "\ttmp += str(d % n)\r\n",
    "    d = d // n\r\n",
    "    \r\n",
    "print(int(tmp))"
   ],
   "outputs": [],
   "metadata": {}
  },
  {
   "cell_type": "code",
   "execution_count": null,
   "source": [
    "# 2745\r\n",
    "# n 진수를 10진수로\r\n",
    "system = \"0123456789ABCDEFGHIJKLMNOPQRSTUVWXYZ\" \r\n",
    "N, B = input().split()\r\n",
    "N = N[::-1] #거꾸로 스택을 쌓아가기 때문\r\n",
    "B = int(B)\r\n",
    "answer = 0\r\n",
    "\r\n",
    "for i in range(len(N)):\r\n",
    "    answer += system.index(N[i]) * (B ** i)\r\n",
    "\r\n",
    "print(answer)"
   ],
   "outputs": [],
   "metadata": {}
  },
  {
   "cell_type": "code",
   "execution_count": 4,
   "source": [
    "# n진수를 10진수로 변환\r\n",
    "n, b = input().split()\r\n",
    "print(int(n, int(b))) #int('문자열', 진법수)\r\n"
   ],
   "outputs": [
    {
     "output_type": "stream",
     "name": "stdout",
     "text": [
      "60466175\n"
     ]
    }
   ],
   "metadata": {}
  },
  {
   "cell_type": "code",
   "execution_count": 18,
   "source": [
    "# 1373\r\n",
    "# 10진수를 2,8,16진수\r\n",
    "print(bin(11)[2:]) #2진수\r\n",
    "print(oct(11)[2:]) #8진수\r\n",
    "print(hex(11)[2:]) #3진수\r\n",
    "\r\n",
    "print(oct(int(input(),2))[2:])"
   ],
   "outputs": [
    {
     "output_type": "stream",
     "name": "stdout",
     "text": [
      "1011\n",
      "13\n",
      "b\n",
      "314\n"
     ]
    }
   ],
   "metadata": {}
  },
  {
   "cell_type": "code",
   "execution_count": 22,
   "source": [
    "#1212\r\n",
    "# 8진수 -> 10진수 -> 2진수\r\n",
    "print(bin(int(input(),8))[2:])"
   ],
   "outputs": [
    {
     "output_type": "stream",
     "name": "stdout",
     "text": [
      "11001100\n"
     ]
    }
   ],
   "metadata": {}
  },
  {
   "cell_type": "code",
   "execution_count": 29,
   "source": [
    "# 2089 ektl\r\n",
    "n = int(input())\r\n",
    "res = \"\"\r\n",
    "\r\n",
    "if n :\r\n",
    "    while n != 0 :\r\n",
    "        div = n // -2\r\n",
    "        if n % -2 < 0 :\r\n",
    "            div += 1 #소수점 내림해서 몫에 +1 해야 한다.\r\n",
    "        res += str(n - (div*-2))\r\n",
    "        n = div\r\n",
    "    print(res[::-1])\r\n",
    "else :\r\n",
    "    print(0)\r\n",
    "    \r\n",
    "\"\"\"\r\n",
    "연산자는 몫을 소수점 내림한다. 그래서 -0.5를 내리면 -1 이 되는것이다.\r\n",
    "% 연산자는 x % y에서 y의 부호를 따라간다. 즉 1 % -2 ==> -1 ,      1 % 2 == > 1이 되는것이다.\r\n",
    "\"\"\"\r\n"
   ],
   "outputs": [
    {
     "output_type": "stream",
     "name": "stdout",
     "text": [
      "100100010\n"
     ]
    },
    {
     "output_type": "execute_result",
     "data": {
      "text/plain": [
       "'\\n연산자는 몫을 소수점 내림한다. 그래서 -0.5를 내리면 -1 이 되는것이다.\\n% 연산자는 x % y에서 y의 부호를 따라간다. 즉 1 % -2 ==> -1 ,      1 % 2 == > 1이 되는것이다.\\n'"
      ]
     },
     "metadata": {},
     "execution_count": 29
    }
   ],
   "metadata": {}
  }
 ],
 "metadata": {
  "orig_nbformat": 4,
  "language_info": {
   "name": "python",
   "version": "3.7.11",
   "mimetype": "text/x-python",
   "codemirror_mode": {
    "name": "ipython",
    "version": 3
   },
   "pygments_lexer": "ipython3",
   "nbconvert_exporter": "python",
   "file_extension": ".py"
  },
  "kernelspec": {
   "name": "python3",
   "display_name": "Python 3.7.11 64-bit ('exam_cv2': conda)"
  },
  "interpreter": {
   "hash": "19a2027c367e4a8fbf50703f7b521df71edff403eb9eba2200ef5f1febf03a5b"
  }
 },
 "nbformat": 4,
 "nbformat_minor": 2
}