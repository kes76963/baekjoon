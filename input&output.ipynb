{
 "cells": [
  {
   "cell_type": "code",
   "execution_count": 7,
   "source": [
    "n = 'dfsdf23rg8-8adsad568568gasd'\r\n",
    "a = len(n)//10\r\n",
    "\r\n",
    "for i in range(0,a) :\r\n",
    "    print(n[10*i:10*(i+1)])\r\n",
    "print(n[10*a:])"
   ],
   "outputs": [
    {
     "output_type": "stream",
     "name": "stdout",
     "text": [
      "dfsdf23rg8\n",
      "-8adsad568\n",
      "568gasd\n"
     ]
    }
   ],
   "metadata": {}
  },
  {
   "cell_type": "code",
   "execution_count": 30,
   "source": [
    "n=5\r\n",
    "for i in range(n,0,-1):\r\n",
    "    print(' '*(n-i)+'*'*i)"
   ],
   "outputs": [
    {
     "output_type": "stream",
     "name": "stdout",
     "text": [
      "*****\n",
      " ****\n",
      "  ***\n",
      "   **\n",
      "    *\n"
     ]
    }
   ],
   "metadata": {}
  },
  {
   "cell_type": "code",
   "execution_count": 49,
   "source": [
    "n=5\r\n",
    "for i in range(n,1,-1):\r\n",
    "    a = 2*i-1\r\n",
    "    print(' '*(n-i)+'*'*a)\r\n",
    "for i in range(1,n+1):\r\n",
    "    a = 2*i-1\r\n",
    "    print(' '*(n-i)+'*'*a)"
   ],
   "outputs": [
    {
     "output_type": "stream",
     "name": "stdout",
     "text": [
      "*********\n",
      " *******\n",
      "  *****\n",
      "   ***\n",
      "    *\n",
      "   ***\n",
      "  *****\n",
      " *******\n",
      "*********\n"
     ]
    }
   ],
   "metadata": {}
  },
  {
   "cell_type": "code",
   "execution_count": 45,
   "source": [
    "for i in range(1,5):\r\n",
    "    a= '*'*i + ' '*(5-i)\r\n",
    "    print(a +a[::-1] )\r\n",
    "for i in range(5,0,-1):\r\n",
    "    b = '*'*i + ' '*(5-i)\r\n",
    "    print(b + b[::-1])\r\n",
    "    "
   ],
   "outputs": [
    {
     "output_type": "stream",
     "name": "stdout",
     "text": [
      "*        *\n",
      "**      **\n",
      "***    ***\n",
      "****  ****\n",
      "**********\n",
      "****  ****\n",
      "***    ***\n",
      "**      **\n",
      "*        *\n"
     ]
    }
   ],
   "metadata": {}
  },
  {
   "cell_type": "code",
   "execution_count": 50,
   "source": [
    "n=3\r\n",
    "for i in range(1,3):\r\n",
    "    print(' '*(n-i)+'*'*i)\r\n",
    "for i in range(3,0,-1):\r\n",
    "    print(' '*(n-i)+'*'*i)"
   ],
   "outputs": [
    {
     "output_type": "stream",
     "name": "stdout",
     "text": [
      "  *\n",
      " **\n",
      "***\n",
      " **\n",
      "  *\n"
     ]
    }
   ],
   "metadata": {}
  },
  {
   "cell_type": "code",
   "execution_count": 70,
   "source": [
    "print('*')\r\n",
    "n= \r\n",
    "# n = int(input())\r\n",
    "for i in range(1,n+1) :\r\n",
    "    print(n-i)\r\n",
    "    print(' '*(n-i) +'*'*1 + (' *')*(i-1))"
   ],
   "outputs": [
    {
     "output_type": "stream",
     "name": "stdout",
     "text": [
      "*\n",
      "0\n",
      "*\n"
     ]
    }
   ],
   "metadata": {}
  },
  {
   "cell_type": "code",
   "execution_count": 20,
   "source": [
    "n = int(input())\r\n",
    "for i in range(1,n) :\r\n",
    "    if i == 1 :\r\n",
    "        print(' '*(n-i)+'*')\r\n",
    "    else :\r\n",
    "        print(' '*(n-i)+'*'+' '*(2*(i-1) -1)+'*')\r\n",
    "print('*'*(2*n -1))"
   ],
   "outputs": [
    {
     "output_type": "stream",
     "name": "stdout",
     "text": [
      "    *\n",
      "   * *\n",
      "  *   *\n",
      " *     *\n",
      "*********\n"
     ]
    }
   ],
   "metadata": {}
  }
 ],
 "metadata": {
  "orig_nbformat": 4,
  "language_info": {
   "name": "python",
   "version": "3.7.10",
   "mimetype": "text/x-python",
   "codemirror_mode": {
    "name": "ipython",
    "version": 3
   },
   "pygments_lexer": "ipython3",
   "nbconvert_exporter": "python",
   "file_extension": ".py"
  },
  "kernelspec": {
   "name": "python3",
   "display_name": "Python 3.7.10 64-bit ('exam_cv2': conda)"
  },
  "interpreter": {
   "hash": "19a2027c367e4a8fbf50703f7b521df71edff403eb9eba2200ef5f1febf03a5b"
  }
 },
 "nbformat": 4,
 "nbformat_minor": 2
}