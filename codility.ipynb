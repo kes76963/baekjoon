{
 "cells": [
  {
   "cell_type": "code",
   "execution_count": 5,
   "metadata": {},
   "outputs": [
    {
     "data": {
      "text/plain": [
       "9543211100"
      ]
     },
     "execution_count": 5,
     "metadata": {},
     "output_type": "execute_result"
    }
   ],
   "source": [
    "# 입력 N의 각 자리 숫자들을 재정렬해서 만들 수 있는 가장 큰 수를 반환\n",
    "\n",
    "n = input()\n",
    "lst = [n[i] for i in range(len(n))]\n",
    "lst.sort(reverse=True)\n",
    "sol = int(''.join(lst))\n",
    "sol"
   ]
  },
  {
   "cell_type": "code",
   "execution_count": null,
   "metadata": {},
   "outputs": [],
   "source": [
    "# N개의 나무 높이 A가 주어지면, 이 중 하나만 제거해서 오름차순으로 정렬할 수 있는 경우의 수 반환. \n",
    "# 불가능하면 0반환\n",
    "\n",
    "# 경우의 수 0,1,2,n개\n",
    "\n",
    "\n",
    "def solution(A):\n",
    "    cnt = 0\n",
    "    reducenum = 0\n",
    "    \n",
    "    for i in range(1,len(A)):\n",
    "        if A[i] < A[i-1] :\n",
    "            cnt += 1\n",
    "            reducenum = i\n",
    "    \n",
    "    if cnt == 0 :\n",
    "        return len(A)        \n",
    "    \n",
    "    elif cnt == 1 :\n",
    "        A.remove(A[i-1])\n",
    "        for i in range(1,len(A)):\n",
    "            if A[i] < A[i-1] :\n",
    "                return 2\n",
    "            else :\n",
    "                return 1\n",
    "            \n",
    "    else : \n",
    "        return 0        \n",
    "\n",
    "    \n",
    "    "
   ]
  },
  {
   "cell_type": "code",
   "execution_count": null,
   "metadata": {},
   "outputs": [],
   "source": [
    "# 명령어 문자열 S가 주어지면, 수행 후 stack의 최상위 값을 반환, 에러일 경우 -1반환\n",
    "\"\"\"\n",
    "명령어\n",
    "- 숫자면 push\n",
    "- DUP면 top을 한번더 push\n",
    "- POP면 top제거\n",
    "- +면 상위 2개 값을 더해서 push\n",
    "- -면 최상위에서 다음값 빼서 push\n",
    "  에러\n",
    "- 0 <= x <= 2^20-1 이외일 경우 에러\n",
    "- 명령을 수행할 대상이 없으면 에러\n",
    "\"\"\"\n",
    "\n",
    "import sys\n",
    "stack = []\n",
    "\n",
    "for _ in range(n):\n",
    "    n = sys.stdin.readline().strip()\n",
    "    \n",
    "    if n.isdigit :\n",
    "        if n <= 2^20-1 and n >= 0 :\n",
    "            stack.append(n)\n",
    "        else :\n",
    "            print(error)\n",
    "    \n",
    "    elif n == 'DUP':\n",
    "        stack.append(stack[-1])\n",
    "    \n",
    "    elif n == 'POP':\n",
    "        stack.pop()\n",
    "    \n",
    "    elif n = '+' :\n",
    "        stack.append(stack[-1] + stack[-2])\n",
    "    \n",
    "    elif n = '-' :\n",
    "        stack.append(stack[-1] - stack[-2])\n",
    "        \n",
    "        \n",
    "\n",
    "\n"
   ]
  },
  {
   "cell_type": "code",
   "execution_count": null,
   "metadata": {},
   "outputs": [],
   "source": [
    "# 약수 구하는 문제 \n",
    "\n",
    "import math \n",
    "\n",
    "def solution(N):\n",
    "    ans = 0\n",
    "    for i in range(1,int(math.sqrt(N))+1):  #math.sqrt 제곱근\n",
    "        if N % i == 0 :\n",
    "            if i*i = N :\n",
    "                ans +=1\n",
    "                break\n",
    "            else :\n",
    "                ans +=2\n",
    "    return ans\n",
    "                \n",
    "        \n"
   ]
  },
  {
   "cell_type": "code",
   "execution_count": 17,
   "metadata": {},
   "outputs": [
    {
     "name": "stdout",
     "output_type": "stream",
     "text": [
      "[1, 1, 1, 1, 1, 1, 1, 1, 2, 2, 2, 2, 3, 4, 4, 5, 5]\n"
     ]
    },
    {
     "data": {
      "text/plain": [
       "3"
      ]
     },
     "execution_count": 17,
     "metadata": {},
     "output_type": "execute_result"
    }
   ],
   "source": [
    "def test3(A):\n",
    "    if len(A) == 1:\n",
    "        return A[0]\n",
    "\n",
    "    A = sorted(A)\n",
    "    print(A)\n",
    "    for i in range(0, len(A), 2):\n",
    "        if i+1 == len(A): \n",
    "            return A[i]\n",
    "        if A[i] != A[i+1]:\n",
    "            return A[i]\n",
    "\n",
    "test3([1,2,1,1,1,2,1,2,1,1,1,2,3,4,5,4,5])"
   ]
  },
  {
   "cell_type": "code",
   "execution_count": 25,
   "metadata": {},
   "outputs": [
    {
     "data": {
      "text/plain": [
       "2"
      ]
     },
     "execution_count": 25,
     "metadata": {},
     "output_type": "execute_result"
    }
   ],
   "source": [
    "def solution(A):\n",
    "    # write your code in Python 3.6\n",
    "    if len(A) == 1:\n",
    "        return A[0]\n",
    "    \n",
    "    A.sort()\n",
    "    cnt = 1\n",
    "    \n",
    "    for i in range(1,len(A)) :\n",
    "        if A[i] == A[i-1]:\n",
    "            cnt += 1\n",
    "        else :\n",
    "            if cnt % 2 == 0 :\n",
    "                cnt = 1\n",
    "            else : \n",
    "                return A[i-1]\n",
    "    \n",
    "    if cnt == 1 :\n",
    "        return A[-1]\n",
    "            \n",
    "                \n",
    "solution([1,1,1,1,2])\n",
    "# solution([1,2,1,1,1,2,1,2,1,1,1,2,3,4,5,4,5])\n",
    "    "
   ]
  },
  {
   "cell_type": "code",
   "execution_count": null,
   "metadata": {},
   "outputs": [],
   "source": [
    "# 3-1\n",
    "def solution(X, Y, D):\n",
    "    # write your code in Python 3.6\n",
    "    distance = Y - X\n",
    "    if distance == 0 :\n",
    "        return 0\n",
    "\n",
    "    else : \n",
    "        n, mod = divmod(distance,D)\n",
    "\n",
    "        if mod > 0 :\n",
    "            return n + 1\n",
    "        else :\n",
    "            return n"
   ]
  },
  {
   "cell_type": "code",
   "execution_count": null,
   "metadata": {},
   "outputs": [],
   "source": [
    "# 3-2\n",
    "def solution(A):\n",
    "    # write your code in Python 3.6\n",
    "    \n",
    "    if len(A) == 0 :\n",
    "        return 1\n",
    "\n",
    "    else:\n",
    "        res = sum(range(1,len(A)+2)) - sum(A)\n",
    "\n",
    "    return res"
   ]
  },
  {
   "cell_type": "code",
   "execution_count": 31,
   "metadata": {},
   "outputs": [],
   "source": [
    "def solution(A):\n",
    "    # write your code in Python 3.6\n",
    "    pass\n",
    "    sol = 2000\n",
    "    for i in range(1,len(A)):\n",
    "        sum = sum(A[:i]) - sum(A[i:])\n",
    "        print(sum)\n",
    "        sol = min(sum,sol)\n",
    "    return sum\n",
    "\n",
    "A = [3,1,2,4,3]"
   ]
  },
  {
   "cell_type": "code",
   "execution_count": 37,
   "metadata": {},
   "outputs": [
    {
     "data": {
      "text/plain": [
       "6"
      ]
     },
     "execution_count": 37,
     "metadata": {},
     "output_type": "execute_result"
    }
   ],
   "source": [
    "# FrogRiverOne\n",
    "\n",
    "def solution(X, A):\n",
    "    # write your code in Python 3.6\n",
    "    lst = [0]*X\n",
    "    cnt = 0\n",
    "    for i in range(len(A)):\n",
    "        if lst[A[i]-1] == 0 :\n",
    "            lst[A[i]-1] = 1\n",
    "            cnt +=1\n",
    "\n",
    "            if cnt == X :\n",
    "                return i\n",
    "    return -1\n",
    "\n",
    "A =[1,1,4,2,3,5,4]\n",
    "solution(5,A)"
   ]
  },
  {
   "cell_type": "code",
   "execution_count": 38,
   "metadata": {},
   "outputs": [
    {
     "name": "stdout",
     "output_type": "stream",
     "text": [
      "0\n"
     ]
    }
   ],
   "source": [
    "def solution(A):\n",
    "    # write your code in Python 3.6\n",
    "    \n",
    "    n = len(A)\n",
    "    nn = n*(n+1) //2\n",
    "    \n",
    "    if sum(A) != nn :\n",
    "        return 0\n",
    "\n",
    "    A.sort()\n",
    "\n",
    "    if A[0] == 1 and A[-1] != n :\n",
    "        return 0\n",
    "\n",
    "    for i in range(1,len(A)):\n",
    "        if A[i] - A[i-1] != 1 :\n",
    "            return 0\n",
    "\n",
    "    return 1\n"
   ]
  },
  {
   "cell_type": "code",
   "execution_count": 41,
   "metadata": {},
   "outputs": [
    {
     "data": {
      "text/plain": [
       "[3]"
      ]
     },
     "execution_count": 41,
     "metadata": {},
     "output_type": "execute_result"
    }
   ],
   "source": [
    "def solution(N, A):\n",
    "    # write your code in Python 3.6\n",
    "    lst = [0]*N\n",
    "    for i in A:\n",
    "        if i <= N :\n",
    "            lst[i-1]+=1\n",
    "        else : \n",
    "            lst = [max(lst)]*N\n",
    "    return lst\n",
    "\n",
    "solution(1, [2, 1, 1, 2, 1])\n",
    "    \n",
    "# 시간 복잡도 m*n\n"
   ]
  },
  {
   "cell_type": "code",
   "execution_count": 42,
   "metadata": {},
   "outputs": [
    {
     "data": {
      "text/plain": [
       "[1, 2, 3, 4, 6]"
      ]
     },
     "execution_count": 42,
     "metadata": {},
     "output_type": "execute_result"
    }
   ],
   "source": [
    "# MissingInteger\n",
    "def solution(A):\n",
    "    A.sort()\n",
    "    min = 1\n",
    "    for i in A:\n",
    "        if i == min:\n",
    "            min += 1\n",
    "    return min"
   ]
  },
  {
   "cell_type": "code",
   "execution_count": null,
   "metadata": {},
   "outputs": [],
   "source": [
    "CountDiv\n",
    "def solution(A, B, K):\n",
    "    # write your code in Python 3.6\n",
    "    a = A//K\n",
    "    b = B//K\n",
    "    res = b-a\n",
    "    if A % K == 0 :\n",
    "        res +=1\n",
    "\n",
    "    return res"
   ]
  },
  {
   "cell_type": "code",
   "execution_count": null,
   "metadata": {},
   "outputs": [],
   "source": [
    "# MinAvgTwoSlice\n",
    "def solution(A):\n",
    "    # write your code in Python 3.6\n",
    "    minnum = (A[0]+A[1]) / 2\n",
    "    res = 0\n",
    "    for i in range(0,len(A)-1):\n",
    "        avg = (A[i] + A[i+1]) / 2\n",
    "        if minnum > avg :\n",
    "            minnum = avg\n",
    "            res = i\n",
    "\n",
    "    for j in range(0,len(A)-2):\n",
    "        avg = (A[i]+A[i+1]+A[i+2]) /3\n",
    "        if minnum > avg :\n",
    "            minnum = avg\n",
    "            res = j\n",
    "    return res"
   ]
  },
  {
   "cell_type": "code",
   "execution_count": 47,
   "metadata": {},
   "outputs": [
    {
     "name": "stdout",
     "output_type": "stream",
     "text": [
      "6\n",
      "8\n",
      "12\n",
      "24\n"
     ]
    }
   ],
   "source": [
    "from itertools import combinations\n",
    "\n",
    "A=[1,2,3,4]\n",
    "\n",
    "comb = list(combinations(A, 3))\n",
    "for i in comb :\n",
    "    sol = i[0]*i[1]*i[2]\n",
    "    print(sol)"
   ]
  },
  {
   "cell_type": "code",
   "execution_count": 48,
   "metadata": {},
   "outputs": [
    {
     "name": "stdout",
     "output_type": "stream",
     "text": [
      "['{']\n",
      "['{', '[']\n",
      "['{', '[', '(']\n",
      "['{', '[']\n",
      "['{', '[', '(']\n",
      "['{', '[']\n",
      "['{']\n",
      "[]\n"
     ]
    },
    {
     "data": {
      "text/plain": [
       "1"
      ]
     },
     "execution_count": 48,
     "metadata": {},
     "output_type": "execute_result"
    }
   ],
   "source": [
    "def solution(S):\n",
    "    stack = []\n",
    "    parenDic = {'(':0, ')':0, '{':1, '}':1, '[':2, ']':2}\n",
    "\n",
    "    for c in S:\n",
    "        if c in ['(', '[', '{']:\n",
    "            stack.append(c)\n",
    "        else:\n",
    "            if len(stack) == 0:\n",
    "                return 0\n",
    "            p = stack.pop()\n",
    "            if parenDic[c] != parenDic[p]:\n",
    "                return 0\n",
    "        print(stack)\n",
    "    if len(stack) != 0:\n",
    "        return 0\n",
    "    else:\n",
    "        return 1\n",
    "    \n",
    "solution(\"{[()()]}\")"
   ]
  },
  {
   "cell_type": "code",
   "execution_count": 50,
   "metadata": {},
   "outputs": [
    {
     "data": {
      "text/plain": [
       "'()'"
      ]
     },
     "execution_count": 50,
     "metadata": {},
     "output_type": "execute_result"
    }
   ],
   "source": [
    "s= '(()()())'\n",
    "s= s.replace('()','')\n",
    "s"
   ]
  },
  {
   "cell_type": "code",
   "execution_count": 52,
   "metadata": {},
   "outputs": [
    {
     "data": {
      "text/plain": [
       "0"
      ]
     },
     "execution_count": 52,
     "metadata": {},
     "output_type": "execute_result"
    }
   ],
   "source": [
    "def solution(S):\n",
    "    # write your code in Python 3.6\n",
    "    cnt = 0\n",
    "\n",
    "    if len(S) == 0 :\n",
    "        return 1\n",
    "\n",
    "    if len(S)%2 == 1 :\n",
    "        return 0\n",
    "\n",
    "    for i in S :\n",
    "        if i == '(' :\n",
    "            cnt += 1\n",
    "        else :\n",
    "            if cnt == 0 :\n",
    "                return 0\n",
    "            else :\n",
    "                cnt -= 1\n",
    "    if cnt == 0 :\n",
    "        return 1\n",
    "    else :\n",
    "        return 0\n",
    "                \n",
    "solution('(()))(')"
   ]
  },
  {
   "cell_type": "code",
   "execution_count": 2,
   "metadata": {},
   "outputs": [
    {
     "data": {
      "text/plain": [
       "1"
      ]
     },
     "execution_count": 2,
     "metadata": {},
     "output_type": "execute_result"
    }
   ],
   "source": [
    "def solution(A):\n",
    "    sum1 = 0\n",
    "    sum2 = sum(A)\n",
    "    min_result = None    \n",
    "    for i in range(1, len(A)):\n",
    "        sum1 += A[i-1]\n",
    "        sum2 -= A[i-1]\n",
    "        result = abs(sum1-sum2)\n",
    "        if min_result == None or min_result > result:\n",
    "            min_result = result\n",
    "    return min_result\n",
    "\n",
    "solution([3,1,2,4,3])"
   ]
  },
  {
   "cell_type": "code",
   "execution_count": 43,
   "metadata": {},
   "outputs": [
    {
     "data": {
      "text/plain": [
       "[[1, 2, 3], [], [], [1, 2, 3]]"
      ]
     },
     "execution_count": 43,
     "metadata": {},
     "output_type": "execute_result"
    }
   ],
   "source": [
    "from itertools import combinations\n",
    "\n",
    "def solution(indices, K):\n",
    "    \n",
    "    comb = combinations(indices,K)\n",
    "\n",
    "    fo\n",
    "\n",
    "solution([1, 2, 3],3)"
   ]
  }
 ],
 "metadata": {
  "interpreter": {
   "hash": "19a2027c367e4a8fbf50703f7b521df71edff403eb9eba2200ef5f1febf03a5b"
  },
  "kernelspec": {
   "display_name": "Python 3.7.11 64-bit ('exam_cv2': conda)",
   "name": "python3"
  },
  "language_info": {
   "codemirror_mode": {
    "name": "ipython",
    "version": 3
   },
   "file_extension": ".py",
   "mimetype": "text/x-python",
   "name": "python",
   "nbconvert_exporter": "python",
   "pygments_lexer": "ipython3",
   "version": "3.7.11"
  },
  "orig_nbformat": 4
 },
 "nbformat": 4,
 "nbformat_minor": 2
}
