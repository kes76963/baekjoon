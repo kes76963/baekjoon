{
 "cells": [
  {
   "cell_type": "markdown",
   "metadata": {},
   "source": [
    "SELECT"
   ]
  },
  {
   "cell_type": "code",
   "execution_count": null,
   "metadata": {},
   "outputs": [],
   "source": [
    "# 모든 레코드 조회하기\n",
    "SELECT *\n",
    "FROM ANIMAL_INS\n",
    "ORDER BY ANIMAL_ID"
   ]
  },
  {
   "cell_type": "code",
   "execution_count": null,
   "metadata": {},
   "outputs": [],
   "source": [
    "# 이름과 보호 시작일을 조회 / ID 역순으로\n",
    "SELECT ANIMAL_ID, DATETIME\n",
    "FROM ANIMAL_INS\n",
    "ORDER BY ANIMAL_ID DESC"
   ]
  },
  {
   "cell_type": "code",
   "execution_count": null,
   "metadata": {},
   "outputs": [],
   "source": [
    "# ID, 이름 / 조건 찾는건 WHERE\n",
    "SELECT ANIMAL_ID, NAME\n",
    "FROM ANIMAL_INS\n",
    "WHERE INTAKE_CONDITION = \"Sick\"\n",
    "ORDER BY ANIMAL_ID"
   ]
  },
  {
   "cell_type": "code",
   "execution_count": null,
   "metadata": {},
   "outputs": [],
   "source": [
    "# 조건이 아닌거 WHERE ID != ''\n",
    "SELECT ANIMAL_ID, NAME\n",
    "FROM ANIMAL_INS\n",
    "WHERE INTAKE_CONDITION != 'Aged'\n",
    "ORDER BY ANIMAL_ID"
   ]
  },
  {
   "cell_type": "code",
   "execution_count": null,
   "metadata": {},
   "outputs": [],
   "source": [
    "# 동물ID순으로 정렬\n",
    "SELECT ANIMAL_ID, NAME\n",
    "FROM ANIMAL_INS\n",
    "ORDER BY ANIMAL_ID"
   ]
  },
  {
   "cell_type": "code",
   "execution_count": null,
   "metadata": {},
   "outputs": [],
   "source": [
    "# 여러 기준으로 정리 (순 ASC, 역 DESC\n",
    "SELECT ANIMAL_ID, NAME, DATETIME\n",
    "FROM ANIMAL_INS\n",
    "ORDER BY NAME ASC, DATETIME DESC\n"
   ]
  },
  {
   "cell_type": "code",
   "execution_count": null,
   "metadata": {},
   "outputs": [],
   "source": [
    "# 1개만 가져오기\n",
    "SELECT NAME\n",
    "FROM ANIMAL_INS\n",
    "ORDER BY DATETIME\n",
    "LIMIT 1"
   ]
  },
  {
   "cell_type": "markdown",
   "metadata": {},
   "source": [
    "SUM, MAX, MIN"
   ]
  },
  {
   "cell_type": "code",
   "execution_count": null,
   "metadata": {},
   "outputs": [],
   "source": [
    "# 최댓값구하기 / 가장 최근에 들어온 동물\n",
    "SELECT MAX(DATETIME) AS 시간\n",
    "FROM ANIMAL_INS"
   ]
  },
  {
   "cell_type": "code",
   "execution_count": null,
   "metadata": {},
   "outputs": [],
   "source": [
    "# 최솟값 구하기 / 가장 먼저 들어온 동물\n",
    "SELECT MIN(DATETIME) AS 시간\n",
    "FROM ANIMAL_INS"
   ]
  },
  {
   "cell_type": "code",
   "execution_count": null,
   "metadata": {},
   "outputs": [],
   "source": [
    "# 동물 수 세기 \n",
    "SELECT COUNT(*) AS count\n",
    "FROM ANIMAL_INS\n",
    "\n",
    "# count(name) 의 경우 name 이라는 컬럼의 갯수 (NULL 값 안 셈) / COUNT(*) 전체 행수"
   ]
  },
  {
   "cell_type": "code",
   "execution_count": null,
   "metadata": {},
   "outputs": [],
   "source": [
    "# 중복되지 않는 수 DISTINCT / NAME NULL 아닌 값\n",
    "SELECT COUNT(DISTINCT NAME) AS count\n",
    "FROM ANIMAL_INS\n",
    "WHERE NAME IS NOT NULL"
   ]
  },
  {
   "cell_type": "markdown",
   "metadata": {},
   "source": [
    "GROUP BY"
   ]
  },
  {
   "cell_type": "code",
   "execution_count": null,
   "metadata": {},
   "outputs": [],
   "source": [
    "# 고양이와 개 몇 마리, 순서는 고양이 먼저\n",
    "SELECT ANIMAL_TYPE, COUNT(*) AS COUNT\n",
    "FROM ANIMAL_INS\n",
    "GROUP BY ANIMAL_TYPE\n",
    "ORDER BY ANIMAL_TYPE"
   ]
  },
  {
   "cell_type": "code",
   "execution_count": null,
   "metadata": {},
   "outputs": [],
   "source": [
    "# 같은 이름 개수 세기 (2명 이상) / \n",
    "SELECT NAME, COUNT(*) AS COUNT\n",
    "FROM ANIMAL_INS\n",
    "WHERE NAME IS NOT NULL\n",
    "GROUP BY NAME\n",
    "HAVING COUNT >= 2\n",
    "ORDER BY NAME\n",
    "\n",
    "# OR\n",
    "\n",
    "SELECT NAME, COUNT(NAME) AS COUNT\n",
    "FROM ANIMAL_INS\n",
    "GROUP BY NAME\n",
    "HAVING COUNT >= 2\n",
    "ORDER BY NAME\n",
    "\n",
    "# HAVING 절은 GROUP BY 절과 함께 사용해야 하며 집계 함수를 사용하여 조건절\n",
    "# SELECT / FROM / WHERE 조건 / GROUP BY / HAVING / ORDERBY"
   ]
  },
  {
   "cell_type": "code",
   "execution_count": null,
   "metadata": {},
   "outputs": [],
   "source": [
    "# 시간 조건 WHERE로 \n",
    "SELECT HOUR(DATETIME) AS HOUR, COUNT(*) AS COUNT\n",
    "FROM ANIMAL_OUTS\n",
    "WHERE HOUR(DATETIME) >= 9 AND HOUR(DATETIME) <20\n",
    "GROUP BY HOUR\n",
    "ORDER BY HOUR\n",
    "\n",
    "SELECT HOUR(DATETIME) HOUR, COUNT(DATETIME) COUNT\n",
    "FROM ANIMAL_OUTS\n",
    "GROUP BY HOUR(DATETIME)\n",
    "HAVING HOUR >= 9 and HOUR <= 19\n",
    "ORDER BY HOUR"
   ]
  },
  {
   "cell_type": "code",
   "execution_count": null,
   "metadata": {},
   "outputs": [],
   "source": [
    "# 레벨4 입양 시간별로 입양 몇 건이 발생\n",
    "# 0~6시까지의 데이터를 따로 생성\n",
    "SET @HOUR = -1;\n",
    "SELECT (@HOUR := @HOUR +1) AS HOUR\n",
    "FROM ANIMAL_OUTS\n",
    "WHERE @HOUR < 23;\n",
    " \n",
    " => @HOUR변수에 -1을 할당한 후 22까지 +1씩 더해준다\n",
    "\n",
    "SET @HOUR = -1;\n",
    "SELECT (@HOUR := @HOUR +1) AS HOUR,\n",
    "    (SELECT COUNT(HOUR(DATETIME)) \n",
    "    FROM ANIMAL_OUTS \n",
    "    WHERE HOUR(DATETIME)=@HOUR) AS COUNT \n",
    "    FROM ANIMAL_OUTS\n",
    "WHERE @HOUR < 23;\n",
    "\n",
    "# @가 붙은 변수는 프로시저가 종료되어도 유지\n",
    "# SQL 문법에서 :=은 비교 연산자 =과 혼동을 피하기 위한의 대입 연산\n",
    "# SELECT (@hour := @hour +1) 은 @hour의 값에 1씩 증가시키면서 SELECT 문 전체를 실행\n",
    "# WHERE @hour < 23일 때까지, @hour 값이 계속 + 1씩 증가\n"
   ]
  }
 ],
 "metadata": {
  "language_info": {
   "name": "python"
  },
  "orig_nbformat": 4
 },
 "nbformat": 4,
 "nbformat_minor": 2
}
