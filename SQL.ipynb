{
 "cells": [
  {
   "cell_type": "markdown",
   "metadata": {},
   "source": [
    "SELECT"
   ]
  },
  {
   "cell_type": "code",
   "execution_count": null,
   "metadata": {},
   "outputs": [],
   "source": [
    "# 모든 레코드 조회하기\n",
    "SELECT *\n",
    "FROM ANIMAL_INS\n",
    "ORDER BY ANIMAL_ID"
   ]
  },
  {
   "cell_type": "code",
   "execution_count": null,
   "metadata": {},
   "outputs": [],
   "source": [
    "# 이름과 보호 시작일을 조회 / ID 역순으로\n",
    "SELECT ANIMAL_ID, DATETIME\n",
    "FROM ANIMAL_INS\n",
    "ORDER BY ANIMAL_ID DESC"
   ]
  },
  {
   "cell_type": "code",
   "execution_count": null,
   "metadata": {},
   "outputs": [],
   "source": [
    "# ID, 이름 / 조건 찾는건 WHERE\n",
    "SELECT ANIMAL_ID, NAME\n",
    "FROM ANIMAL_INS\n",
    "WHERE INTAKE_CONDITION = \"Sick\"\n",
    "ORDER BY ANIMAL_ID"
   ]
  },
  {
   "cell_type": "code",
   "execution_count": null,
   "metadata": {},
   "outputs": [],
   "source": [
    "# 조건이 아닌거 WHERE ID != ''\n",
    "SELECT ANIMAL_ID, NAME\n",
    "FROM ANIMAL_INS\n",
    "WHERE INTAKE_CONDITION != 'Aged'\n",
    "ORDER BY ANIMAL_ID"
   ]
  },
  {
   "cell_type": "code",
   "execution_count": null,
   "metadata": {},
   "outputs": [],
   "source": [
    "# 동물ID순으로 정렬\n",
    "SELECT ANIMAL_ID, NAME\n",
    "FROM ANIMAL_INS\n",
    "ORDER BY ANIMAL_ID"
   ]
  },
  {
   "cell_type": "code",
   "execution_count": null,
   "metadata": {},
   "outputs": [],
   "source": [
    "# 여러 기준으로 정리 (순 ASC, 역 DESC\n",
    "SELECT ANIMAL_ID, NAME, DATETIME\n",
    "FROM ANIMAL_INS\n",
    "ORDER BY NAME ASC, DATETIME DESC\n"
   ]
  },
  {
   "cell_type": "code",
   "execution_count": null,
   "metadata": {},
   "outputs": [],
   "source": [
    "# 1개만 가져오기\n",
    "SELECT NAME\n",
    "FROM ANIMAL_INS\n",
    "ORDER BY DATETIME\n",
    "LIMIT 1"
   ]
  },
  {
   "cell_type": "markdown",
   "metadata": {},
   "source": [
    "SUM, MAX, MIN"
   ]
  },
  {
   "cell_type": "code",
   "execution_count": null,
   "metadata": {},
   "outputs": [],
   "source": [
    "# 최댓값구하기 / 가장 최근에 들어온 동물\n",
    "SELECT MAX(DATETIME) AS 시간\n",
    "FROM ANIMAL_INS"
   ]
  },
  {
   "cell_type": "code",
   "execution_count": null,
   "metadata": {},
   "outputs": [],
   "source": [
    "# 최솟값 구하기 / 가장 먼저 들어온 동물\n",
    "SELECT MIN(DATETIME) AS 시간\n",
    "FROM ANIMAL_INS"
   ]
  },
  {
   "cell_type": "code",
   "execution_count": null,
   "metadata": {},
   "outputs": [],
   "source": [
    "# 동물 수 세기 \n",
    "SELECT COUNT(*) AS count\n",
    "FROM ANIMAL_INS\n",
    "\n",
    "# count(name) 의 경우 name 이라는 컬럼의 갯수 (NULL 값 안 셈) / COUNT(*) 전체 행수"
   ]
  },
  {
   "cell_type": "code",
   "execution_count": null,
   "metadata": {},
   "outputs": [],
   "source": [
    "# 중복되지 않는 수 DISTINCT / NAME NULL 아닌 값\n",
    "SELECT COUNT(DISTINCT NAME) AS count\n",
    "FROM ANIMAL_INS\n",
    "WHERE NAME IS NOT NULL"
   ]
  },
  {
   "cell_type": "markdown",
   "metadata": {},
   "source": [
    "GROUP BY"
   ]
  },
  {
   "cell_type": "code",
   "execution_count": null,
   "metadata": {},
   "outputs": [],
   "source": [
    "▷ emp테이블에서 업무가 MANAGER가 아닌 사원들에 대해\n",
    "부서별로 급여의 합이 2500이상인 부서의 정보를 출력\n",
    "부서번호, 급여 합계순으로 출력, 급여 합계가 높은 순으로 정렬\n",
    "\n",
    "▶ [ SQL> select deptno, sum(sal) \"부서별 급여합계\" from emp\n",
    "where job !='MANAGER'\n",
    "group by deptno\n",
    "having sum(sal) >= 2500\n",
    "order by 2 desc\n",
    "\n",
    "\n",
    "\n",
    "▷ emp테이블에서 사원의 수가 4명 이상인 부서의 급여합계를 구하고,\n",
    "급여합계가 높은 순으로 정렬\n",
    "\n",
    "▶ [ SQL> select deptno, sum(sal) as 급여합계 from emp\n",
    "group by deptno\n",
    "having count( * ) >= 4\n",
    "order by sum(sal) desc"
   ]
  },
  {
   "cell_type": "code",
   "execution_count": null,
   "metadata": {},
   "outputs": [],
   "source": [
    "# 고양이와 개 몇 마리, 순서는 고양이 먼저\n",
    "SELECT ANIMAL_TYPE, COUNT(*) AS COUNT\n",
    "FROM ANIMAL_INS\n",
    "GROUP BY ANIMAL_TYPE\n",
    "ORDER BY ANIMAL_TYPE"
   ]
  },
  {
   "cell_type": "code",
   "execution_count": null,
   "metadata": {},
   "outputs": [],
   "source": [
    "# 같은 이름 개수 세기 (2명 이상) / \n",
    "SELECT NAME, COUNT(*) AS COUNT\n",
    "FROM ANIMAL_INS\n",
    "WHERE NAME IS NOT NULL\n",
    "GROUP BY NAME\n",
    "HAVING COUNT >= 2\n",
    "ORDER BY NAME\n",
    "\n",
    "# OR\n",
    "\n",
    "SELECT NAME, COUNT(NAME) AS COUNT\n",
    "FROM ANIMAL_INS\n",
    "GROUP BY NAME\n",
    "HAVING COUNT >= 2\n",
    "ORDER BY NAME\n",
    "\n",
    "# HAVING 절은 GROUP BY 절과 함께 사용해야 하며 집계 함수를 사용하여 조건절\n",
    "# SELECT / FROM / WHERE 조건 / GROUP BY / HAVING / ORDERBY"
   ]
  },
  {
   "cell_type": "code",
   "execution_count": null,
   "metadata": {},
   "outputs": [],
   "source": [
    "# 시간 조건 WHERE로 \n",
    "SELECT HOUR(DATETIME) AS HOUR, COUNT(*) AS COUNT\n",
    "FROM ANIMAL_OUTS\n",
    "WHERE HOUR(DATETIME) >= 9 AND HOUR(DATETIME) <20\n",
    "GROUP BY HOUR\n",
    "ORDER BY HOUR\n",
    "\n",
    "SELECT HOUR(DATETIME) HOUR, COUNT(DATETIME) COUNT\n",
    "FROM ANIMAL_OUTS\n",
    "GROUP BY HOUR(DATETIME)\n",
    "HAVING HOUR >= 9 and HOUR <= 19\n",
    "ORDER BY HOUR"
   ]
  },
  {
   "cell_type": "code",
   "execution_count": null,
   "metadata": {},
   "outputs": [],
   "source": [
    "# 레벨4 입양 시간별로 입양 몇 건이 발생\n",
    "# 0~6시까지의 데이터를 따로 생성\n",
    "SET @HOUR = -1;\n",
    "SELECT (@HOUR := @HOUR +1) AS HOUR\n",
    "FROM ANIMAL_OUTS\n",
    "WHERE @HOUR < 23;\n",
    " \n",
    " => @HOUR변수에 -1을 할당한 후 22까지 +1씩 더해준다\n",
    "\n",
    "SET @HOUR = -1;\n",
    "SELECT (@HOUR := @HOUR +1) AS HOUR,\n",
    "    (SELECT COUNT(HOUR(DATETIME)) \n",
    "    FROM ANIMAL_OUTS \n",
    "    WHERE HOUR(DATETIME)=@HOUR) AS COUNT \n",
    "    FROM ANIMAL_OUTS\n",
    "WHERE @HOUR < 23;\n",
    "\n",
    "# @가 붙은 변수는 프로시저가 종료되어도 유지\n",
    "# SQL 문법에서 :=은 비교 연산자 =과 혼동을 피하기 위한의 대입 연산\n",
    "# SELECT (@hour := @hour +1) 은 @hour의 값에 1씩 증가시키면서 SELECT 문 전체를 실행\n",
    "# WHERE @hour < 23일 때까지, @hour 값이 계속 + 1씩 증가\n"
   ]
  },
  {
   "cell_type": "markdown",
   "metadata": {},
   "source": [
    "IS NULL"
   ]
  },
  {
   "cell_type": "code",
   "execution_count": null,
   "metadata": {},
   "outputs": [],
   "source": [
    "# 이름 없는 동물의 아이디\n",
    "SELECT ANIMAL_ID\n",
    "FROM ANIMAL_INS\n",
    "WHERE NAME IS NULL\n",
    "ORDER BY ANIMAL_ID"
   ]
  },
  {
   "cell_type": "code",
   "execution_count": null,
   "metadata": {},
   "outputs": [],
   "source": [
    "# 이름이 있는 동물 아이디\n",
    "SELECT ANIMAL_ID\n",
    "FROM ANIMAL_INS\n",
    "WHERE NAME IS NOT NULL\n",
    "ORDER BY ANIMAL_ID"
   ]
  },
  {
   "cell_type": "code",
   "execution_count": null,
   "metadata": {},
   "outputs": [],
   "source": [
    "# 이름이 없을 경우\n",
    "SELECT ANIMAL_TYPE, IFNULL(NAME,'No name'), SEX_UPON_INTAKE\n",
    "FROM ANIMAL_INS"
   ]
  },
  {
   "cell_type": "markdown",
   "metadata": {},
   "source": [
    "JOIN"
   ]
  },
  {
   "cell_type": "code",
   "execution_count": null,
   "metadata": {},
   "outputs": [],
   "source": [
    "# 없어진 기록 찾기\n",
    "SELECT OUTS.ANIMAL_ID, OUTS.NAME\n",
    "FROM ANIMAL_OUTS AS OUTS\n",
    "LEFT JOIN ANIMAL_INS AS INS\n",
    "ON OUTS.ANIMAL_ID = INS.ANIMAL_ID\n",
    "WHERE INS.ANIMALL_ID IS NULL\n",
    "ORDER BY OUTS.ANIMAL_ID"
   ]
  },
  {
   "cell_type": "code",
   "execution_count": null,
   "metadata": {},
   "outputs": [],
   "source": [
    "# 있었는데요 없었습니다\n",
    "\n",
    "SELECT O.ANIMAL_ID, O.NAME \n",
    "FROM ANIMAL_OUTS O \n",
    "LEFT JOIN ANIMAL_INS I\n",
    "ON O.ANIMAL_ID = I.ANIMAL_ID\n",
    "WHERE O.DATETIME < I.DATETIME\n",
    "ORDER BY I.DATETIME ASC;"
   ]
  },
  {
   "cell_type": "code",
   "execution_count": null,
   "metadata": {},
   "outputs": [],
   "source": [
    "#오랜 기간 보호한 동물\n",
    "SELECT I.NAME, I.DATETIME\n",
    "FROM ANIMAL_INS AS I\n",
    "LEFT JOIN ANIMAL_OUTS AS O\n",
    "ON I.ANIMAL_ID = O.ANIMAL_ID\n",
    "WHERE O.ANIMAL_ID IS NULL\n",
    "ORDER BY I.DATETIME\n",
    "LIMIT 3"
   ]
  },
  {
   "cell_type": "code",
   "execution_count": null,
   "metadata": {},
   "outputs": [],
   "source": [
    "#보호소에서 중성화한 동물\n",
    "SELECT I.ANIMAL_ID, I.ANIMAL_TYPE, I.NAME\n",
    "FROM ANIMAL_INS AS I\n",
    "LEFT JOIN ANIMAL_OUTS AS O\n",
    "ON I.ANIMAL_ID = O.ANIMAL_ID\n",
    "WHERE I.SEX_UPON_INTAKE LIKE \"%Intact%\" \n",
    "AND O.SEX_UPON_OUTCOME NOT LIKE \"%Intact%\"\n",
    "\n"
   ]
  }
 ],
 "metadata": {
  "language_info": {
   "name": "python"
  },
  "orig_nbformat": 4
 },
 "nbformat": 4,
 "nbformat_minor": 2
}
