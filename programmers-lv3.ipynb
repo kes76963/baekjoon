{
 "cells": [
  {
   "cell_type": "markdown",
   "metadata": {},
   "source": [
    "동적계획법(Dynamic Programming)\n",
    "정수 삼각형"
   ]
  },
  {
   "cell_type": "code",
   "execution_count": null,
   "metadata": {},
   "outputs": [],
   "source": [
    "def solution(triangle):\n",
    "    answer = 0\n",
    "    table = [[0]*len(triangle) for _ in range(len(triangle))]\n",
    "    table[0][0] = triangle[0][0]\n",
    "    \n",
    "    for i in range(0,len(triangle)-1):\n",
    "        for j in range(len(triangle[i])):\n",
    "            table[i+1][j] = max(table[i+1][j],table[i][j]+triangle[i+1][j])\n",
    "            table[i+1][j+1] = max(table[i+1][j+1], table[i][j]+triangle[i+1][j+1])\n",
    "    \n",
    "            \n",
    "    return max(table[-1])"
   ]
  }
 ],
 "metadata": {
  "language_info": {
   "name": "python"
  },
  "orig_nbformat": 4
 },
 "nbformat": 4,
 "nbformat_minor": 2
}
