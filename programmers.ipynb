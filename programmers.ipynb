{
 "cells": [
  {
   "cell_type": "code",
   "execution_count": 18,
   "metadata": {},
   "outputs": [
    {
     "data": {
      "text/plain": [
       "[5, 6, 3]"
      ]
     },
     "execution_count": 18,
     "metadata": {},
     "output_type": "execute_result"
    }
   ],
   "source": [
    "# K번째수\n",
    "def solution(array, commands):\n",
    "    answer = []\n",
    "    for i in range(len(commands)):\n",
    "        \n",
    "        a = array[commands[i][0]-1:commands[i][1]]\n",
    "        a.sort()\n",
    "        answer.append(a[commands[i][2]-1])\n",
    "    return answer\n",
    "\n",
    "array=[1, 5, 2, 6, 3, 7, 4]\t\n",
    "commands =[[2, 5, 3], [4, 4, 1], [1, 7, 3]]\n",
    "solution(array, commands)"
   ]
  },
  {
   "cell_type": "code",
   "execution_count": null,
   "metadata": {},
   "outputs": [],
   "source": [
    "# 124 나라의 숫자\n",
    "def solution(n):\n",
    "    answer = ''\n",
    "    while n > 0 :\n",
    "        n -= 1\n",
    "        answer = '124'[n%3] + answer\n",
    "        n //= 3\n",
    "\n",
    "    return answer"
   ]
  },
  {
   "cell_type": "code",
   "execution_count": null,
   "metadata": {},
   "outputs": [],
   "source": [
    "# 스택/큐 - 기능개발\n",
    "def solution(progresses, speeds):\n",
    "    answer = []\n",
    "    day = []\n",
    "    \n",
    "    for i in range(len(speeds)):\n",
    "        a,b = divmod(100 - progresses[i], speeds[i])\n",
    "        if b > 0 :\n",
    "            a +=1\n",
    "        day.append(a)\n",
    "    # print(day)\n",
    "    \n",
    "    maxd = day[0]\n",
    "    cnt = 1\n",
    "    \n",
    "    for i in range(1,len(day)) :\n",
    "        if day[i] <= maxd :\n",
    "            cnt +=1\n",
    "        else :\n",
    "            maxd = day[i]\n",
    "            answer.append(cnt)\n",
    "            cnt = 1\n",
    "    answer.append(cnt)\n",
    "    \n",
    "    return answer"
   ]
  },
  {
   "cell_type": "markdown",
   "metadata": {},
   "source": [
    "힙 자료 구조 - 힙은 특정한 규칙을 가지는 트리로, 최댓값과 최솟값을 찾는 연산을 빠르게 하기 위해 고안된 완전이진트리를 기본으로 한다\n",
    "\n",
    "heapq.heappush(heap, item) : item을 heap에 추가\n",
    "heapq.heappop(heap) : heap에서 가장 작은 원소를 pop & 리턴. 비어 있는 경우 IndexError가 호출됨. \n",
    "heapq.heapify(x) : 리스트 x를 즉각적으로 heap으로 변환함 (in linear time, O(N) )"
   ]
  },
  {
   "cell_type": "code",
   "execution_count": 2,
   "metadata": {},
   "outputs": [
    {
     "data": {
      "text/plain": [
       "2"
      ]
     },
     "execution_count": 2,
     "metadata": {},
     "output_type": "execute_result"
    }
   ],
   "source": [
    "# 힙(Heap) - 더 맵게\n",
    "def solution(scoville, K):\n",
    "    answer = 0\n",
    "\n",
    "    while True:\n",
    "        scoville.sort(reverse = True)\n",
    "        \n",
    "        if min(scoville) >= K :\n",
    "            return answer\n",
    "        \n",
    "        a = scoville.pop()\n",
    "        b = scoville.pop()*2\n",
    "        scoville.append(a+b)\n",
    "        \n",
    "        answer +=1\n",
    "        \n",
    "    return answer\n",
    "\n",
    "solution([1, 2, 3, 9, 10, 12],7)"
   ]
  },
  {
   "cell_type": "code",
   "execution_count": 1,
   "metadata": {},
   "outputs": [
    {
     "data": {
      "text/plain": [
       "2"
      ]
     },
     "execution_count": 1,
     "metadata": {},
     "output_type": "execute_result"
    }
   ],
   "source": [
    "import heapq\n",
    "def solution(scoville, K):\n",
    "    answer = 0\n",
    "    heapq.heapify(scoville)\n",
    "    \n",
    "    while scoville[0] < K :\n",
    "        if len(scoville) > 1:\n",
    "            heapq.heappush(scoville, heapq.heappop(scoville) + heapq.heappop(scoville)*2)\n",
    "            answer +=1\n",
    "        else :\n",
    "            return -1\n",
    "        \n",
    "    return answer\n",
    "solution([1, 2, 3, 9, 10, 12],7)"
   ]
  },
  {
   "cell_type": "markdown",
   "metadata": {},
   "source": [
    "itertools.product()는 두개 이상의 리스트(or 집합) 끼리의 데카르트 곱(cartesian product)를 계산하여 iterator로 반환\n",
    "itertools.permutations(A,R) 가능한 모든 순서 AC, CA\n",
    "itertools.combinations(A,R) 순서 정렬 AC\n",
    "\n",
    "출처: https://soundprovider.tistory.com/entry/python-itertools [끄적끄적]"
   ]
  },
  {
   "cell_type": "code",
   "execution_count": 8,
   "metadata": {},
   "outputs": [
    {
     "name": "stdout",
     "output_type": "stream",
     "text": [
      "[(1, -1), (1, -1), (1, -1), (1, -1), (1, -1)]\n",
      "[5, 3, 3, 1, 3, 1, 1, -1, 3, 1, 1, -1, 1, -1, -1, -3, 3, 1, 1, -1, 1, -1, -1, -3, 1, -1, -1, -3, -1, -3, -3, -5]\n",
      "5\n"
     ]
    }
   ],
   "source": [
    "from itertools import product\n",
    "l = [(x, -x) for x in [1, 1, 1, 1, 1]]\n",
    "print(l)\n",
    "s = list(map(sum, product(*l)))\n",
    "print(s)\n",
    "print(s.count(3))"
   ]
  },
  {
   "cell_type": "code",
   "execution_count": null,
   "metadata": {},
   "outputs": [],
   "source": [
    "# 깊이/너비 우선 탐색(DFS/BFS) - 타겟 넘버 (재귀 구현)\n",
    "\n",
    "def solution(numbers, target):\n",
    "    \n",
    "    lst1 = [0]\n",
    "    \n",
    "    for i in numbers :\n",
    "        lst2 = []\n",
    "        for j in lst1 :\n",
    "            lst2.append(j+i)\n",
    "            lst2.append(j-i)\n",
    "        lst1 = lst2    \n",
    "    \n",
    "    return lst1.count(target)"
   ]
  },
  {
   "cell_type": "code",
   "execution_count": 10,
   "metadata": {},
   "outputs": [],
   "source": [
    "# 해시 / 전화번호 목록\n",
    "def solution(phone_book):\n",
    "    answer = True\n",
    "    number = list(map(int, phone_book))\n",
    "    number.sort()\n",
    "    phone_book = list(map(str,number))\n",
    "    \n",
    "    for i in range(len(phone_book)):\n",
    "        for j in range(i+1, len(phone_book)):\n",
    "            if phone_book[i] in phone_book[j][:len(phone_book[i])] :\n",
    "                return False\n",
    "    \n",
    "    return answer\n",
    "\n",
    "# 효율성 떨어짐"
   ]
  },
  {
   "cell_type": "code",
   "execution_count": null,
   "metadata": {},
   "outputs": [],
   "source": [
    "def solution(phone_book):\n",
    "    answer = True\n",
    "    phone_book.sort()\n",
    "    \n",
    "    for i in range(len(phone_book)-1):\n",
    "        if len(phone_book[i]) < len(phone_book[i+1]):\n",
    "            if phone_book[i] in phone_book[i+1][:len(phone_book[i])]:\n",
    "                return False\n",
    "    \n",
    "    return answer"
   ]
  },
  {
   "cell_type": "code",
   "execution_count": 20,
   "metadata": {},
   "outputs": [
    {
     "data": {
      "text/plain": [
       "9"
      ]
     },
     "execution_count": 20,
     "metadata": {},
     "output_type": "execute_result"
    }
   ],
   "source": [
    "# 스택/큐 프린터\n",
    "l = [1, 1, 9, 1, 1, 1]\n",
    "lst = [(i,j) for i,j in enumerate(l)] // enumerate => idx, num\n",
    "max(i[1] for i in lst)"
   ]
  },
  {
   "cell_type": "code",
   "execution_count": 31,
   "metadata": {},
   "outputs": [
    {
     "data": {
      "text/plain": [
       "5"
      ]
     },
     "execution_count": 31,
     "metadata": {},
     "output_type": "execute_result"
    }
   ],
   "source": [
    "# 스택/큐 프린터\n",
    "def solution(priorities, location):\n",
    "    answer = 0\n",
    "    lst = [(i,j) for i,j in enumerate(priorities)]\n",
    "    \n",
    "    while True :\n",
    "        p = lst.pop(0)\n",
    "\n",
    "        if (any(p[1]<q[1] for q in lst)):\n",
    "            lst.append(p)\n",
    "        \n",
    "        else :\n",
    "            answer += 1\n",
    "            if p[0] == location :\n",
    "                return answer\n",
    "            \n",
    "solution([1, 1, 9, 1, 1, 1],0)\n",
    "\n",
    "# 런타임에러"
   ]
  },
  {
   "cell_type": "code",
   "execution_count": 24,
   "metadata": {},
   "outputs": [
    {
     "name": "stdout",
     "output_type": "stream",
     "text": [
      "[(0, 1), (1, 1), (2, 9), (3, 1), (4, 1), (5, 1)]\n",
      "[(1, 1), (2, 9), (3, 1), (4, 1), (5, 1)]\n",
      "[(2, 9), (3, 1), (4, 1), (5, 1), (0, 1)]\n",
      "[(3, 1), (4, 1), (5, 1), (0, 1), (1, 1)]\n",
      "[(4, 1), (5, 1), (0, 1), (1, 1)]\n",
      "[(5, 1), (0, 1), (1, 1)]\n",
      "[(0, 1), (1, 1)]\n",
      "[(1, 1)]\n"
     ]
    },
    {
     "data": {
      "text/plain": [
       "5"
      ]
     },
     "execution_count": 24,
     "metadata": {},
     "output_type": "execute_result"
    }
   ],
   "source": [
    "def solution(priorities, location):\n",
    "    answer = 0 \n",
    "    queue = [(i,p) for i ,p in enumerate(priorities)] \n",
    "    print(queue) \n",
    "    while True: \n",
    "        cur=queue.pop(0) \n",
    "        print(queue) \n",
    "        if (any(cur[1]<q[1] for q in queue)): \n",
    "            queue.append(cur) \n",
    "        else: \n",
    "            answer+=1 \n",
    "            if cur[0] == location: \n",
    "                return answer\n",
    "            \n",
    "solution([1, 1, 9, 1, 1, 1],0)"
   ]
  },
  {
   "cell_type": "code",
   "execution_count": 43,
   "metadata": {},
   "outputs": [
    {
     "data": {
      "text/plain": [
       "['0', '3', '3232', '333', '343434', '5', '9']"
      ]
     },
     "execution_count": 43,
     "metadata": {},
     "output_type": "execute_result"
    }
   ],
   "source": [
    "# 정렬 가장 큰 수\n",
    "\n",
    "lst = [0,3,3232,343434,333, 5, 9]\n",
    "lst = list(map(str, lst))\n",
    "lst.sort()\n",
    "lst"
   ]
  },
  {
   "cell_type": "code",
   "execution_count": 46,
   "metadata": {},
   "outputs": [
    {
     "data": {
      "text/plain": [
       "'3303459'"
      ]
     },
     "execution_count": 46,
     "metadata": {},
     "output_type": "execute_result"
    }
   ],
   "source": [
    "def solution(numbers):\n",
    "    numbers = list(map(str, numbers)) #수를 문자열로 바꿈\n",
    "    # lst = [(i,j*3) for i,j in enumerate(numbers)]\n",
    "    # print(lst)\n",
    "    numbers.sort(key=lambda x : x*3, reverse=True)\n",
    "    return str(int(''.join(numbers)))\n",
    "\n",
    "solution([3, 30, 34, 5, 9])"
   ]
  },
  {
   "cell_type": "code",
   "execution_count": 48,
   "metadata": {},
   "outputs": [
    {
     "data": {
      "text/plain": [
       "12"
      ]
     },
     "execution_count": 48,
     "metadata": {},
     "output_type": "execute_result"
    }
   ],
   "source": [
    "s ='012'\n",
    "int(s)"
   ]
  },
  {
   "cell_type": "code",
   "execution_count": null,
   "metadata": {},
   "outputs": [],
   "source": [
    "#소수 찾기\n",
    "from itertools import permutations #가능한 모든 순서\n",
    "import math\n",
    "\n",
    "def solution(numbers):\n",
    "    \n",
    "    def finder(n):\n",
    "        if n < 2 :\n",
    "            return False\n",
    "        for i in range(2,int(math.sqrt(n))+1):\n",
    "            if n % i == 0 :\n",
    "                return False\n",
    "        return True\n",
    "                \n",
    "    answer = 0            \n",
    "    num = [n for n in numbers]\n",
    "    per = []\n",
    "    for i in range(1, len(num)+1): # numbers의 각 숫자들을 순열로 모든 경우 만들기\n",
    "        per += permutations(num,i)\n",
    "    new_num = [int(''.join(x)) for x in per]\n",
    "    new_num = list(set(new_num))\n",
    "    print(new_num)\n",
    "    \n",
    "    for n in new_num:       \n",
    "        if finder(n):\n",
    "            answer +=1\n",
    "    \n",
    "    return answer"
   ]
  },
  {
   "cell_type": "code",
   "execution_count": 60,
   "metadata": {},
   "outputs": [
    {
     "name": "stdout",
     "output_type": "stream",
     "text": [
      "1 0 2\n",
      "2 0 3\n",
      "3 0 4\n",
      "3 1 5\n",
      "3 2 6\n",
      "2 2 7\n",
      "2 3 8\n",
      "1 2 8\n",
      "2 4 9\n",
      "0 2 9\n",
      "3 4 10\n",
      "1 4 10\n",
      "0 3 10\n"
     ]
    },
    {
     "data": {
      "text/plain": [
       "11"
      ]
     },
     "execution_count": 60,
     "metadata": {},
     "output_type": "execute_result"
    }
   ],
   "source": [
    "#길찾기 bfs\n",
    "from collections import deque\n",
    "\n",
    "def bfs(start, maps):\n",
    "    dirs = [(0,1),(1,0),(0,-1),(-1,0)]\n",
    "    queue = deque()\n",
    "    queue.append(start)\n",
    "    while queue:\n",
    "        y, x, cnt = queue.popleft()\n",
    "        maps[y][x] = 0\n",
    "        for dy, dx in dirs:\n",
    "            ny, nx = y + dy, x + dx\n",
    "            \n",
    "            # 현재 위치에서 다음 위치로 이동했을 때 목적지면, \n",
    "            # 지금까지의 count + 1을 반환한다.\n",
    "            if ny == len(maps)-1 and nx == len(maps[0])-1:\n",
    "                return cnt + 1\n",
    "            \n",
    "            # visited 사용할 필요 없이, 한번 온 길을 다시 돌아갈 수 없게\n",
    "            # maps의 해당 좌표값을 0으로 만들면 된다.\n",
    "            elif 0 <= ny < len(maps) and 0 <= nx < len(maps[0]) and maps[ny][nx] == 1:\n",
    "                maps[ny][nx] = 0 #각 노드마다 가는 길이 다르기 때문에 미리 차단\n",
    "                queue.append((ny, nx, cnt+1))\n",
    "                print(ny,nx,cnt+1)\n",
    "            \n",
    "    return -1    \n",
    "    \n",
    "def solution(maps):\n",
    "    # 현재 위치도 칸 1개를 차지하므로, count를 1부터 시작한다.\n",
    "    return bfs((0,0,1), maps)\n",
    "\n",
    "solution([[1,0,1,1,1],[1,0,1,0,1],[1,0,1,1,1],[1,1,1,0,1],[0,0,0,0,1]])\n"
   ]
  },
  {
   "cell_type": "code",
   "execution_count": 62,
   "metadata": {},
   "outputs": [
    {
     "data": {
      "text/plain": [
       "11"
      ]
     },
     "execution_count": 62,
     "metadata": {},
     "output_type": "execute_result"
    }
   ],
   "source": [
    "from collections import deque\n",
    "def solution(maps):\n",
    "    answer = 0 #0벽, 1길\n",
    "    queue = deque([[0,0]])\n",
    "    n = len(maps)\n",
    "    m = len(maps[0])\n",
    "    d = [(1,0),(-1,0),(0,1),(0,-1)] #방향\n",
    "    while queue:\n",
    "        x,y = queue.popleft()\n",
    "        \n",
    "        for dx,dy in d:\n",
    "            xx = x+dx\n",
    "            yy = y+dy\n",
    "            if 0<=xx<n and 0<=yy<m and maps[xx][yy]==1:\n",
    "                queue.append([xx,yy])\n",
    "                maps[xx][yy] = maps[x][y]+1\n",
    "    if maps[n-1][m-1]!=1:\n",
    "        return maps[n-1][m-1]\n",
    "    else:\n",
    "        return -1\n",
    "    \n",
    "solution([[1,0,1,1,1],[1,0,1,0,1],[1,0,1,1,1],[1,1,1,0,1],[0,0,0,0,1]])"
   ]
  },
  {
   "cell_type": "code",
   "execution_count": null,
   "metadata": {},
   "outputs": [],
   "source": [
    "# 다음 큰 숫자\n",
    "def solution(n):\n",
    "    \n",
    "    num1 = bin(n).count('1')\n",
    "    \n",
    "    for i in range(n+1,1000001):\n",
    "        if bin(i).count('1') == num1 :\n",
    "            return i"
   ]
  },
  {
   "cell_type": "code",
   "execution_count": null,
   "metadata": {},
   "outputs": [],
   "source": [
    "# 땅따먹기 DP / 점화식\n",
    "def solution(land):\n",
    "    n = len(land)-1\n",
    "    for i in range(n):\n",
    "        land[i+1][0] += max(land[i][1], land[i][2], land[i][3])\n",
    "        land[i+1][1] += max(land[i][0], land[i][2], land[i][3])\n",
    "        land[i+1][2] += max(land[i][0], land[i][1], land[i][3])\n",
    "        land[i+1][3] += max(land[i][0], land[i][1], land[i][2])\n",
    "    return max(land[n][0], land[n][1], land[n][2], land[n][3])"
   ]
  },
  {
   "cell_type": "code",
   "execution_count": null,
   "metadata": {},
   "outputs": [],
   "source": [
    "# finn 숫자의 표현  / 완전탐색\n",
    "def solution(n):\n",
    "    answer = 0\n",
    "    if n < 3 :\n",
    "        return 1\n",
    "    lst = [i for i in range(1,n+1)]\n",
    "    for i in range(0,n//2+1): \n",
    "        for j in range(i,n//2+2): \n",
    "            if sum(lst[i:j]) == n:\n",
    "                answer += 1\n",
    "    return answer +1\n",
    "\n",
    "# 시간 초과\n",
    "\n",
    "\n",
    "def solution(n):\n",
    "    answer = 0\n",
    "    if n < 3 :\n",
    "        return 1\n",
    "    \n",
    "    for i in range(1,n//2+1): \n",
    "        sum = 0\n",
    "        for j in range(i,n//2+2): \n",
    "            sum += j\n",
    "            if sum == n :\n",
    "                answer += 1\n",
    "                break\n",
    "            elif sum > n :\n",
    "                break\n",
    "    return answer + 1"
   ]
  },
  {
   "cell_type": "code",
   "execution_count": null,
   "metadata": {},
   "outputs": [],
   "source": [
    "# 지뢰찾기 dfs \n",
    "from collections import deque\n",
    "\n",
    "def solution(map):\n",
    "    d = [(-1,-1),(-1,0),(-1,1),(0,-1),(0,1),(1,-1),(1,0),(1,1)]\n",
    "    queue = deque()\n",
    "    queue.append((0,0))\n",
    "    mine = [['_']*len(map[0]) for _ in range(len(map))]\n",
    "    while queue :\n",
    "        y, x = queue.leftpop(0)\n",
    "        cnt = 0\n",
    "        \n",
    "        if map[y][x] == '*' :\n",
    "            mine[y][x] = '*'\n",
    "            continue\n",
    "        \n",
    "        elif map[y][x] != '_' :\n",
    "        \n",
    "            for dy, dx in d :\n",
    "                ny = y + dy\n",
    "                nx = x + dx\n",
    "                \n",
    "                if 0<= ny < len(map) and 0 <= nx < len(map[0]) :\n",
    "                    if map[ny][nx] == '*' :\n",
    "                        cnt +=1\n",
    "                    elif map[ny][nx] == '_' :\n",
    "                        queue.append((ny,nx))\n",
    "                mine[y][x] = cnt\n",
    "            \n",
    "            \n",
    "    "
   ]
  },
  {
   "cell_type": "code",
   "execution_count": 63,
   "metadata": {},
   "outputs": [
    {
     "data": {
      "text/plain": [
       "[[0, 0, 0], [0, 0, 0], [0, 0, 0]]"
      ]
     },
     "execution_count": 63,
     "metadata": {},
     "output_type": "execute_result"
    }
   ],
   "source": [
    "mine = [[0]*3 for _ in range(3)]\n",
    "mine"
   ]
  },
  {
   "cell_type": "code",
   "execution_count": null,
   "metadata": {},
   "outputs": [],
   "source": [
    "# 최대 최소\n",
    "def solution(s):\n",
    "    s = s.split(' ')\n",
    "    s = list(map(int, s))\n",
    "    min_ = min(s)\n",
    "    max_ = max(s)\n",
    "    answer  = f'{min_} {max_}'\n",
    "    return answer"
   ]
  },
  {
   "cell_type": "code",
   "execution_count": null,
   "metadata": {},
   "outputs": [],
   "source": [
    "# 최솟값 만들기\n",
    "def solution(A,B):\n",
    "    answer = 0\n",
    "    A = sorted(A)\n",
    "    B = sorted(B, reverse=True)\n",
    "\n",
    "    answer = sum([a * b for a, b in zip(A, B)])\n",
    "    return answer"
   ]
  },
  {
   "cell_type": "code",
   "execution_count": null,
   "metadata": {},
   "outputs": [],
   "source": [
    "# 행렬의 곱셈 \n",
    "def solution(arr1, arr2):\n",
    "    answer = []\n",
    "    for i in range(len(arr1)) :\n",
    "        lst = []\n",
    "        for j in range(len(arr2[0])):\n",
    "            sum =0\n",
    "            for k in range(len(arr2)) :\n",
    "                sum += arr1[i][k] * arr2[k][j]\n",
    "\n",
    "            lst.append(sum)\n",
    "        answer.append(lst)    \n",
    "            \n",
    "    \n",
    "    return answer"
   ]
  },
  {
   "cell_type": "code",
   "execution_count": null,
   "metadata": {},
   "outputs": [],
   "source": [
    "# 피보나치 수열\n",
    "def solution(n):\n",
    "    answer = [0,1]\n",
    "    for i in range(2,n+1):\n",
    "        answer.append((answer[i-1]+answer[i-2])%1234567)\n",
    "    \n",
    "    return answer[-1]"
   ]
  },
  {
   "cell_type": "code",
   "execution_count": null,
   "metadata": {},
   "outputs": [],
   "source": [
    "# h-index\n",
    "def solution(citations):\n",
    "    \n",
    "    cit = len(citations)\n",
    "    citations.sort()\n",
    "    \n",
    "    for i in range(cit-1) : \n",
    "        if citations[i] >= cit-i :\n",
    "            return cit-i\n",
    "    return 0"
   ]
  },
  {
   "cell_type": "code",
   "execution_count": null,
   "metadata": {},
   "outputs": [],
   "source": [
    "#완전탐색 - 카펫\n",
    "def solution(brown, yellow):\n",
    "    by = brown + yellow\n",
    "    for i in range(by//2,2,-1) : #3까지 가로 \n",
    "        a,b = divmod(by,i)\n",
    "        if b == 0 :\n",
    "            if yellow == (i-2)*(a-2):\n",
    "                return [i,a]"
   ]
  }
 ],
 "metadata": {
  "interpreter": {
   "hash": "19a2027c367e4a8fbf50703f7b521df71edff403eb9eba2200ef5f1febf03a5b"
  },
  "kernelspec": {
   "display_name": "Python 3.7.11 64-bit ('exam_cv2': conda)",
   "language": "python",
   "name": "python3"
  },
  "language_info": {
   "codemirror_mode": {
    "name": "ipython",
    "version": 3
   },
   "file_extension": ".py",
   "mimetype": "text/x-python",
   "name": "python",
   "nbconvert_exporter": "python",
   "pygments_lexer": "ipython3",
   "version": "3.7.11"
  },
  "orig_nbformat": 4
 },
 "nbformat": 4,
 "nbformat_minor": 2
}
