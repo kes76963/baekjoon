{
 "cells": [
  {
   "cell_type": "code",
   "execution_count": null,
   "metadata": {},
   "outputs": [],
   "source": [
    "# 2309\n",
    "lst = [int(input()) for _ in range(9)]\n",
    "total = sum(lst)\n",
    "\n",
    "for i in range(8) :\n",
    "    for j in range(i+1, 9) :\n",
    "        if total - (lst[i] + lst[j]) == 100 :\n",
    "            one = lst[i]\n",
    "            two = lst[j]\n",
    "            lst.remove(one)\n",
    "            lst.remove(two)\n",
    "            lst.sort()\n",
    "            for l in lst :\n",
    "                print(l)\n",
    "            exit()\n",
    "            #break 는 밖에 for문은 못 나온다 \n"
   ]
  },
  {
   "cell_type": "code",
   "execution_count": null,
   "metadata": {},
   "outputs": [],
   "source": [
    "from itertools import combinations\n",
    "\n",
    "lst = [int(input()) for _ in range(9)]\n",
    "lst.sort()\n",
    "com = list(combinations(lst,2))\n",
    "for i in com :\n",
    "    if sum(i) == 100 :\n",
    "        answer = list(i)\n",
    "        break\n",
    "    \n",
    "for a in answer :\n",
    "    print(a)\n",
    "    \n",
    "        "
   ]
  },
  {
   "cell_type": "code",
   "execution_count": 4,
   "metadata": {},
   "outputs": [
    {
     "data": {
      "text/plain": [
       "[(1, 2, 3),\n",
       " (1, 2, 4),\n",
       " (1, 2, 5),\n",
       " (1, 3, 4),\n",
       " (1, 3, 5),\n",
       " (1, 4, 5),\n",
       " (2, 3, 4),\n",
       " (2, 3, 5),\n",
       " (2, 4, 5),\n",
       " (3, 4, 5)]"
      ]
     },
     "execution_count": 4,
     "metadata": {},
     "output_type": "execute_result"
    }
   ],
   "source": [
    "from itertools import combinations\n",
    "lst = [1,2,3,4,5]\n",
    "com = list(combinations(lst,3))\n",
    "com"
   ]
  },
  {
   "cell_type": "code",
   "execution_count": 7,
   "metadata": {},
   "outputs": [
    {
     "name": "stdout",
     "output_type": "stream",
     "text": [
      "198\n"
     ]
    }
   ],
   "source": [
    "# 2231\n",
    "n = int(input())\n",
    "\n",
    "for i in range(1,n+1):\n",
    "    lst = []\n",
    "    for j in str(i):\n",
    "        lst.append(int(j))\n",
    "    total = i + sum(lst)\n",
    "    if total == n :\n",
    "        print(i)\n",
    "        break\n",
    "    if i == n :\n",
    "        print(0)"
   ]
  },
  {
   "cell_type": "code",
   "execution_count": null,
   "metadata": {},
   "outputs": [],
   "source": [
    "# 3085 /////\n",
    "\n",
    "\n",
    "def search():\n",
    "    ans = 1\n",
    "    for i in range(n):\n",
    "        cnt = 1\n",
    "        for j in range(n-1):\n",
    "            if arr[i][j] == arr[i][j+1]:\n",
    "                cnt +=1\n",
    "                ans= max(cnt,ans)\n",
    "            else :\n",
    "                cnt=1\n",
    "    for i in range(n):\n",
    "        cnt = 1\n",
    "        for j in range(n-1):\n",
    "            if arr[j][i] == arr[j+1][i]:\n",
    "                cnt +=1\n",
    "                ans = max(cnt,ans)\n",
    "            else :\n",
    "                cnt =1\n",
    "    return ans\n",
    "              \n",
    "n = int(input())   \n",
    "arr = [list(input()) for _ in range(n)]\n",
    "ans1=1\n",
    "ans2=1\n",
    "#가로\n",
    "for i in range(n):\n",
    "    for j in range(n-1):\n",
    "        arr[i][j], arr[i][j+1] = arr[i][j+1], arr[i][j] \n",
    "        ans1 = max(ans1,search())\n",
    "        arr[i][j], arr[i][j+1] = arr[i][j+1], arr[i][j]\n",
    "        \n",
    "#세로        \n",
    "for i in range(n):\n",
    "    for j in range(n-1):\n",
    "        arr[j][i], arr[j+1][i] = arr[j+1][i], arr[j][i] \n",
    "        ans2 = max(ans2,search())\n",
    "        arr[j][i], arr[j+1][i] = arr[j+1][i], arr[j][i] \n",
    "        \n",
    "        \n",
    "print(max(ans1,ans2))"
   ]
  },
  {
   "cell_type": "code",
   "execution_count": 29,
   "metadata": {},
   "outputs": [
    {
     "name": "stdout",
     "output_type": "stream",
     "text": [
      "45\n"
     ]
    }
   ],
   "source": [
    "# 10448\n",
    "for i in range(100):\n",
    "    if i*(i+1) > 2000:\n",
    "        print(i)\n",
    "        break\n",
    "        "
   ]
  },
  {
   "cell_type": "code",
   "execution_count": 31,
   "metadata": {},
   "outputs": [
    {
     "name": "stdout",
     "output_type": "stream",
     "text": [
      "1\n",
      "0\n",
      "1\n"
     ]
    }
   ],
   "source": [
    "lst = [i*(i+1)//2 for i in range(1,46)]\n",
    "eureka = [0]*1001\n",
    "\n",
    "for i in lst :\n",
    "    for j in lst :\n",
    "        for k in lst :\n",
    "            if i + j + k <= 1000 :\n",
    "                eureka[i+j+k] = 1\n",
    "\n",
    "t = int(input())\n",
    "for _ in range(t):\n",
    "    print(eureka[int(input())])"
   ]
  },
  {
   "cell_type": "code",
   "execution_count": 37,
   "metadata": {},
   "outputs": [
    {
     "name": "stdout",
     "output_type": "stream",
     "text": [
      "2\n"
     ]
    }
   ],
   "source": [
    "# 2503 ///\n",
    "import itertools\n",
    "\n",
    "data = [str(i) for i in range(1,10)]\n",
    "num = list(itertools.permutations(data,3))\n",
    "\n",
    "n = int(input())\n",
    "for _ in range(n):\n",
    "    a,s,b = map(int, input().split())\n",
    "    a = list(str(a))\n",
    "    cnt = 0\n",
    "    for i in range(len(num)):\n",
    "        strike = ball = 0\n",
    "        i -= cnt\n",
    "        for j in range(3):\n",
    "            if num[i][j] == a[j]:\n",
    "                strike +=1\n",
    "            elif a[j] in num[i] :\n",
    "                ball +=1\n",
    "        if (strike != s) or (ball !=b):\n",
    "            num.remove(num[i])\n",
    "            cnt +=1\n",
    "            \n",
    "print(len(num))\n",
    "        \n"
   ]
  },
  {
   "cell_type": "code",
   "execution_count": null,
   "metadata": {},
   "outputs": [],
   "source": [
    "#1018 ///\n",
    "n, m = map(int, input().split())\n",
    "l = []\n",
    "mini = []\n",
    "\n",
    "for _ in range(n):\n",
    "    l.append(input())\n",
    "\n",
    "for a in range(n - 7):\n",
    "    for i in range(m - 7):\n",
    "        idx1 = 0\n",
    "        idx2 = 0\n",
    "        for b in range(a, a + 8):\n",
    "            for j in range(i, i + 8):              # 8X8 범위를 B와 W로 번갈아가면서 검사\n",
    "                if (j + b)%2 == 0:\n",
    "                    if l[b][j] != 'W': idx1 += 1  \n",
    "                    if l[b][j] != 'B': idx2 += 1\n",
    "                else :\n",
    "                    if l[b][j] != 'B': idx1 += 1\n",
    "                    if l[b][j] != 'W': idx2 += 1\n",
    "        mini.append(idx1)                          # W로 시작했을 때 칠해야 할 부분\n",
    "        mini.append(idx2)                          # B로 시작했을 때 칠해야 할 부분\n",
    "\n",
    "print(min(mini))                                   # 칠해야 하는 개수의 최소값\n"
   ]
  },
  {
   "cell_type": "code",
   "execution_count": 38,
   "metadata": {},
   "outputs": [
    {
     "name": "stdout",
     "output_type": "stream",
     "text": [
      "1\n"
     ]
    }
   ],
   "source": [
    "# 1182\n",
    "import itertools\n",
    "n, s = map(int, input().split())\n",
    "arr = list(map(int, input().split()))\n",
    "cnt = 0\n",
    "for i in range(1,n+1):\n",
    "    comb = itertools.combinations(arr, i)\n",
    "    \n",
    "    for x in comb :\n",
    "        if sum(x) == s :\n",
    "            cnt+=1\n",
    "\n",
    "print(cnt)\n"
   ]
  }
 ],
 "metadata": {
  "interpreter": {
   "hash": "19a2027c367e4a8fbf50703f7b521df71edff403eb9eba2200ef5f1febf03a5b"
  },
  "kernelspec": {
   "display_name": "Python 3.7.11 64-bit ('exam_cv2': conda)",
   "name": "python3"
  },
  "language_info": {
   "codemirror_mode": {
    "name": "ipython",
    "version": 3
   },
   "file_extension": ".py",
   "mimetype": "text/x-python",
   "name": "python",
   "nbconvert_exporter": "python",
   "pygments_lexer": "ipython3",
   "version": "3.7.11"
  },
  "orig_nbformat": 4
 },
 "nbformat": 4,
 "nbformat_minor": 2
}
