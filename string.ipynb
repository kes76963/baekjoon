{
 "cells": [
  {
   "cell_type": "code",
   "execution_count": 3,
   "source": [
    "from string import ascii_lowercase\r\n",
    "\r\n",
    "abc = list(ascii_lowercase)"
   ],
   "outputs": [],
   "metadata": {}
  },
  {
   "cell_type": "code",
   "execution_count": 6,
   "source": [
    "string_list = ['A','B','C']\r\n",
    "dictionary = {string : 0 for string in string_list}\r\n",
    "# dictionary = dict.fromkeys(string_list,0)\r\n",
    "print(dictionary)\r\n"
   ],
   "outputs": [
    {
     "output_type": "stream",
     "name": "stdout",
     "text": [
      "{'A': 0, 'B': 0, 'C': 0}\n"
     ]
    }
   ],
   "metadata": {}
  },
  {
   "cell_type": "code",
   "execution_count": 8,
   "source": [
    "string_list = ['A','B','C']\r\n",
    "int_list = [1, 2, 3]\r\n",
    "dictionary = dict(zip(string_list, int_list))\r\n",
    "print(dictionary)"
   ],
   "outputs": [
    {
     "output_type": "stream",
     "name": "stdout",
     "text": [
      "{'A': 1, 'B': 2, 'C': 3}\n"
     ]
    }
   ],
   "metadata": {}
  },
  {
   "cell_type": "code",
   "execution_count": 16,
   "source": [
    "#10808\r\n",
    "\r\n",
    "from string import ascii_lowercase\r\n",
    "\r\n",
    "az = list(ascii_lowercase)\r\n",
    "dic = {a:0 for a in az}\r\n",
    "S = input()\r\n",
    "\r\n",
    "for i in S :\r\n",
    "    dic[i] += 1\r\n",
    "\r\n",
    "for d in dic.values() :\r\n",
    "    print(d, end=' ')"
   ],
   "outputs": [
    {
     "output_type": "stream",
     "name": "stdout",
     "text": [
      "1 0 1 1 2 0 0 0 0 1 0 0 0 0 0 0 0 0 2 0 0 0 3 0 0 0 "
     ]
    }
   ],
   "metadata": {}
  },
  {
   "cell_type": "code",
   "execution_count": 3,
   "source": [
    "#10809\r\n",
    "from string import ascii_lowercase\r\n",
    "\r\n",
    "az = list(ascii_lowercase)\r\n",
    "dic = {a:-1 for a in az}\r\n",
    "# S = input()\r\n",
    "S= 'baekjoon'\r\n",
    "\r\n",
    "for i in range(len(S)) :\r\n",
    "    eng = S[i]\r\n",
    "    if dic[eng] == -1 :\r\n",
    "        dic[eng] = i\r\n",
    "\r\n",
    "for d in dic.values():\r\n",
    "    print(d, end=' ')\r\n",
    "    \r\n",
    "    "
   ],
   "outputs": [
    {
     "output_type": "stream",
     "name": "stdout",
     "text": [
      "1 0 -1 -1 2 -1 -1 -1 -1 4 3 -1 -1 7 5 -1 -1 -1 -1 -1 -1 -1 -1 -1 -1 -1 "
     ]
    }
   ],
   "metadata": {}
  },
  {
   "cell_type": "code",
   "execution_count": null,
   "source": [
    "#10820\r\n",
    "import re\r\n",
    "import sys\r\n",
    "while True :\r\n",
    "    s = sys.stdin.readline().rstrip('\\n')\r\n",
    "    if not s :\r\n",
    "        break\r\n",
    "    \r\n",
    "    space, low, up, num = 0,0,0,0\r\n",
    "\r\n",
    "    space = len(s) - len(s.replace(' ',''))\r\n",
    "    num = len(s) - len(re.sub('[0-9]','',s))\r\n",
    "    low = len(s) - len(re.sub('[a-z]','',s))\r\n",
    "    up = len(s) - len(re.sub('[A-Z]','',s))\r\n",
    "    \r\n",
    "    print(low, up, num, space)\r\n",
    "    \r\n",
    "\"\"\"\r\n",
    "# 다른 사람\r\n",
    "islower()\r\n",
    "isupper()\r\n",
    "isdigit()\r\n",
    "issapce\r\n",
    "\r\n",
    "예전에 했던 야매 안 써도 되는구나.. isalpha\r\n",
    "\"\"\""
   ],
   "outputs": [],
   "metadata": {}
  },
  {
   "cell_type": "code",
   "execution_count": null,
   "source": [
    "#2743\r\n",
    "S = input()\r\n",
    "print(len(S))"
   ],
   "outputs": [],
   "metadata": {}
  },
  {
   "cell_type": "code",
   "execution_count": 28,
   "source": [
    "#11655\r\n",
    "s = 'One is 1'\r\n",
    "\r\n",
    "import string \r\n",
    "s = input()\r\n",
    "abc = (string.ascii_lowercase) *2\r\n",
    "\r\n",
    "result = ''\r\n",
    "for i in s:\r\n",
    "    if i.islower():\r\n",
    "        result += abc[abc.index(i)+13]\r\n",
    "        \r\n",
    "    elif i.isupper():\r\n",
    "        result += abc[abc.index(i.lower())+13].upper()\r\n",
    "\r\n",
    "    else :\r\n",
    "        result += i\r\n",
    "\r\n",
    "print(result)\r\n",
    "#136ms\r\n",
    "\r\n",
    "\"\"\"\r\n",
    "s = input()\r\n",
    "abc = 'abcdefghijklmnopqrstuvwxyz' *2\r\n",
    "\r\n",
    "result = ''\r\n",
    "for i in s:\r\n",
    "    if i.islower():\r\n",
    "        result += abc[abc.index(i)+13]\r\n",
    "        \r\n",
    "    elif i.isupper():\r\n",
    "        result += abc[abc.index(i.lower())+13].upper()\r\n",
    "\r\n",
    "    else :\r\n",
    "        result += i\r\n",
    "\r\n",
    "print(result)\r\n",
    "#68ms\r\n",
    "\r\n",
    "\r\n",
    "s = input()\r\n",
    "abc = 'abcdefghijklmnopqrstuvwxyzabcdefghijklmnopqrstuvwxyz'\r\n",
    "\r\n",
    "result = ''\r\n",
    "for i in s:\r\n",
    "    if i.islower():\r\n",
    "        result += abc[abc.index(i)+13]\r\n",
    "        \r\n",
    "    elif i.isupper():\r\n",
    "        result += abc[abc.index(i.lower())+13].upper()\r\n",
    "\r\n",
    "    else :\r\n",
    "        result += i\r\n",
    "\r\n",
    "print(result)\r\n",
    "#72ms\r\n",
    "\r\n",
    "\r\n",
    "s = input()\r\n",
    "abc = 'abcdefghijklmnopqrstuvwxyz'\r\n",
    "result = ''\r\n",
    "\r\n",
    "for i in s:\r\n",
    "    if i.islower():\r\n",
    "        result += abc[(abc.index(i)+13)%26]\r\n",
    "        \r\n",
    "    elif i.isupper():\r\n",
    "        result += abc[(abc.index(i.lower())+13)%26].upper()\r\n",
    "\r\n",
    "    else :\r\n",
    "        result += i\r\n",
    "\r\n",
    "print(result)\r\n",
    "#68ms\r\n",
    "\r\n",
    "\r\n",
    "import sys\r\n",
    "s = sys.stdin.readline()\r\n",
    "abc = 'abcdefghijklmnopqrstuvwxyz' *2\r\n",
    "\r\n",
    "result = ''\r\n",
    "for i in s:\r\n",
    "    if i.islower():\r\n",
    "        result += abc[abc.index(i)+13]\r\n",
    "        \r\n",
    "    elif i.isupper():\r\n",
    "        result += abc[abc.index(i.lower())+13].upper()\r\n",
    "\r\n",
    "    else :\r\n",
    "        result += i\r\n",
    "\r\n",
    "print(result)\r\n",
    "\r\n",
    "\"\"\"\r\n"
   ],
   "outputs": [
    {
     "output_type": "stream",
     "name": "stdout",
     "text": [
      "Bar vf 1\n"
     ]
    }
   ],
   "metadata": {}
  },
  {
   "cell_type": "code",
   "execution_count": null,
   "source": [
    "#10824\r\n",
    "import sys\r\n",
    "a = sys.stdin.readline.split()\r\n",
    "print(int(a[0]+a[1])+int(a[2]+a[3]))"
   ],
   "outputs": [],
   "metadata": {}
  },
  {
   "cell_type": "code",
   "execution_count": 32,
   "source": [
    "# 11656\r\n",
    "s = 'baekjoon'\r\n",
    "s = input()\r\n",
    "lst = []\r\n",
    "for i in range(len(s)) :\r\n",
    "    lst.append(s[i:])\r\n",
    "\r\n",
    "for j in sorted(lst):\r\n",
    "    print(j)\r\n",
    "    "
   ],
   "outputs": [
    {
     "output_type": "stream",
     "name": "stdout",
     "text": [
      "aekjoon\n",
      "baekjoon\n",
      "ekjoon\n",
      "joon\n",
      "kjoon\n",
      "n\n",
      "on\n",
      "oon\n"
     ]
    }
   ],
   "metadata": {}
  },
  {
   "cell_type": "code",
   "execution_count": null,
   "source": [],
   "outputs": [],
   "metadata": {}
  }
 ],
 "metadata": {
  "orig_nbformat": 4,
  "language_info": {
   "name": "python",
   "version": "3.7.11",
   "mimetype": "text/x-python",
   "codemirror_mode": {
    "name": "ipython",
    "version": 3
   },
   "pygments_lexer": "ipython3",
   "nbconvert_exporter": "python",
   "file_extension": ".py"
  },
  "kernelspec": {
   "name": "python3",
   "display_name": "Python 3.7.11 64-bit ('exam_cv2': conda)"
  },
  "interpreter": {
   "hash": "19a2027c367e4a8fbf50703f7b521df71edff403eb9eba2200ef5f1febf03a5b"
  }
 },
 "nbformat": 4,
 "nbformat_minor": 2
}